{
 "cells": [
  {
   "cell_type": "markdown",
   "metadata": {},
   "source": [
    "## 建立詞頻矩陣"
   ]
  },
  {
   "cell_type": "code",
   "execution_count": 1,
   "metadata": {},
   "outputs": [],
   "source": [
    "s = ['柯文哲為了大巨蛋一事找趙藤雄算帳',\n",
    "     '柯P因為遠雄遲遲無法處理大巨蛋一事，因此在法庭上與趙藤雄對簿公堂',\n",
    "     '大巨蛋今天舉辦世運會']"
   ]
  },
  {
   "cell_type": "code",
   "execution_count": 10,
   "metadata": {},
   "outputs": [],
   "source": [
    "import jieba"
   ]
  },
  {
   "cell_type": "code",
   "execution_count": 17,
   "metadata": {},
   "outputs": [],
   "source": [
    "jieba.load_userdict('userdict.txt')"
   ]
  },
  {
   "cell_type": "code",
   "execution_count": 18,
   "metadata": {},
   "outputs": [],
   "source": [
    "corpus = []\n",
    "for a in s:\n",
    "    corpus.append(' '.join(jieba.cut(a)))"
   ]
  },
  {
   "cell_type": "code",
   "execution_count": 19,
   "metadata": {},
   "outputs": [
    {
     "data": {
      "text/plain": [
       "['柯文哲 為 了 大巨蛋 一事 找 趙藤雄 算帳',\n",
       " '柯P 因 為 遠雄 遲遲 無法 處理 大巨蛋 一事 ， 因此 在 法庭 上 與 趙藤雄 對簿 公堂',\n",
       " '大巨蛋 今天 舉辦 世運會']"
      ]
     },
     "execution_count": 19,
     "metadata": {},
     "output_type": "execute_result"
    }
   ],
   "source": [
    "corpus"
   ]
  },
  {
   "cell_type": "code",
   "execution_count": 22,
   "metadata": {},
   "outputs": [],
   "source": [
    "from sklearn.feature_extraction.text import CountVectorizer\n",
    "vectorizer = CountVectorizer()\n",
    "X = vectorizer.fit_transform(corpus)"
   ]
  },
  {
   "cell_type": "code",
   "execution_count": 27,
   "metadata": {},
   "outputs": [
    {
     "name": "stdout",
     "output_type": "stream",
     "text": [
      "['一事', '世運會', '今天', '公堂', '因此', '大巨蛋', '對簿', '柯p', '柯文哲', '法庭', '無法', '算帳', '舉辦', '處理', '趙藤雄', '遠雄', '遲遲']\n"
     ]
    }
   ],
   "source": [
    "print(vectorizer.get_feature_names())"
   ]
  },
  {
   "cell_type": "code",
   "execution_count": 24,
   "metadata": {},
   "outputs": [
    {
     "data": {
      "text/plain": [
       "array([[1, 0, 0, 0, 0, 1, 0, 0, 1, 0, 0, 1, 0, 0, 1, 0, 0],\n",
       "       [1, 0, 0, 1, 1, 1, 1, 1, 0, 1, 1, 0, 0, 1, 1, 1, 1],\n",
       "       [0, 1, 1, 0, 0, 1, 0, 0, 0, 0, 0, 0, 1, 0, 0, 0, 0]], dtype=int64)"
      ]
     },
     "execution_count": 24,
     "metadata": {},
     "output_type": "execute_result"
    }
   ],
   "source": [
    "X.toarray()"
   ]
  },
  {
   "cell_type": "code",
   "execution_count": 25,
   "metadata": {},
   "outputs": [
    {
     "data": {
      "text/plain": [
       "(3, 17)"
      ]
     },
     "execution_count": 25,
     "metadata": {},
     "output_type": "execute_result"
    }
   ],
   "source": [
    "X.shape"
   ]
  },
  {
   "cell_type": "code",
   "execution_count": 28,
   "metadata": {},
   "outputs": [
    {
     "data": {
      "text/plain": [
       "array([[0.        , 3.31662479, 2.64575131],\n",
       "       [3.31662479, 0.        , 3.74165739],\n",
       "       [2.64575131, 3.74165739, 0.        ]])"
      ]
     },
     "execution_count": 28,
     "metadata": {},
     "output_type": "execute_result"
    }
   ],
   "source": [
    "from sklearn.metrics import euclidean_distances\n",
    "ed = euclidean_distances(X)\n",
    "ed"
   ]
  },
  {
   "cell_type": "code",
   "execution_count": 29,
   "metadata": {},
   "outputs": [
    {
     "data": {
      "text/plain": [
       "{'柯p': '柯文哲', 'kp': '柯文哲'}"
      ]
     },
     "execution_count": 29,
     "metadata": {},
     "output_type": "execute_result"
    }
   ],
   "source": [
    "synonym_dic = {}\n",
    "for s in open('synonym.txt', encoding='utf-8'):\n",
    "    synonym = s.strip().split('/')\n",
    "    for w in synonym[1:]:\n",
    "        synonym_dic[w.lower()] = synonym[0]\n",
    "synonym_dic"
   ]
  },
  {
   "cell_type": "code",
   "execution_count": 30,
   "metadata": {},
   "outputs": [],
   "source": [
    "class SynonymCountVectorizer(CountVectorizer):\n",
    "    def build_analyzer(self):\n",
    "        analyzer = super(SynonymCountVectorizer, self).build_analyzer()\n",
    "        return lambda doc: (synonym_dic.get(w, w) for w in analyzer(doc))"
   ]
  },
  {
   "cell_type": "code",
   "execution_count": 31,
   "metadata": {},
   "outputs": [],
   "source": [
    "from sklearn.feature_extraction.text import CountVectorizer\n",
    "vectorizer = SynonymCountVectorizer()\n",
    "X = vectorizer.fit_transform(corpus)"
   ]
  },
  {
   "cell_type": "code",
   "execution_count": 32,
   "metadata": {},
   "outputs": [
    {
     "name": "stdout",
     "output_type": "stream",
     "text": [
      "['一事', '世運會', '今天', '公堂', '因此', '大巨蛋', '對簿', '柯文哲', '法庭', '無法', '算帳', '舉辦', '處理', '趙藤雄', '遠雄', '遲遲']\n"
     ]
    }
   ],
   "source": [
    "print(vectorizer.get_feature_names())"
   ]
  },
  {
   "cell_type": "code",
   "execution_count": 33,
   "metadata": {},
   "outputs": [
    {
     "data": {
      "text/plain": [
       "array([[1, 0, 0, 0, 0, 1, 0, 1, 0, 0, 1, 0, 0, 1, 0, 0],\n",
       "       [1, 0, 0, 1, 1, 1, 1, 1, 1, 1, 0, 0, 1, 1, 1, 1],\n",
       "       [0, 1, 1, 0, 0, 1, 0, 0, 0, 0, 0, 1, 0, 0, 0, 0]], dtype=int64)"
      ]
     },
     "execution_count": 33,
     "metadata": {},
     "output_type": "execute_result"
    }
   ],
   "source": [
    "X.toarray()"
   ]
  },
  {
   "cell_type": "code",
   "execution_count": 34,
   "metadata": {},
   "outputs": [
    {
     "data": {
      "text/plain": [
       "array([[0.        , 3.        , 2.64575131],\n",
       "       [3.        , 0.        , 3.74165739],\n",
       "       [2.64575131, 3.74165739, 0.        ]])"
      ]
     },
     "execution_count": 34,
     "metadata": {},
     "output_type": "execute_result"
    }
   ],
   "source": [
    "ed = euclidean_distances(X)\n",
    "ed"
   ]
  },
  {
   "cell_type": "code",
   "execution_count": 35,
   "metadata": {},
   "outputs": [
    {
     "data": {
      "text/plain": [
       "array([[0.        , 0.48360222, 0.7763932 ],\n",
       "       [0.48360222, 0.        , 0.85566243],\n",
       "       [0.7763932 , 0.85566243, 0.        ]])"
      ]
     },
     "execution_count": 35,
     "metadata": {},
     "output_type": "execute_result"
    }
   ],
   "source": [
    "from sklearn.metrics.pairwise import cosine_distances\n",
    "cosine_distances(X)"
   ]
  },
  {
   "cell_type": "code",
   "execution_count": 36,
   "metadata": {},
   "outputs": [
    {
     "data": {
      "text/plain": [
       "array([[1.        , 0.51639778, 0.2236068 ],\n",
       "       [0.51639778, 1.        , 0.14433757],\n",
       "       [0.2236068 , 0.14433757, 1.        ]])"
      ]
     },
     "execution_count": 36,
     "metadata": {},
     "output_type": "execute_result"
    }
   ],
   "source": [
    "from sklearn.metrics.pairwise import cosine_similarity\n",
    "cosine_similarity(X)"
   ]
  },
  {
   "cell_type": "markdown",
   "metadata": {},
   "source": [
    "## 新聞推薦"
   ]
  },
  {
   "cell_type": "code",
   "execution_count": 37,
   "metadata": {},
   "outputs": [],
   "source": [
    "import pandas\n",
    "df = pandas.read_excel('https://raw.githubusercontent.com/ywchiu/cdc_course/master/data/20171003_applenews.xlsx')"
   ]
  },
  {
   "cell_type": "code",
   "execution_count": 39,
   "metadata": {},
   "outputs": [],
   "source": [
    "corpus = []\n",
    "titles = []\n",
    "for rec in df.iterrows():\n",
    "    corpus.append(' '.join(jieba.cut(rec[1].content)))\n",
    "    titles.append(rec[1].title)"
   ]
  },
  {
   "cell_type": "code",
   "execution_count": 40,
   "metadata": {},
   "outputs": [],
   "source": [
    "from sklearn.feature_extraction.text import CountVectorizer\n",
    "vectorizer = CountVectorizer()\n",
    "X = vectorizer.fit_transform(corpus)"
   ]
  },
  {
   "cell_type": "code",
   "execution_count": 41,
   "metadata": {},
   "outputs": [
    {
     "data": {
      "text/plain": [
       "(1020, 38072)"
      ]
     },
     "execution_count": 41,
     "metadata": {},
     "output_type": "execute_result"
    }
   ],
   "source": [
    "X.shape"
   ]
  },
  {
   "cell_type": "code",
   "execution_count": 42,
   "metadata": {},
   "outputs": [],
   "source": [
    "from sklearn.metrics.pairwise import cosine_distances\n",
    "cs = cosine_distances(X)"
   ]
  },
  {
   "cell_type": "code",
   "execution_count": 43,
   "metadata": {},
   "outputs": [
    {
     "data": {
      "text/plain": [
       "(1020, 1020)"
      ]
     },
     "execution_count": 43,
     "metadata": {},
     "output_type": "execute_result"
    }
   ],
   "source": [
    "cs.shape"
   ]
  },
  {
   "cell_type": "code",
   "execution_count": 46,
   "metadata": {},
   "outputs": [
    {
     "data": {
      "text/plain": [
       "'北市中秋烤肉何處去\\u3000這些地點讓你挑'"
      ]
     },
     "execution_count": 46,
     "metadata": {},
     "output_type": "execute_result"
    }
   ],
   "source": [
    "titles[2]"
   ]
  },
  {
   "cell_type": "code",
   "execution_count": 49,
   "metadata": {},
   "outputs": [
    {
     "data": {
      "text/plain": [
       "array([  2, 305, 178, ..., 290, 914, 328], dtype=int64)"
      ]
     },
     "execution_count": 49,
     "metadata": {},
     "output_type": "execute_result"
    }
   ],
   "source": [
    "cs[2].argsort()"
   ]
  },
  {
   "cell_type": "code",
   "execution_count": 52,
   "metadata": {},
   "outputs": [
    {
     "name": "stdout",
     "output_type": "stream",
     "text": [
      "連假將至   3C賣場這支銷量暴增5倍 0.6986728861243147\n",
      "【GAME啥】紅心辣椒旗下熱門遊戲推出「中秋國慶特別活動」 0.7355080245888544\n",
      "【GAME啥】紅心辣椒旗下熱門遊戲推出「中秋國慶特別活動」 0.7355080245888544\n",
      "便民措施　中橫便道明天新增2開放時段 0.7486128708111639\n",
      "​中秋節烤肉「劫」 0.7518541665072674\n",
      "​中秋節烤肉「劫」 0.7518541665072674\n",
      "中秋賞月有利器　中原大學提供大砲級望遠鏡 0.7722783654170231\n",
      "​【果動中秋】不只烤肉　烤肉架烤甜點才過癮 0.819045226447051\n",
      "冒叛國危險！ 吳鳳來台灣破戒吃豬肉 0.835154470310036\n"
     ]
    }
   ],
   "source": [
    "for i in cs[2].argsort()[1:10]:\n",
    "    print(titles[i], cs[2][i])"
   ]
  },
  {
   "cell_type": "code",
   "execution_count": 53,
   "metadata": {},
   "outputs": [],
   "source": [
    "def getSimiliarArticle(idx):\n",
    "    print('查詢文章:', titles[idx])\n",
    "    for i in cs[idx].argsort()[1:10]:\n",
    "        print('相似文章:', titles[i], cs[idx][i])"
   ]
  },
  {
   "cell_type": "code",
   "execution_count": 57,
   "metadata": {},
   "outputs": [
    {
     "name": "stdout",
     "output_type": "stream",
     "text": [
      "查詢文章: 阿羅哈6死車禍前　關鍵30秒影片曝光\n",
      "相似文章: 阿羅哈6死車禍肇因出爐　駕駛分神找東西釀禍 0.5319427725863303\n",
      "相似文章: 載陸客遊覽車誤闖機車道　撞水泥柱卡涵洞 0.8090530009660291\n",
      "相似文章: 【慎入片】女駕駛出車禍　回神驚見友人嘴以上全部噴飛 0.8683627928825064\n",
      "相似文章: 【驚魂片】轎車失控撞燈稈　駕駛、乘客受傷送醫 0.8757213945226147\n",
      "相似文章: 鑽縫失敗碰碰碰　三寶騎士連撞3輛汽車 0.89300488698925\n",
      "相似文章: 公車司機「霸道開法較安全」　怒！一堆人開嗆了 0.8973433635190913\n",
      "相似文章: 驚！眼見愛車被拖吊　女抓車尾遭沿路拖行 0.9009169203893385\n",
      "相似文章: 驚！深夜騎車狂飆　3年輕人撞車倒臥血泊 0.9049061719468796\n",
      "相似文章: ​國道一號3車追撞　3人受傷送醫 0.9064735399596446\n"
     ]
    }
   ],
   "source": [
    "getSimiliarArticle(6)"
   ]
  },
  {
   "cell_type": "markdown",
   "metadata": {},
   "source": [
    "## 找出新聞議題"
   ]
  },
  {
   "cell_type": "code",
   "execution_count": 59,
   "metadata": {},
   "outputs": [
    {
     "data": {
      "text/plain": [
       "(1020, 1020)"
      ]
     },
     "execution_count": 59,
     "metadata": {},
     "output_type": "execute_result"
    }
   ],
   "source": [
    "cs.shape"
   ]
  },
  {
   "cell_type": "code",
   "execution_count": 63,
   "metadata": {},
   "outputs": [],
   "source": [
    "from sklearn.cluster import KMeans\n",
    "clf = KMeans(n_clusters = 10,  init='k-means++',)\n",
    "c = clf.fit_predict(cs)"
   ]
  },
  {
   "cell_type": "code",
   "execution_count": 64,
   "metadata": {},
   "outputs": [],
   "source": [
    "import numpy as np\n",
    "np_titles = np.array(titles)"
   ]
  },
  {
   "cell_type": "code",
   "execution_count": 69,
   "metadata": {},
   "outputs": [
    {
     "name": "stdout",
     "output_type": "stream",
     "text": [
      "賭城駭人槍擊　可能是美首宗用自動槍的大規模槍擊案\n",
      "【賭城大屠殺】古巨基親述亡命6小時　藏匿其他旅客房\n",
      "美國賭城大屠殺　外交部：已向美方表達慰問與關懷\n",
      "【賭城大屠殺】生死交關5分鐘　靠「金手指」救命\n",
      "R.I.P. 搖滾歌手湯姆佩蒂病逝　享壽66歲\n",
      "中國大老闆遇賭城大屠殺　「練跑步很有用」\n",
      "「以為是鞭炮」外媒拍下槍擊現場令人鼻酸　\n",
      "​美國槍枝不管制 讓國民死在自己土地上 \n",
      "【不斷更新】賭城59死大屠殺　槍手擁42把槍如軍火庫\n",
      "臉書嘲諷槍擊案死者不值得同情　CBS高層遭炒\n",
      "IS宣稱犯下賭城血案　專家指疑點重重\n",
      "賭城大屠殺59死　王力宏籲禁槍「要多少無辜丟命」\n",
      "賭城槍手反川普？　右翼網站操弄假新聞\n",
      "美賭城槍擊案死傷慘重　蔡英文：譴責暴力\n",
      "【懺悔片】支持擁槍者親歷屠殺才後悔　「無法形容過去錯誤」\n",
      "​孔令信專欄：賭城屠殺 川普被自己人打臉\n",
      "【賭城直擊】他出差遇到槍擊案　出事酒店一度封鎖\n",
      "賭城槍擊案　我舊金山辦事處協尋失聯台人\n",
      "【有片】因應美國賭城槍擊案　航警局加強桃機維安\n",
      "【有片】因應美國賭城槍擊案　航警局加強桃機維安\n",
      "【蘋果直擊】賭城生還者談救人：襲擊中互助令人動容\n",
      "黃金周四川團賭城驚魂　「美劇槍擊情景重現」\n",
      "賭城槍擊案後　美國再掀槍枝管制論戰\n",
      "屠殺掃射速度驚人　槍手可能加了特殊裝置\n",
      "賭城槍擊美史上最慘　護理師、軍警都遇害\n",
      "【集氣片】明星齊悼賭城槍擊案　民眾大排長龍踴躍捐血\n",
      "【賭城大屠殺】兇嫌弟：我哥超有錢　賭一手就賺750萬\n",
      "白宮發言人談賭城哽咽　稱槍枝管制「言之過早」\n",
      "【賭城大屠殺】夫捨身擋子彈　救妻一命\n",
      "退休會計師賭城屠殺59死　父親名列十大通緝犯\n",
      "【譴責片】沉重譴責賭城槍擊　川普：全然邪惡之舉\n",
      "【賭城槍擊】如何幫受害者？捐血、捐物資資訊大整理\n",
      "警尋獲賭城槍手亞裔女伴　事發時不在美國\n",
      "避免淪為操弄對立工具　臉書將增聘1000名審查人力\n",
      "【不斷更新】男賭城濫射　激增至58死逾500傷\n",
      "【獨家】賭城大道民眾逃竄　台遊客驚呼：好像喪屍片\n",
      "【獨家】賭城大道民眾逃竄　台遊客驚呼：好像喪屍片\n",
      "沉重譴責賭城槍擊　川普：全然邪惡之舉\n",
      "【快逃】「槍聲響不停」　賭城民眾驚險逃生影片曝光\n",
      "賭城孤狼槍手飲彈自盡　飯店房裡搜到10把槍\n",
      "港星古巨基賭城撞上槍擊案　報平安困守酒店\n",
      "中共19大前夕 日美在台附近海域演習\n",
      "音樂會最後一場浴血　歌手未放下吉他忙逃生\n",
      "【獨家】名DJ瑪麗賭城槍擊現場驚魂！「便衣叫我們不要動」\n",
      "​賭城槍擊逾50死　美國史上死傷最慘重\n",
      "【賭城槍擊】賭城酒店外一汽車疑似有炸彈\n",
      "美國賭城槍響　觀光局：我國旅行團人員平安\n",
      "賭城槍擊亞裔女子或涉案　案發前有人高喊眾人去死\n",
      "印巴再爆邊界衝突　2孩童喪命\n",
      "賭城槍擊已造成20死　外交部：尚無國人傷亡訊息\n",
      "【驚悚現場】槍彈狂掃射　全場趴下不敢動\n",
      "車檢員無照　日產宣布召回120萬輛汽車\n",
      "音樂會開槍後沿賭城大道逃逸　槍手犯案地圖曝光\n",
      "賭城槍擊槍聲持續逾5分鐘　目擊者：要爬過屍體逃走\n",
      "美賭城槍擊案　我外館：尚未接獲台人受傷通報\n",
      "賭城槍擊　槍手3次連環掃射　疑從高處開槍\n",
      "賭城音樂會濺血　目擊者：身邊女生頭部中彈\n",
      "【有片】金正男遭毒殺案開審　2名女嫌辯稱無罪\n",
      "【有片】槍聲不斷　美槍擊案民眾驚叫逃竄\n",
      "泰男花364萬買農舍　檢查赫見水井有人骨\n",
      "男子躺高速公路路肩　自稱「上來歇一會兒」\n",
      "【打臉片】川普與提勒森不同調：和北韓談判「浪費時間」\n",
      "誤吞魚刺戳破主動脈　年輕媽媽搶救7天不治\n",
      "賭城汽車衝上人行道　3男童喪生1人重傷\n",
      "【更新】兇徒法國馬賽砍殺2人　IS恐怖組織宣稱犯行\n",
      "美國堪薩斯州槍擊案　已知3死2傷\n",
      "馬賽火車站疑恐攻　男子持刀刺死2人遭擊斃\n",
      "金正男遇害案明開審　兩女嫌料將否認謀殺\n"
     ]
    }
   ],
   "source": [
    "for ele in np_titles[c ==2 ]:\n",
    "    print(ele)"
   ]
  },
  {
   "cell_type": "code",
   "execution_count": 73,
   "metadata": {},
   "outputs": [
    {
     "data": {
      "text/plain": [
       "(1020, 1020)"
      ]
     },
     "execution_count": 73,
     "metadata": {},
     "output_type": "execute_result"
    }
   ],
   "source": [
    "cs.shape"
   ]
  },
  {
   "cell_type": "code",
   "execution_count": 72,
   "metadata": {},
   "outputs": [
    {
     "data": {
      "text/plain": [
       "array([[1, 0, 0, ..., 0, 0, 0],\n",
       "       [0, 1, 0, ..., 0, 0, 0],\n",
       "       [0, 0, 1, ..., 0, 0, 0],\n",
       "       ...,\n",
       "       [0, 0, 0, ..., 1, 0, 0],\n",
       "       [0, 0, 0, ..., 0, 1, 0],\n",
       "       [0, 0, 0, ..., 0, 0, 1]])"
      ]
     },
     "execution_count": 72,
     "metadata": {},
     "output_type": "execute_result"
    }
   ],
   "source": [
    "m = (cs < 0.5).astype(int)\n",
    "m"
   ]
  },
  {
   "cell_type": "code",
   "execution_count": 74,
   "metadata": {},
   "outputs": [
    {
     "data": {
      "text/plain": [
       "1336"
      ]
     },
     "execution_count": 74,
     "metadata": {},
     "output_type": "execute_result"
    }
   ],
   "source": [
    "m.sum()"
   ]
  },
  {
   "cell_type": "code",
   "execution_count": 76,
   "metadata": {},
   "outputs": [],
   "source": [
    "import networkx as nx\n",
    "G = nx.from_numpy_matrix(m)"
   ]
  },
  {
   "cell_type": "code",
   "execution_count": 79,
   "metadata": {},
   "outputs": [
    {
     "name": "stdout",
     "output_type": "stream",
     "text": [
      "Collecting python-louvain\n",
      "  Downloading https://files.pythonhosted.org/packages/96/b2/c74bb9023c8d4bf94f5049e3d705b3064c6f180a38d772055d20ba5a8d06/python-louvain-0.13.tar.gz\n",
      "Requirement already satisfied: networkx in c:\\programdata\\anaconda3\\lib\\site-packages (from python-louvain) (2.1)\n",
      "Requirement already satisfied: decorator>=4.1.0 in c:\\programdata\\anaconda3\\lib\\site-packages (from networkx->python-louvain) (4.3.0)\n",
      "Building wheels for collected packages: python-louvain\n",
      "  Running setup.py bdist_wheel for python-louvain: started\n",
      "  Running setup.py bdist_wheel for python-louvain: finished with status 'done'\n",
      "  Stored in directory: D:\\Users\\nc20\\AppData\\Local\\pip\\Cache\\wheels\\f9\\74\\a9\\14f051b00dddd46d71529db15507796da13a43ee2c0bc39def\n",
      "Successfully built python-louvain\n",
      "Installing collected packages: python-louvain\n",
      "Successfully installed python-louvain-0.13\n"
     ]
    },
    {
     "name": "stderr",
     "output_type": "stream",
     "text": [
      "distributed 1.21.8 requires msgpack, which is not installed.\n",
      "You are using pip version 10.0.1, however version 19.1.1 is available.\n",
      "You should consider upgrading via the 'python -m pip install --upgrade pip' command.\n"
     ]
    }
   ],
   "source": [
    "! pip install --trusted-host pypi.org --trusted-host files.pythonhosted.org python-louvain"
   ]
  },
  {
   "cell_type": "code",
   "execution_count": 84,
   "metadata": {},
   "outputs": [],
   "source": [
    "import community\n",
    "p = community.best_partition(G)"
   ]
  },
  {
   "cell_type": "code",
   "execution_count": 86,
   "metadata": {},
   "outputs": [
    {
     "data": {
      "text/plain": [
       "[(166, 14),\n",
       " (201, 7),\n",
       " (94, 5),\n",
       " (69, 4),\n",
       " (276, 4),\n",
       " (0, 3),\n",
       " (23, 3),\n",
       " (90, 3),\n",
       " (102, 3),\n",
       " (213, 3)]"
      ]
     },
     "execution_count": 86,
     "metadata": {},
     "output_type": "execute_result"
    }
   ],
   "source": [
    "from collections import Counter\n",
    "c = Counter(p.values())\n",
    "c.most_common(10)"
   ]
  },
  {
   "cell_type": "code",
   "execution_count": 95,
   "metadata": {},
   "outputs": [],
   "source": [
    "np_cluster = np.array(list(p.values()))"
   ]
  },
  {
   "cell_type": "code",
   "execution_count": 101,
   "metadata": {},
   "outputs": [
    {
     "name": "stdout",
     "output_type": "stream",
     "text": [
      "狗狗溜滑梯 滑稽動作有夠萌\n",
      "貓咪緊追主人 原來爲了這目的\n",
      "黑狗硬搶筆求陪玩 笑翻網友\n",
      "【酥服片】主人貼心按摩 狗狗眯眼超享受\n"
     ]
    }
   ],
   "source": [
    "for ele in np_titles[np_cluster == 69]:\n",
    "    print(ele)"
   ]
  },
  {
   "cell_type": "code",
   "execution_count": 102,
   "metadata": {},
   "outputs": [
    {
     "data": {
      "text/plain": [
       "910"
      ]
     },
     "execution_count": 102,
     "metadata": {},
     "output_type": "execute_result"
    }
   ],
   "source": [
    "len(c)"
   ]
  }
 ],
 "metadata": {
  "kernelspec": {
   "display_name": "Python 3",
   "language": "python",
   "name": "python3"
  },
  "language_info": {
   "codemirror_mode": {
    "name": "ipython",
    "version": 3
   },
   "file_extension": ".py",
   "mimetype": "text/x-python",
   "name": "python",
   "nbconvert_exporter": "python",
   "pygments_lexer": "ipython3",
   "version": "3.6.5"
  }
 },
 "nbformat": 4,
 "nbformat_minor": 2
}
