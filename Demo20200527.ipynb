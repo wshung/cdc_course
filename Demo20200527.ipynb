{
  "nbformat": 4,
  "nbformat_minor": 0,
  "metadata": {
    "colab": {
      "name": "Demo20200527.ipynb",
      "provenance": [],
      "collapsed_sections": []
    },
    "kernelspec": {
      "name": "python3",
      "display_name": "Python 3"
    }
  },
  "cells": [
    {
      "cell_type": "markdown",
      "metadata": {
        "id": "NQ19QeZ-0X-H",
        "colab_type": "text"
      },
      "source": [
        "## Python Jieba 斷詞"
      ]
    },
    {
      "cell_type": "code",
      "metadata": {
        "id": "QMZUwdDar4_r",
        "colab_type": "code",
        "colab": {
          "base_uri": "https://localhost:8080/",
          "height": 35
        },
        "outputId": "9266d1dc-24e7-43c6-b2f6-18a681ee281e"
      },
      "source": [
        "s = 'this is a book'\n",
        "s.split()"
      ],
      "execution_count": 1,
      "outputs": [
        {
          "output_type": "execute_result",
          "data": {
            "text/plain": [
              "['this', 'is', 'a', 'book']"
            ]
          },
          "metadata": {
            "tags": []
          },
          "execution_count": 1
        }
      ]
    },
    {
      "cell_type": "code",
      "metadata": {
        "id": "26818xjlsbmb",
        "colab_type": "code",
        "colab": {
          "base_uri": "https://localhost:8080/",
          "height": 55
        },
        "outputId": "47dcf332-87d7-4fcf-f156-71c3626a5949"
      },
      "source": [
        "! pip install jieba"
      ],
      "execution_count": 2,
      "outputs": [
        {
          "output_type": "stream",
          "text": [
            "Requirement already satisfied: jieba in /usr/local/lib/python3.6/dist-packages (0.42.1)\n"
          ],
          "name": "stdout"
        }
      ]
    },
    {
      "cell_type": "code",
      "metadata": {
        "id": "na_ObpxLvxeq",
        "colab_type": "code",
        "colab": {
          "base_uri": "https://localhost:8080/",
          "height": 104
        },
        "outputId": "e72523f4-ac1b-4a85-8859-aaa04a4c47b2"
      },
      "source": [
        "import jieba\n",
        "list(jieba.cut('今天天氣真好'))"
      ],
      "execution_count": 4,
      "outputs": [
        {
          "output_type": "stream",
          "text": [
            "Building prefix dict from the default dictionary ...\n",
            "Dumping model to file cache /tmp/jieba.cache\n",
            "Loading model cost 0.879 seconds.\n",
            "Prefix dict has been built successfully.\n"
          ],
          "name": "stderr"
        },
        {
          "output_type": "execute_result",
          "data": {
            "text/plain": [
              "['今天', '天氣', '真好']"
            ]
          },
          "metadata": {
            "tags": []
          },
          "execution_count": 4
        }
      ]
    },
    {
      "cell_type": "code",
      "metadata": {
        "id": "9yif7UUwwcLb",
        "colab_type": "code",
        "colab": {}
      },
      "source": [
        "s = '''我要特別謝謝一些人，他們在過去這四個月的防疫期間，很少被人提及。我要謝謝每一位在防疫初期，在藥房門口排隊的台灣人民。謝謝你們的耐心，以及謝謝你們對政府的信任。是你們讓全世界看到，台灣，即使在最不安的時刻，也能保持公民的美德。'''"
      ],
      "execution_count": 0,
      "outputs": []
    },
    {
      "cell_type": "code",
      "metadata": {
        "id": "tdiA9Pcrxt8z",
        "colab_type": "code",
        "colab": {
          "base_uri": "https://localhost:8080/",
          "height": 225
        },
        "outputId": "b59c3e69-126f-4a2a-cf86-79daf3b27cd9"
      },
      "source": [
        "import re\n",
        "re.split('，|。',s)"
      ],
      "execution_count": 6,
      "outputs": [
        {
          "output_type": "execute_result",
          "data": {
            "text/plain": [
              "['我要特別謝謝一些人',\n",
              " '他們在過去這四個月的防疫期間',\n",
              " '很少被人提及',\n",
              " '我要謝謝每一位在防疫初期',\n",
              " '在藥房門口排隊的台灣人民',\n",
              " '謝謝你們的耐心',\n",
              " '以及謝謝你們對政府的信任',\n",
              " '是你們讓全世界看到',\n",
              " '台灣',\n",
              " '即使在最不安的時刻',\n",
              " '也能保持公民的美德',\n",
              " '']"
            ]
          },
          "metadata": {
            "tags": []
          },
          "execution_count": 6
        }
      ]
    },
    {
      "cell_type": "code",
      "metadata": {
        "id": "yljZNcBYyAjw",
        "colab_type": "code",
        "colab": {
          "base_uri": "https://localhost:8080/",
          "height": 55
        },
        "outputId": "71b9afb0-f86a-4af0-f8d7-455189c40b52"
      },
      "source": [
        "jieba.get_dict_file()"
      ],
      "execution_count": 7,
      "outputs": [
        {
          "output_type": "execute_result",
          "data": {
            "text/plain": [
              "<_io.BufferedReader name='/usr/local/lib/python3.6/dist-packages/jieba/dict.txt'>"
            ]
          },
          "metadata": {
            "tags": []
          },
          "execution_count": 7
        }
      ]
    },
    {
      "cell_type": "code",
      "metadata": {
        "id": "F0yO4Yrqy7Tg",
        "colab_type": "code",
        "colab": {
          "base_uri": "https://localhost:8080/",
          "height": 190
        },
        "outputId": "55171064-05de-4ea8-cd31-8cff603a91b3"
      },
      "source": [
        "! head /usr/local/lib/python3.6/dist-packages/jieba/dict.txt"
      ],
      "execution_count": 8,
      "outputs": [
        {
          "output_type": "stream",
          "text": [
            "AT&T 3 nz\n",
            "B超 3 n\n",
            "c# 3 nz\n",
            "C# 3 nz\n",
            "c++ 3 nz\n",
            "C++ 3 nz\n",
            "T恤 4 n\n",
            "A座 3 n\n",
            "A股 3 n\n",
            "A型 3 n\n"
          ],
          "name": "stdout"
        }
      ]
    },
    {
      "cell_type": "code",
      "metadata": {
        "id": "SW8TG13Ny7-W",
        "colab_type": "code",
        "colab": {
          "base_uri": "https://localhost:8080/",
          "height": 35
        },
        "outputId": "8ab0a9b2-81a8-4a8e-c8e9-eaca02c7f289"
      },
      "source": [
        "! wc -l  /usr/local/lib/python3.6/dist-packages/jieba/dict.txt"
      ],
      "execution_count": 9,
      "outputs": [
        {
          "output_type": "stream",
          "text": [
            "349046 /usr/local/lib/python3.6/dist-packages/jieba/dict.txt\n"
          ],
          "name": "stdout"
        }
      ]
    },
    {
      "cell_type": "markdown",
      "metadata": {
        "id": "M8yABHPF0XWR",
        "colab_type": "text"
      },
      "source": [
        "## R Jieba 斷詞"
      ]
    },
    {
      "cell_type": "code",
      "metadata": {
        "id": "yCT8r2KS0crf",
        "colab_type": "code",
        "colab": {}
      },
      "source": [
        "s <- 'this is a book'\n",
        "strsplit(s, split = ' ')\n",
        "\n",
        "install.packages(\"jiebaR\")\n",
        "library(jiebaR)\n",
        "jiebar = worker()\n",
        "segment(code = c('今天天氣真好'), jiebar = jiebar)\n",
        "\n",
        "s <-  '我要特別謝謝一些人，他們在過去這四個月的防疫期間，很少被人提及。我要謝謝每一位在防疫初期，在藥房門口排隊的台灣人民。謝謝你們的耐心，以及謝謝你們對政府的信任。是你們讓全世界看到，台灣，即使在最不安的時刻，也能保持公民的美德。'\n",
        "strsplit(s, split = '，|。')\n"
      ],
      "execution_count": 0,
      "outputs": []
    }
  ]
}