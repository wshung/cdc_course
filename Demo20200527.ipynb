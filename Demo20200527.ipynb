{
  "nbformat": 4,
  "nbformat_minor": 0,
  "metadata": {
    "colab": {
      "name": "Demo20200527.ipynb",
      "provenance": [],
      "collapsed_sections": []
    },
    "kernelspec": {
      "name": "python3",
      "display_name": "Python 3"
    }
  },
  "cells": [
    {
      "cell_type": "markdown",
      "metadata": {
        "id": "NQ19QeZ-0X-H",
        "colab_type": "text"
      },
      "source": [
        "## Python Jieba 斷詞"
      ]
    },
    {
      "cell_type": "code",
      "metadata": {
        "id": "QMZUwdDar4_r",
        "colab_type": "code",
        "colab": {
          "base_uri": "https://localhost:8080/",
          "height": 34
        },
        "outputId": "9266d1dc-24e7-43c6-b2f6-18a681ee281e"
      },
      "source": [
        "s = 'this is a book'\n",
        "s.split()"
      ],
      "execution_count": 1,
      "outputs": [
        {
          "output_type": "execute_result",
          "data": {
            "text/plain": [
              "['this', 'is', 'a', 'book']"
            ]
          },
          "metadata": {
            "tags": []
          },
          "execution_count": 1
        }
      ]
    },
    {
      "cell_type": "code",
      "metadata": {
        "id": "26818xjlsbmb",
        "colab_type": "code",
        "colab": {
          "base_uri": "https://localhost:8080/",
          "height": 54
        },
        "outputId": "47dcf332-87d7-4fcf-f156-71c3626a5949"
      },
      "source": [
        "! pip install jieba"
      ],
      "execution_count": 2,
      "outputs": [
        {
          "output_type": "stream",
          "text": [
            "Requirement already satisfied: jieba in /usr/local/lib/python3.6/dist-packages (0.42.1)\n"
          ],
          "name": "stdout"
        }
      ]
    },
    {
      "cell_type": "code",
      "metadata": {
        "id": "na_ObpxLvxeq",
        "colab_type": "code",
        "colab": {
          "base_uri": "https://localhost:8080/",
          "height": 104
        },
        "outputId": "e72523f4-ac1b-4a85-8859-aaa04a4c47b2"
      },
      "source": [
        "import jieba\n",
        "list(jieba.cut('今天天氣真好'))"
      ],
      "execution_count": 4,
      "outputs": [
        {
          "output_type": "stream",
          "text": [
            "Building prefix dict from the default dictionary ...\n",
            "Dumping model to file cache /tmp/jieba.cache\n",
            "Loading model cost 0.879 seconds.\n",
            "Prefix dict has been built successfully.\n"
          ],
          "name": "stderr"
        },
        {
          "output_type": "execute_result",
          "data": {
            "text/plain": [
              "['今天', '天氣', '真好']"
            ]
          },
          "metadata": {
            "tags": []
          },
          "execution_count": 4
        }
      ]
    },
    {
      "cell_type": "code",
      "metadata": {
        "id": "9yif7UUwwcLb",
        "colab_type": "code",
        "colab": {}
      },
      "source": [
        "s = '''我要特別謝謝一些人，他們在過去這四個月的防疫期間，很少被人提及。我要謝謝每一位在防疫初期，在藥房門口排隊的台灣人民。謝謝你們的耐心，以及謝謝你們對政府的信任。是你們讓全世界看到，台灣，即使在最不安的時刻，也能保持公民的美德。'''"
      ],
      "execution_count": 0,
      "outputs": []
    },
    {
      "cell_type": "code",
      "metadata": {
        "id": "tdiA9Pcrxt8z",
        "colab_type": "code",
        "colab": {
          "base_uri": "https://localhost:8080/",
          "height": 227
        },
        "outputId": "b59c3e69-126f-4a2a-cf86-79daf3b27cd9"
      },
      "source": [
        "import re\n",
        "re.split('，|。',s)"
      ],
      "execution_count": 6,
      "outputs": [
        {
          "output_type": "execute_result",
          "data": {
            "text/plain": [
              "['我要特別謝謝一些人',\n",
              " '他們在過去這四個月的防疫期間',\n",
              " '很少被人提及',\n",
              " '我要謝謝每一位在防疫初期',\n",
              " '在藥房門口排隊的台灣人民',\n",
              " '謝謝你們的耐心',\n",
              " '以及謝謝你們對政府的信任',\n",
              " '是你們讓全世界看到',\n",
              " '台灣',\n",
              " '即使在最不安的時刻',\n",
              " '也能保持公民的美德',\n",
              " '']"
            ]
          },
          "metadata": {
            "tags": []
          },
          "execution_count": 6
        }
      ]
    },
    {
      "cell_type": "code",
      "metadata": {
        "id": "yljZNcBYyAjw",
        "colab_type": "code",
        "colab": {
          "base_uri": "https://localhost:8080/",
          "height": 54
        },
        "outputId": "71b9afb0-f86a-4af0-f8d7-455189c40b52"
      },
      "source": [
        "jieba.get_dict_file()"
      ],
      "execution_count": 7,
      "outputs": [
        {
          "output_type": "execute_result",
          "data": {
            "text/plain": [
              "<_io.BufferedReader name='/usr/local/lib/python3.6/dist-packages/jieba/dict.txt'>"
            ]
          },
          "metadata": {
            "tags": []
          },
          "execution_count": 7
        }
      ]
    },
    {
      "cell_type": "code",
      "metadata": {
        "id": "F0yO4Yrqy7Tg",
        "colab_type": "code",
        "colab": {
          "base_uri": "https://localhost:8080/",
          "height": 192
        },
        "outputId": "55171064-05de-4ea8-cd31-8cff603a91b3"
      },
      "source": [
        "! head /usr/local/lib/python3.6/dist-packages/jieba/dict.txt"
      ],
      "execution_count": 8,
      "outputs": [
        {
          "output_type": "stream",
          "text": [
            "AT&T 3 nz\n",
            "B超 3 n\n",
            "c# 3 nz\n",
            "C# 3 nz\n",
            "c++ 3 nz\n",
            "C++ 3 nz\n",
            "T恤 4 n\n",
            "A座 3 n\n",
            "A股 3 n\n",
            "A型 3 n\n"
          ],
          "name": "stdout"
        }
      ]
    },
    {
      "cell_type": "code",
      "metadata": {
        "id": "SW8TG13Ny7-W",
        "colab_type": "code",
        "colab": {
          "base_uri": "https://localhost:8080/",
          "height": 34
        },
        "outputId": "8ab0a9b2-81a8-4a8e-c8e9-eaca02c7f289"
      },
      "source": [
        "! wc -l  /usr/local/lib/python3.6/dist-packages/jieba/dict.txt"
      ],
      "execution_count": 9,
      "outputs": [
        {
          "output_type": "stream",
          "text": [
            "349046 /usr/local/lib/python3.6/dist-packages/jieba/dict.txt\n"
          ],
          "name": "stdout"
        }
      ]
    },
    {
      "cell_type": "markdown",
      "metadata": {
        "id": "M8yABHPF0XWR",
        "colab_type": "text"
      },
      "source": [
        "## R Jieba 斷詞"
      ]
    },
    {
      "cell_type": "code",
      "metadata": {
        "id": "yCT8r2KS0crf",
        "colab_type": "code",
        "colab": {}
      },
      "source": [
        "s <- 'this is a book'\n",
        "strsplit(s, split = ' ')\n",
        "\n",
        "install.packages(\"jiebaR\")\n",
        "library(jiebaR)\n",
        "jiebar = worker()\n",
        "segment(code = c('今天天氣真好'), jiebar = jiebar)\n",
        "\n",
        "s <-  '我要特別謝謝一些人，他們在過去這四個月的防疫期間，很少被人提及。我要謝謝每一位在防疫初期，在藥房門口排隊的台灣人民。謝謝你們的耐心，以及謝謝你們對政府的信任。是你們讓全世界看到，台灣，即使在最不安的時刻，也能保持公民的美德。'\n",
        "strsplit(s, split = '，|。')\n"
      ],
      "execution_count": 0,
      "outputs": []
    },
    {
      "cell_type": "markdown",
      "metadata": {
        "id": "mwfzPORN-Icf",
        "colab_type": "text"
      },
      "source": [
        "## Python Jieba 斷詞實戰"
      ]
    },
    {
      "cell_type": "code",
      "metadata": {
        "id": "Ocug1bfm-IJW",
        "colab_type": "code",
        "colab": {
          "base_uri": "https://localhost:8080/",
          "height": 54
        },
        "outputId": "edf5deae-4efd-4014-8893-bfcb2a4937ae"
      },
      "source": [
        "import jieba\n",
        "\n",
        "seg_list = jieba.cut(\"大巨蛋案對市府同仁下封口令？　柯P否認\", cut_all=True)\n",
        "print(\"Full Mode:\", \"/ \".join(seg_list))\n"
      ],
      "execution_count": 10,
      "outputs": [
        {
          "output_type": "stream",
          "text": [
            "Full Mode: 大/ 巨蛋/ 案/ 對/ 市府/ 同仁/ 下/ 封口/ 封口令/ 口令/ ？/ 　/ / 柯/ P/ 否/ 認\n"
          ],
          "name": "stdout"
        }
      ]
    },
    {
      "cell_type": "code",
      "metadata": {
        "id": "Eg2xO1Yr-QK4",
        "colab_type": "code",
        "colab": {
          "base_uri": "https://localhost:8080/",
          "height": 34
        },
        "outputId": "8283f28c-1662-46a9-9e1f-952d7f581877"
      },
      "source": [
        "import jieba\n",
        "\n",
        "seg_list = jieba.cut(\"大巨蛋案對市府同仁下封口令？　柯P否認\")\n",
        "print(\"Default Mode:\", \"/ \".join(seg_list))\n"
      ],
      "execution_count": 11,
      "outputs": [
        {
          "output_type": "stream",
          "text": [
            "Default Mode: 大/ 巨蛋/ 案對/ 市府/ 同仁/ 下/ 封口令/ ？/ 　/ 柯/ P/ 否認\n"
          ],
          "name": "stdout"
        }
      ]
    },
    {
      "cell_type": "code",
      "metadata": {
        "id": "nrXLkLHV-bZ8",
        "colab_type": "code",
        "colab": {}
      },
      "source": [
        "jieba.load_userdict('userdict.txt')"
      ],
      "execution_count": 0,
      "outputs": []
    },
    {
      "cell_type": "code",
      "metadata": {
        "id": "DRlIaf2N_Dwe",
        "colab_type": "code",
        "colab": {
          "base_uri": "https://localhost:8080/",
          "height": 34
        },
        "outputId": "e9703393-59f8-4a82-f0a5-03cc1bdc7cda"
      },
      "source": [
        "seg_list = jieba.cut(\"大巨蛋案對市府同仁下封口令？　柯P否認\")\n",
        "print(\"Default Mode:\", \"/ \".join(seg_list))"
      ],
      "execution_count": 13,
      "outputs": [
        {
          "output_type": "stream",
          "text": [
            "Default Mode: 大巨蛋/ 案對/ 市府/ 同仁/ 下/ 封口令/ ？/ 　/ 柯P/ 否認\n"
          ],
          "name": "stdout"
        }
      ]
    },
    {
      "cell_type": "code",
      "metadata": {
        "id": "gQS1tbBu_FWm",
        "colab_type": "code",
        "colab": {
          "base_uri": "https://localhost:8080/",
          "height": 104
        },
        "outputId": "fa5ad48a-e286-4677-d76e-593522426da6"
      },
      "source": [
        "! git clone https://github.com/ldkrsi/jieba-zh_TW.git"
      ],
      "execution_count": 14,
      "outputs": [
        {
          "output_type": "stream",
          "text": [
            "Cloning into 'jieba-zh_TW'...\n",
            "remote: Enumerating objects: 2320, done.\u001b[K\n",
            "remote: Total 2320 (delta 0), reused 0 (delta 0), pack-reused 2320\u001b[K\n",
            "Receiving objects: 100% (2320/2320), 44.97 MiB | 9.69 MiB/s, done.\n",
            "Resolving deltas: 100% (1311/1311), done.\n"
          ],
          "name": "stdout"
        }
      ]
    },
    {
      "cell_type": "code",
      "metadata": {
        "id": "8Tmh0fegBJ-L",
        "colab_type": "code",
        "colab": {
          "base_uri": "https://localhost:8080/",
          "height": 54
        },
        "outputId": "b60ceeff-9de7-40c2-ae59-7f6d9ad160fd"
      },
      "source": [
        "jieba.get_dict_file()"
      ],
      "execution_count": 15,
      "outputs": [
        {
          "output_type": "execute_result",
          "data": {
            "text/plain": [
              "<_io.BufferedReader name='/usr/local/lib/python3.6/dist-packages/jieba/dict.txt'>"
            ]
          },
          "metadata": {
            "tags": []
          },
          "execution_count": 15
        }
      ]
    },
    {
      "cell_type": "code",
      "metadata": {
        "id": "2SIAvkeFBmsd",
        "colab_type": "code",
        "colab": {
          "base_uri": "https://localhost:8080/",
          "height": 52
        },
        "outputId": "97471eaa-f96c-45cd-8668-3004473dab13"
      },
      "source": [
        "! ls /usr/local/lib/python3.6/dist-packages/jieba/"
      ],
      "execution_count": 16,
      "outputs": [
        {
          "output_type": "stream",
          "text": [
            "analyse     dict.txt  __init__.py  __main__.py\t__pycache__\n",
            "_compat.py  finalseg  lac_small    posseg\n"
          ],
          "name": "stdout"
        }
      ]
    },
    {
      "cell_type": "code",
      "metadata": {
        "id": "eBrw1g-kBrMG",
        "colab_type": "code",
        "colab": {}
      },
      "source": [
        "! cp -r /content/jieba-zh_TW/jieba /usr/local/lib/python3.6/dist-packages/jieba/"
      ],
      "execution_count": 0,
      "outputs": []
    },
    {
      "cell_type": "code",
      "metadata": {
        "id": "jgxcVX3nB2Cf",
        "colab_type": "code",
        "colab": {
          "base_uri": "https://localhost:8080/",
          "height": 34
        },
        "outputId": "40c49b0f-dba7-4462-9dc0-39a3b68f6107"
      },
      "source": [
        "import jieba\n",
        "seg_list = jieba.cut(\"大巨蛋案對市府同仁下封口令？　柯P否認\")\n",
        "print(\"Default Mode:\", \"/ \".join(seg_list))"
      ],
      "execution_count": 18,
      "outputs": [
        {
          "output_type": "stream",
          "text": [
            "Default Mode: 大巨蛋/ 案對/ 市府/ 同仁/ 下/ 封口令/ ？/ 　/ 柯P/ 否認\n"
          ],
          "name": "stdout"
        }
      ]
    },
    {
      "cell_type": "markdown",
      "metadata": {
        "id": "1IA4T6pKCIuU",
        "colab_type": "text"
      },
      "source": [
        "## R Jieba 斷詞"
      ]
    },
    {
      "cell_type": "code",
      "metadata": {
        "id": "zu8B7NcfB6Ef",
        "colab_type": "code",
        "colab": {}
      },
      "source": [
        "library(jiebaR)\n",
        "jiebar <- worker()\n",
        "\n",
        "segment(code = c(\"大巨蛋案對市府同仁下封口令？　柯P否認\"), jiebar = jiebar)\n",
        "# 修改字典\n",
        "edit_dict()"
      ],
      "execution_count": 0,
      "outputs": []
    },
    {
      "cell_type": "markdown",
      "metadata": {
        "id": "mCnwZoq5HI5v",
        "colab_type": "text"
      },
      "source": [
        "## Python Jieba 抓出詞性"
      ]
    },
    {
      "cell_type": "code",
      "metadata": {
        "id": "SJNUAJBeHIOU",
        "colab_type": "code",
        "colab": {
          "base_uri": "https://localhost:8080/",
          "height": 209
        },
        "outputId": "10cce30e-b4fd-4d58-e332-73aaf44c4291"
      },
      "source": [
        "import jieba.posseg as pseg\n",
        "import jieba\n",
        "jieba.load_userdict('userdict.txt')\n",
        "words = pseg.cut(\"大巨蛋案對市府同仁下封口令？　柯P否認\")\n",
        "for w in words:\n",
        "    print(w.word, w.flag)\n"
      ],
      "execution_count": 7,
      "outputs": [
        {
          "output_type": "stream",
          "text": [
            "大巨蛋 n\n",
            "案 ng\n",
            "對 p\n",
            "市府 n\n",
            "同仁 nr\n",
            "下 f\n",
            "封口令 n\n",
            "？ x\n",
            "　 x\n",
            "柯P n\n",
            "否認 v\n"
          ],
          "name": "stdout"
        }
      ]
    },
    {
      "cell_type": "code",
      "metadata": {
        "id": "s7hxRaVRHQez",
        "colab_type": "code",
        "colab": {}
      },
      "source": [
        "jiebar <- worker(type = 'tag')\n",
        "\n",
        "segment(code = c(\"大巨蛋案對市府同仁下封口令？　柯P否認\"), jiebar = jiebar)\n",
        "edit_dict()"
      ],
      "execution_count": 0,
      "outputs": []
    },
    {
      "cell_type": "code",
      "metadata": {
        "id": "_9sU1g4ZJylp",
        "colab_type": "code",
        "colab": {
          "base_uri": "https://localhost:8080/",
          "height": 192
        },
        "outputId": "f496f70c-a633-4bd8-a1b6-e6c2759dd17a"
      },
      "source": [
        "s = \"大巨蛋案對市府同仁下封口令？　柯P否認\"\n",
        "words = jieba.tokenize(s)\n",
        "\n",
        "for tw in words:\n",
        "    print(tw[0], tw[1], tw[2])"
      ],
      "execution_count": 9,
      "outputs": [
        {
          "output_type": "stream",
          "text": [
            "大巨蛋 0 3\n",
            "案對 3 5\n",
            "市府 5 7\n",
            "同仁 7 9\n",
            "下 9 10\n",
            "封口令 10 13\n",
            "？ 13 14\n",
            "　 14 15\n",
            "柯P 15 17\n",
            "否認 17 19\n"
          ],
          "name": "stdout"
        }
      ]
    },
    {
      "cell_type": "markdown",
      "metadata": {
        "id": "fqdfsV-nKS5h",
        "colab_type": "text"
      },
      "source": [
        "## 字詞字典\n",
        "- https://www.moedict.tw/"
      ]
    },
    {
      "cell_type": "code",
      "metadata": {
        "id": "6GHxlk-EJ0lJ",
        "colab_type": "code",
        "colab": {}
      },
      "source": [
        "import requests\n",
        "from bs4 import BeautifulSoup\n",
        "res = requests.get('https://ec.ltn.com.tw/article/breakingnews/3179004')\n",
        "soup = BeautifulSoup(res.text, 'lxml')"
      ],
      "execution_count": 0,
      "outputs": []
    },
    {
      "cell_type": "code",
      "metadata": {
        "id": "X_6xymkvMGSd",
        "colab_type": "code",
        "colab": {
          "base_uri": "https://localhost:8080/",
          "height": 34
        },
        "outputId": "c2bb4867-a6ff-4537-8307-84f5da5fd10b"
      },
      "source": [
        "soup.select_one('meta[name=keywords]').get('content')"
      ],
      "execution_count": 13,
      "outputs": [
        {
          "output_type": "execute_result",
          "data": {
            "text/plain": [
              "'口罩,口罩國家隊,口罩解禁'"
            ]
          },
          "metadata": {
            "tags": []
          },
          "execution_count": 13
        }
      ]
    },
    {
      "cell_type": "code",
      "metadata": {
        "id": "n08GbbQHMUqb",
        "colab_type": "code",
        "colab": {}
      },
      "source": [
        ""
      ],
      "execution_count": 0,
      "outputs": []
    },
    {
      "cell_type": "markdown",
      "metadata": {
        "id": "3t8VNVaRO4cR",
        "colab_type": "text"
      },
      "source": [
        "## R 爬蟲抓關鍵字"
      ]
    },
    {
      "cell_type": "code",
      "metadata": {
        "id": "n_otbsMaO6Et",
        "colab_type": "code",
        "colab": {}
      },
      "source": [
        "install.packages('rvest')\n",
        "library(rvest)\n",
        "res <- html('https://tw.appledaily.com/international/20200527/DHILT3JK6J3R7GFNKSTHLWLRVQ/') %>% html_node('meta[name=keywords]')\n",
        "strsplit(xml_attrs(res)[[\"content\"]], ',')\n"
      ],
      "execution_count": 0,
      "outputs": []
    }
  ]
}