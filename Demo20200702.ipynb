{
  "nbformat": 4,
  "nbformat_minor": 0,
  "metadata": {
    "colab": {
      "name": "Demo20200702.ipynb",
      "provenance": [],
      "collapsed_sections": []
    },
    "kernelspec": {
      "name": "python3",
      "display_name": "Python 3"
    },
    "accelerator": "GPU"
  },
  "cells": [
    {
      "cell_type": "code",
      "metadata": {
        "id": "WVWbY73grjC2",
        "colab_type": "code",
        "colab": {
          "base_uri": "https://localhost:8080/",
          "height": 34
        },
        "outputId": "c3047cde-b0cf-442d-cd39-b81c734ae63b"
      },
      "source": [
        "text = 'You say goodbye and I say hello .'\n",
        "text.split()"
      ],
      "execution_count": 4,
      "outputs": [
        {
          "output_type": "execute_result",
          "data": {
            "text/plain": [
              "['You', 'say', 'goodbye', 'and', 'I', 'say', 'hello', '.']"
            ]
          },
          "metadata": {
            "tags": []
          },
          "execution_count": 4
        }
      ]
    },
    {
      "cell_type": "code",
      "metadata": {
        "id": "5JchqF41rutr",
        "colab_type": "code",
        "colab": {}
      },
      "source": [
        "from gensim.models import word2vec\n",
        "model = word2vec.Word2Vec([text.lower().split()],size = 2,min_count=1,window = 1,iter = 10)"
      ],
      "execution_count": 5,
      "outputs": []
    },
    {
      "cell_type": "code",
      "metadata": {
        "id": "QOqxcJEMrz_u",
        "colab_type": "code",
        "colab": {
          "base_uri": "https://localhost:8080/",
          "height": 34
        },
        "outputId": "2ecce23b-fcb9-42bf-8a20-adc5d98cb1e6"
      },
      "source": [
        "model.wv.get_vector('you')"
      ],
      "execution_count": 6,
      "outputs": [
        {
          "output_type": "execute_result",
          "data": {
            "text/plain": [
              "array([-0.00570138,  0.10840796], dtype=float32)"
            ]
          },
          "metadata": {
            "tags": []
          },
          "execution_count": 6
        }
      ]
    },
    {
      "cell_type": "code",
      "metadata": {
        "id": "VegHUmHjr9ep",
        "colab_type": "code",
        "colab": {
          "base_uri": "https://localhost:8080/",
          "height": 34
        },
        "outputId": "3ca74287-467b-438d-f7dc-e6fa76485701"
      },
      "source": [
        "model.wv.get_vector('say')"
      ],
      "execution_count": 7,
      "outputs": [
        {
          "output_type": "execute_result",
          "data": {
            "text/plain": [
              "array([0.11748198, 0.15987699], dtype=float32)"
            ]
          },
          "metadata": {
            "tags": []
          },
          "execution_count": 7
        }
      ]
    },
    {
      "cell_type": "code",
      "metadata": {
        "id": "dXGIRuAGr-7k",
        "colab_type": "code",
        "colab": {}
      },
      "source": [
        "X = model.wv.vectors"
      ],
      "execution_count": 8,
      "outputs": []
    },
    {
      "cell_type": "code",
      "metadata": {
        "id": "UNqiXTOHsE8T",
        "colab_type": "code",
        "colab": {
          "base_uri": "https://localhost:8080/",
          "height": 282
        },
        "outputId": "ce6192ab-ed8f-442e-8ede-97999535ad3c"
      },
      "source": [
        "from matplotlib import pyplot as plt\n",
        "plt.scatter(X[:,0], X[:,1])"
      ],
      "execution_count": 10,
      "outputs": [
        {
          "output_type": "execute_result",
          "data": {
            "text/plain": [
              "<matplotlib.collections.PathCollection at 0x7f5b1675ea58>"
            ]
          },
          "metadata": {
            "tags": []
          },
          "execution_count": 10
        },
        {
          "output_type": "display_data",
          "data": {
            "image/png": "[encoded data removed]",
            "text/plain": [
              "<Figure size 432x288 with 1 Axes>"
            ]
          },
          "metadata": {
            "tags": [],
            "needs_background": "light"
          }
        }
      ]
    },
    {
      "cell_type": "code",
      "metadata": {
        "id": "efUmi-JQsLCm",
        "colab_type": "code",
        "colab": {
          "base_uri": "https://localhost:8080/",
          "height": 208
        },
        "outputId": "faa69c7e-6c94-40de-ca2f-4476c2883fab"
      },
      "source": [
        "model.most_similar('hello')"
      ],
      "execution_count": 13,
      "outputs": [
        {
          "output_type": "stream",
          "text": [
            "/usr/local/lib/python3.6/dist-packages/ipykernel_launcher.py:1: DeprecationWarning: Call to deprecated `most_similar` (Method will be removed in 4.0.0, use self.wv.most_similar() instead).\n",
            "  \"\"\"Entry point for launching an IPython kernel.\n",
            "/usr/local/lib/python3.6/dist-packages/gensim/matutils.py:737: FutureWarning: Conversion of the second argument of issubdtype from `int` to `np.signedinteger` is deprecated. In future, it will be treated as `np.int64 == np.dtype(int).type`.\n",
            "  if np.issubdtype(vec.dtype, np.int):\n"
          ],
          "name": "stderr"
        },
        {
          "output_type": "execute_result",
          "data": {
            "text/plain": [
              "[('you', 0.963416576385498),\n",
              " ('say', 0.5754939317703247),\n",
              " ('goodbye', 0.2557417154312134),\n",
              " ('and', -0.057760149240493774),\n",
              " ('.', -0.5699885487556458),\n",
              " ('i', -0.7739380598068237)]"
            ]
          },
          "metadata": {
            "tags": []
          },
          "execution_count": 13
        }
      ]
    },
    {
      "cell_type": "code",
      "metadata": {
        "id": "od3nS54yq7qY",
        "colab_type": "code",
        "colab": {}
      },
      "source": [
        "import pandas\n",
        "movies = pandas.read_excel('https://raw.githubusercontent.com/ywchiu/taipeifubon/master/data/yahoo_movie.xlsx', index_col = 0)"
      ],
      "execution_count": 14,
      "outputs": []
    },
    {
      "cell_type": "code",
      "metadata": {
        "id": "alh_K20prtXo",
        "colab_type": "code",
        "colab": {}
      },
      "source": [
        "import jieba\n",
        "#jieba.load_userdict('userdict.txt')\n",
        "corpus = []\n",
        "\n",
        "for idx, rec in movies[movies['status'].isin(['good', 'bad'])].iterrows():\n",
        "    corpus.append(' '.join(jieba.cut(rec['content'])))"
      ],
      "execution_count": 16,
      "outputs": []
    },
    {
      "cell_type": "code",
      "metadata": {
        "id": "Q3xsXuJeshM3",
        "colab_type": "code",
        "colab": {}
      },
      "source": [
        "corpus = [e.split() for e in corpus]"
      ],
      "execution_count": 17,
      "outputs": []
    },
    {
      "cell_type": "code",
      "metadata": {
        "id": "9UUiEySksk6A",
        "colab_type": "code",
        "colab": {}
      },
      "source": [
        "from gensim.models import word2vec\n",
        "\n",
        "num_features = 10 # 詞向量的維度\n",
        "min_word_count = 10 # 最少要出現幾個詞才被拿來計算\n",
        "num_workers = 4 # 使用多少個core\n",
        "context = 10 # 上下文的詞區間\n",
        "epoch = 20 # 訓練多少迭代 \n",
        "sample = 1e-5 # 每次要取多少反面的例子校正訓練結果\n",
        "\n",
        "model = word2vec.Word2Vec(corpus, workers = num_workers,sample = sample,\n",
        "        size = num_features,min_count=min_word_count,\n",
        "        window = context,iter = epoch)"
      ],
      "execution_count": 18,
      "outputs": []
    },
    {
      "cell_type": "code",
      "metadata": {
        "id": "HZapcfkpsngA",
        "colab_type": "code",
        "colab": {
          "base_uri": "https://localhost:8080/",
          "height": 68
        },
        "outputId": "25ef7205-f186-49b5-ca4d-45db5387dead"
      },
      "source": [
        "model.wv.get_vector('動作片')"
      ],
      "execution_count": 19,
      "outputs": [
        {
          "output_type": "execute_result",
          "data": {
            "text/plain": [
              "array([-0.05482616,  0.00175056,  0.04889046,  0.06502941,  0.01976057,\n",
              "        0.14676803,  0.25496837,  0.06599604,  0.04702412, -0.00516513],\n",
              "      dtype=float32)"
            ]
          },
          "metadata": {
            "tags": []
          },
          "execution_count": 19
        }
      ]
    },
    {
      "cell_type": "code",
      "metadata": {
        "id": "lG4uEXnLsqfv",
        "colab_type": "code",
        "colab": {
          "base_uri": "https://localhost:8080/",
          "height": 277
        },
        "outputId": "05875db9-0d68-44b9-c838-1caa4a1177df"
      },
      "source": [
        "model.most_similar('動作片')"
      ],
      "execution_count": 20,
      "outputs": [
        {
          "output_type": "stream",
          "text": [
            "/usr/local/lib/python3.6/dist-packages/ipykernel_launcher.py:2: DeprecationWarning: Call to deprecated `most_similar` (Method will be removed in 4.0.0, use self.wv.most_similar() instead).\n",
            "  \n",
            "/usr/local/lib/python3.6/dist-packages/gensim/matutils.py:737: FutureWarning: Conversion of the second argument of issubdtype from `int` to `np.signedinteger` is deprecated. In future, it will be treated as `np.int64 == np.dtype(int).type`.\n",
            "  if np.issubdtype(vec.dtype, np.int):\n"
          ],
          "name": "stderr"
        },
        {
          "output_type": "execute_result",
          "data": {
            "text/plain": [
              "[('一顆', 0.9803900718688965),\n",
              " ('雷神', 0.9763356447219849),\n",
              " ('才', 0.9726817607879639),\n",
              " ('節奏', 0.9722476005554199),\n",
              " ('光劍', 0.9718320369720459),\n",
              " ('爆', 0.9705737829208374),\n",
              " ('場面', 0.9700506925582886),\n",
              " ('找', 0.9691914319992065),\n",
              " ('（', 0.9659179449081421),\n",
              " ('這集', 0.9656724333763123)]"
            ]
          },
          "metadata": {
            "tags": []
          },
          "execution_count": 20
        }
      ]
    },
    {
      "cell_type": "code",
      "metadata": {
        "id": "jaDseaMrsu4H",
        "colab_type": "code",
        "colab": {}
      },
      "source": [
        ""
      ],
      "execution_count": null,
      "outputs": []
    }
  ]
}