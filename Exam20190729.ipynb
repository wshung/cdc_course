{
 "cells": [
  {
   "cell_type": "markdown",
   "metadata": {},
   "source": [
    "# 期末考題\n",
    "\n",
    "## 乳癌預測資料"
   ]
  },
  {
   "cell_type": "markdown",
   "metadata": {},
   "source": [
    "現有一資料集(如下表) breast_cancer_data.csv (https://raw.githubusercontent.com/ywchiu/cdc_course/master/data/breast_cancer_data.csv) \n",
    "\n",
    "欄位資料如下：\n",
    "\n",
    "\n",
    "\n",
    "\n",
    "|編號\t|變數名稱\t|敘述|\n",
    "|----|----------|----|\n",
    "|1|id\t|ID|\n",
    "|2|diagnosis\t|診斷|\n",
    "|3|radius_mean\t|平均半徑|\n",
    "|4|texture_mean\t|平均質地|\n",
    "|5|perimeter_mean\t|平均周長|\n",
    "|6|area_mean\t|平均面積|\n",
    "|7|smoothness_mean\t|平均平滑度|\n",
    "|8|compactness_mean\t|平均緊密度|\n",
    "|9|concavity_mean\t|平均凹陷度|\n",
    "|10|concave points_mean\t|平均凹陷值|\n",
    "|11|symmetry_mean\t|平均對稱值|\n",
    "|12|fractal_dimension_mean\t|平均碎形維度|\n",
    "|13|radius_se\t|平均標準誤|\n",
    "|14|texture_se\t|質地標準誤|\n",
    "|15|perimeter_se\t|周長標準誤|\n",
    "|16|area_se\t|面積標準誤|\n",
    "|17|smoothness_se\t|平滑度標準誤|\n",
    "|18|compactness_se\t|緊密度標準誤|\n",
    "|19|concavity_se\t|凹陷度標準誤|\n",
    "|20|concave points_se\t|凹陷值標準誤|\n",
    "|21|symmetry_se\t|對稱值標準誤|\n",
    "|22|fractal_dimension_se\t|碎形維度標準誤|\n",
    "|23|radius_worst\t|最大半徑|\n",
    "|24|texture_worst\t|最大質地|\n",
    "|25|perimeter_worst\t|最大周長|\n",
    "|26|area_worst\t|最大面積|\n",
    "|27|smoothness_worst\t|最大平滑度|\n",
    "|28|compactness_worst\t|最大緊密度|\n",
    "|29|concavity_worst\t|最大凹陷度|\n",
    "|30|concave points_worst\t|最大凹陷值|\n",
    "|31|symmetry_worst\t|最大對稱值|\n",
    "|32|fractal_dimension_worst\t|最大碎形維度|\n",
    "\n",
    "\n",
    "預測目標\n",
    "- diagnosis 如果為 M 代表為惡性腫瘤, 如果狀態為B 代表良性腫瘤"
   ]
  },
  {
   "cell_type": "markdown",
   "metadata": {},
   "source": [
    "請用Python 回答以下問題：\n",
    "\n",
    "|編號\t|題目\t|提示|配分|\n",
    "|----|----------|----|----|\n",
    "|1.|使用Pandas 將資料讀取到一名為 df 的 DataFrame 中?|提示：使用 read_csv|    (5分)|\n",
    "|2.|請表列出該資料集的綱要(schema) ? |提示：使用 info|    (5分)|\n",
    "|3.|請表列出該資料集的敘述性統計 ? |提示：使用 describe|   (5分)|\n",
    "|4.|請用列出資料型態為字串的欄位 ? |提示：dtypes: object|       (5分)|\n",
    "|5.|請移除 id 與 Unnamed: 32 兩個欄位 ? |提示：del or drop|      (5分)|\n",
    "|6.|請將 diagnosis 欄位的 M 轉成 1 ,  B 轉成 0 ? |提示：map| (5分)|\n",
    "|7.|請將特徵資料命名為 X , 目標(diagnosis) 資料命名為 Y?|提示：iloc| (5分)|\n",
    "|8.|請將特徵資料標準化，並命名為 scaled_X ? |提示：StandardScalar|(5分)|\n",
    "|9.|請將資料分為訓練資料集與測試資料集,其中訓練資料集占80%, 測試資料集占20%?|提示：train_test_split|(5分)|\n",
    "|10.|請使用Keras 建立人工神經網路模型 (目標 y 為 diagnosis) ?|提示：keras|(10分)|\n",
    "|11.|繼第10題,請計算出模型準確度(Accuracy)?|提示：accuracy|(5分)|\n",
    "|12.|繼第10題,請計算出混淆矩陣(Confusion Matrix)? |提示：confusion_matrix|(5分)|\n",
    "|13.|請使用邏輯式迴歸(Logistic Regression) 針對特徵與目標建立一分類模型?|提示：linear_model|(10分)|\n",
    "|14.|請使用隨機森林(Random Forest) 針對特徵與目標建立一分類模型? |提示：ensemble|(10分)|\n",
    "|15.|請繪製類神經網路、隨機森林與邏輯式迴歸三模型ROC Curve ? |提示：roc_curve|(10分)|\n",
    "|16.|請比較類神經網路、隨機森林與邏輯式迴歸三模型的AUC ? |提示：auc|(5分)|\n",
    "\n",
    "\n",
    "總分100分，60分為及格"
   ]
  }
 ],
 "metadata": {
  "kernelspec": {
   "display_name": "Python 3",
   "language": "python",
   "name": "python3"
  },
  "language_info": {
   "codemirror_mode": {
    "name": "ipython",
    "version": 3
   },
   "file_extension": ".py",
   "mimetype": "text/x-python",
   "name": "python",
   "nbconvert_exporter": "python",
   "pygments_lexer": "ipython3",
   "version": "3.6.2"
  }
 },
 "nbformat": 4,
 "nbformat_minor": 2
}
