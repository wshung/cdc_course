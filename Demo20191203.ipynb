{
 "cells": [
  {
   "cell_type": "markdown",
   "metadata": {},
   "source": [
    "## 英文斷詞"
   ]
  },
  {
   "cell_type": "code",
   "execution_count": 1,
   "metadata": {},
   "outputs": [
    {
     "data": {
      "text/plain": [
       "['this', 'is', 'a', 'book']"
      ]
     },
     "execution_count": 1,
     "metadata": {},
     "output_type": "execute_result"
    }
   ],
   "source": [
    "s = 'this is a book'\n",
    "s.split()"
   ]
  },
  {
   "cell_type": "code",
   "execution_count": 2,
   "metadata": {},
   "outputs": [
    {
     "data": {
      "text/plain": [
       "'今天天氣真好'"
      ]
     },
     "execution_count": 2,
     "metadata": {},
     "output_type": "execute_result"
    }
   ],
   "source": [
    "s = '今天天氣真好'"
   ]
  },
  {
   "cell_type": "code",
   "execution_count": 3,
   "metadata": {},
   "outputs": [
    {
     "name": "stdout",
     "output_type": "stream",
     "text": [
      "Requirement already satisfied: jieba in /Users/davidchiu/.pyenv/versions/3.6.2/lib/python3.6/site-packages\n",
      "\u001b[33mYou are using pip version 9.0.1, however version 19.3.1 is available.\n",
      "You should consider upgrading via the 'pip install --upgrade pip' command.\u001b[0m\n"
     ]
    }
   ],
   "source": [
    "! pip install jieba"
   ]
  },
  {
   "cell_type": "code",
   "execution_count": 6,
   "metadata": {},
   "outputs": [
    {
     "name": "stderr",
     "output_type": "stream",
     "text": [
      "Building prefix dict from the default dictionary ...\n",
      "Dumping model to file cache /var/folders/46/b7dzk4mn6g54qzptv608w7d00000gn/T/jieba.cache\n",
      "Loading model cost 0.808 seconds.\n",
      "Prefix dict has been built succesfully.\n"
     ]
    },
    {
     "data": {
      "text/plain": [
       "['今天', '天氣', '真好']"
      ]
     },
     "execution_count": 6,
     "metadata": {},
     "output_type": "execute_result"
    }
   ],
   "source": [
    "import jieba\n",
    "s = '今天天氣真好'\n",
    "list(jieba.cut(s))"
   ]
  },
  {
   "cell_type": "code",
   "execution_count": 9,
   "metadata": {},
   "outputs": [
    {
     "name": "stdout",
     "output_type": "stream",
     "text": [
      "<_io.BufferedReader name='/Users/davidchiu/.pyenv/versions/3.6.2/lib/python3.6/site-packages/jieba/dict.txt'>\n"
     ]
    }
   ],
   "source": [
    "import jieba\n",
    "print(jieba.get_dict_file())"
   ]
  },
  {
   "cell_type": "code",
   "execution_count": 11,
   "metadata": {},
   "outputs": [
    {
     "name": "stdout",
     "output_type": "stream",
     "text": [
      "['馬斯克', '以', '3', '千萬', '買下', '「', '007', '水中', '跑車', '」', ' ', '30', '年前', '僅', '需', '3', '千多', '塊']\n"
     ]
    }
   ],
   "source": [
    "import jieba\n",
    "s = '馬斯克以3千萬買下「007水中跑車」 30年前僅需3千多塊'\n",
    "print(list(jieba.cut(s)))"
   ]
  },
  {
   "cell_type": "code",
   "execution_count": 12,
   "metadata": {},
   "outputs": [
    {
     "name": "stdout",
     "output_type": "stream",
     "text": [
      "['蘋果', '手機', '戰略', '大', '轉彎', '？', 'iPhone', ' ', '傳', '將', '不再', '「', '一年', '一', '更', '」']\n"
     ]
    }
   ],
   "source": [
    "s = '蘋果手機戰略大轉彎？iPhone 傳將不再「一年一更」'\n",
    "print(list(jieba.cut(s)))"
   ]
  },
  {
   "cell_type": "code",
   "execution_count": 13,
   "metadata": {},
   "outputs": [
    {
     "name": "stdout",
     "output_type": "stream",
     "text": [
      "['蘋果', '手機', '戰略', '大', '轉彎', '？', 'iPhone', ' ', '傳', '將', '不再', '「', '一年一更', '」']\n"
     ]
    }
   ],
   "source": [
    "jieba.load_userdict('userdict.txt')\n",
    "print(list(jieba.cut(s)))"
   ]
  },
  {
   "cell_type": "markdown",
   "metadata": {},
   "source": [
    "## CKIP"
   ]
  },
  {
   "cell_type": "code",
   "execution_count": 14,
   "metadata": {
    "scrolled": true
   },
   "outputs": [
    {
     "name": "stdout",
     "output_type": "stream",
     "text": [
      "Collecting ckiptagger\n",
      "  Downloading https://files.pythonhosted.org/packages/97/7c/1852b16d602eb1e62e4b5ba187a45935bb3fa160b2c49ae25905d0f90a7a/ckiptagger-0.1.0-py3-none-any.whl\n",
      "Installing collected packages: ckiptagger\n",
      "  Found existing installation: ckiptagger 0.0.19\n",
      "    Uninstalling ckiptagger-0.0.19:\n",
      "      Successfully uninstalled ckiptagger-0.0.19\n",
      "Successfully installed ckiptagger-0.1.0\n",
      "\u001b[33mYou are using pip version 9.0.1, however version 19.3.1 is available.\n",
      "You should consider upgrading via the 'pip install --upgrade pip' command.\u001b[0m\n"
     ]
    }
   ],
   "source": [
    "!pip install -U ckiptagger"
   ]
  },
  {
   "cell_type": "code",
   "execution_count": 21,
   "metadata": {},
   "outputs": [],
   "source": [
    "from ckiptagger import data_utils, construct_dictionary, WS, POS, NER \n",
    "ws = WS(\"/Users/davidchiu/project/obanktm/data/\")"
   ]
  },
  {
   "cell_type": "code",
   "execution_count": 38,
   "metadata": {},
   "outputs": [],
   "source": [
    "s = '''\n",
    "登革熱復燃 高市開5張罰單疫情監控至月底\n",
    "高雄市本土登革熱疫情10月21日剛解除疫情警報，4日鳳山區文衡里新增一例確診病例。衛生局5日在文衡里等5處孳生源查獲白線斑蚊成蚊及孑孓，依法開出5張罰單，並持續對個案住處及活動地點加強防疫。（衛生局提供）中央社記者程啟峰高雄傳真　108年11月5日\n",
    "\n",
    "'''"
   ]
  },
  {
   "cell_type": "code",
   "execution_count": 42,
   "metadata": {},
   "outputs": [
    {
     "name": "stdout",
     "output_type": "stream",
     "text": [
      "['\\n', '登革熱', '復燃', ' ', '高市', '開', '5', '張', '罰單', '疫情', '監控', '至', '月底', '\\n', '高雄市', '本土', '登革熱', '疫情', '10', '月', '21', '日', '剛', '解除', '疫情', '警報', '，', '4', '日', '鳳山區', '文衡', '里', '新增', '一例', '確診', '病例', '。', '衛生局', '5', '日', '在', '文衡', '里等', '5', '處', '孳生源', '查獲', '白線斑蚊', '成蚊', '及', '孑孓', '，', '依法', '開出', '5', '張', '罰單', '，', '並', '持續', '對', '個案', '住處', '及', '活動', '地點', '加強', '防疫', '。', '（', '衛生局', '提供', '）', '中央社', '記者', '程啟峰', '高雄', '傳真', '\\u3000', '108', '年', '11', '月', '5', '日', '\\n', '\\n']\n"
     ]
    }
   ],
   "source": [
    "print(list(jieba.cut(s)))"
   ]
  },
  {
   "cell_type": "code",
   "execution_count": 39,
   "metadata": {},
   "outputs": [],
   "source": [
    "word_sentence_list = ws([s])"
   ]
  },
  {
   "cell_type": "code",
   "execution_count": 43,
   "metadata": {},
   "outputs": [
    {
     "name": "stdout",
     "output_type": "stream",
     "text": [
      "[['\\n', '登革熱', '復燃', ' ', '高市', '開', '5', '張', '罰單', '疫情', '監控', '至', '月底\\n', '高雄市', '本土', '登革熱', '疫情', '10月', '21日', '剛', '解除', '疫情', '警報', '，', '4日', '鳳山區', '文衡里', '新增', '一', '例', '確診', '病例', '。', '衛生局', '5日', '在', '文衡里', '等', '5', '處', '孳生源', '查獲', '白線斑蚊', '成蚊', '及', '孑孓', '，', '依法', '開出', '5', '張', '罰單', '，', '並', '持續', '對', '個案', '住處', '及', '活動', '地點', '加強', '防疫', '。', '（', '衛生局', '提供', '）', '中央社', '記者', '程啟峰', '高雄', '傳真', '\\u3000', '108年', '11月', '5日', '\\n\\n']]\n"
     ]
    }
   ],
   "source": [
    "print(word_sentence_list)"
   ]
  },
  {
   "cell_type": "code",
   "execution_count": 29,
   "metadata": {},
   "outputs": [
    {
     "name": "stderr",
     "output_type": "stream",
     "text": [
      "Exception ignored in: <bound method NER.__del__ of <ckiptagger.api.NER object at 0x153e55a90>>\n",
      "Traceback (most recent call last):\n",
      "  File \"/Users/davidchiu/.pyenv/versions/3.6.2/lib/python3.6/site-packages/ckiptagger/api.py\", line 287, in __del__\n",
      "    self.model.sess.close()\n",
      "AttributeError: 'NER' object has no attribute 'model'\n",
      "Exception ignored in: <bound method POS.__del__ of <ckiptagger.api.POS object at 0x1538ec898>>\n",
      "Traceback (most recent call last):\n",
      "  File \"/Users/davidchiu/.pyenv/versions/3.6.2/lib/python3.6/site-packages/ckiptagger/api.py\", line 185, in __del__\n",
      "    self.model.sess.close()\n",
      "AttributeError: 'POS' object has no attribute 'model'\n",
      "Exception ignored in: <bound method POS.__del__ of <ckiptagger.api.POS object at 0x1532edd68>>\n",
      "Traceback (most recent call last):\n",
      "  File \"/Users/davidchiu/.pyenv/versions/3.6.2/lib/python3.6/site-packages/ckiptagger/api.py\", line 185, in __del__\n",
      "    self.model.sess.close()\n",
      "AttributeError: 'POS' object has no attribute 'model'\n"
     ]
    }
   ],
   "source": [
    "pos = POS(\"/Users/davidchiu/project/ckip/data/\")"
   ]
  },
  {
   "cell_type": "code",
   "execution_count": 45,
   "metadata": {},
   "outputs": [],
   "source": [
    "pos_sentence_list = pos(word_sentence_list)"
   ]
  },
  {
   "cell_type": "code",
   "execution_count": 46,
   "metadata": {},
   "outputs": [
    {
     "name": "stdout",
     "output_type": "stream",
     "text": [
      "[['WHITESPACE', 'Na', 'VA', 'WHITESPACE', 'Nc', 'VC', 'Neu', 'Nf', 'Na', 'Na', 'VC', 'P', 'Na', 'Nc', 'Nc', 'Na', 'Na', 'Nd', 'Nd', 'D', 'VC', 'Na', 'Na', 'COMMACATEGORY', 'Nd', 'Nc', 'Nc', 'VJ', 'Neu', 'Na', 'Nv', 'Na', 'PERIODCATEGORY', 'Nc', 'Nd', 'P', 'Nc', 'Cab', 'Neu', 'Nf', 'Na', 'VE', 'Na', 'Na', 'Caa', 'Na', 'COMMACATEGORY', 'D', 'VC', 'Neu', 'Nf', 'Na', 'COMMACATEGORY', 'Cbb', 'VL', 'P', 'Na', 'Nc', 'Caa', 'Na', 'Na', 'VC', 'VA', 'PERIODCATEGORY', 'PARENTHESISCATEGORY', 'Nc', 'VD', 'PARENTHESISCATEGORY', 'Nc', 'Na', 'Nb', 'Nc', 'VD', 'WHITESPACE', 'Nd', 'Nd', 'Nd', 'WHITESPACE']]\n"
     ]
    }
   ],
   "source": [
    "print(pos_sentence_list)"
   ]
  },
  {
   "cell_type": "code",
   "execution_count": 35,
   "metadata": {},
   "outputs": [
    {
     "name": "stderr",
     "output_type": "stream",
     "text": [
      "Exception ignored in: <bound method POS.__del__ of <ckiptagger.api.POS object at 0x1717e49e8>>\n",
      "Traceback (most recent call last):\n",
      "  File \"/Users/davidchiu/.pyenv/versions/3.6.2/lib/python3.6/site-packages/ckiptagger/api.py\", line 185, in __del__\n",
      "    self.model.sess.close()\n",
      "AttributeError: 'POS' object has no attribute 'model'\n",
      "Exception ignored in: <bound method NER.__del__ of <ckiptagger.api.NER object at 0x171590898>>\n",
      "Traceback (most recent call last):\n",
      "  File \"/Users/davidchiu/.pyenv/versions/3.6.2/lib/python3.6/site-packages/ckiptagger/api.py\", line 287, in __del__\n",
      "    self.model.sess.close()\n",
      "AttributeError: 'NER' object has no attribute 'model'\n"
     ]
    }
   ],
   "source": [
    "ner = NER(\"/Users/davidchiu/project/obanktm/data/\")"
   ]
  },
  {
   "cell_type": "code",
   "execution_count": 47,
   "metadata": {},
   "outputs": [],
   "source": [
    "entity_sentence_list = ner(word_sentence_list, pos_sentence_list)"
   ]
  },
  {
   "cell_type": "code",
   "execution_count": 48,
   "metadata": {},
   "outputs": [
    {
     "data": {
      "text/plain": [
       "[{(7, 9, 'GPE', '高市'),\n",
       "  (10, 11, 'CARDINAL', '5'),\n",
       "  (22, 25, 'GPE', '高雄市'),\n",
       "  (32, 38, 'DATE', '10月21日'),\n",
       "  (46, 48, 'DATE', '4日'),\n",
       "  (48, 51, 'GPE', '鳳山區'),\n",
       "  (52, 54, 'GPE', '衡里'),\n",
       "  (56, 57, 'CARDINAL', '一'),\n",
       "  (63, 66, 'ORG', '衛生局'),\n",
       "  (66, 68, 'DATE', '5日'),\n",
       "  (69, 72, 'GPE', '文衡里'),\n",
       "  (73, 74, 'CARDINAL', '5'),\n",
       "  (94, 95, 'CARDINAL', '5'),\n",
       "  (118, 121, 'ORG', '衛生局'),\n",
       "  (124, 127, 'ORG', '中央社'),\n",
       "  (132, 134, 'GPE', '高雄'),\n",
       "  (137, 141, 'DATE', '108年')}]"
      ]
     },
     "execution_count": 48,
     "metadata": {},
     "output_type": "execute_result"
    }
   ],
   "source": [
    "entity_sentence_list"
   ]
  },
  {
   "cell_type": "markdown",
   "metadata": {},
   "source": [
    "## 文字量化分析"
   ]
  },
  {
   "cell_type": "code",
   "execution_count": 49,
   "metadata": {},
   "outputs": [],
   "source": [
    "s = '''\n",
    "高雄市本土登革熱疫情10月21日剛解除疫情警報，4日鳳山區文衡里新增一例確診病例。衛生局5日在文衡里等5處孳生源查獲白線斑蚊成蚊及孑孓，依法開出5張罰單，並持續對個案住處及活動地點加強防疫。（衛生局提供）中央社記者程啟峰高雄傳真　108年11月5日\n",
    "（中央社記者程啟峰高雄5日電）高雄市本土登革熱疫情10月21日剛解除疫情警報，昨天鳳山區文衡里新增1例確診病例。衛生局今天針對孳生源清查，開出5張罰單。也因這起新增疫情，將持續監控至11月30日。\n",
    "\n",
    "依衛生局數據，高雄市今年累計本土登革熱病例58例，分布10個行政區、28個里。其中27個里在10月21日解除疫情警報，昨天新增疫情將持續監控至11月30日。\n",
    "\n",
    "衛生局今天持續對個案住處及活動地點加強防疫，分別在澄清湖、文衡里及文德里共5處孳生源查獲白線斑蚊成蚊及孑孓，依傳染病防治法對自來水公司等5處地主開罰，將可處新台幣3000元以上、1萬5000元以下罰鍰。\n",
    "\n",
    "衛生局表示，高市境外移入今年累計62例，創歷年同期新高。境外登革熱病毒，加上高雄市10月均溫較去年同期上升攝氏1.5度，暖冬氣候下更不能靠天氣變冷防疫，呼籲民眾提高防疫危機意識，加強清除孳生源防杜登革熱疫情復燃。\n",
    "\n",
    "昨天新增的本土登革熱病例是住在文衡里的60多歲退休婦人，近期未出國也未罹患過登革熱，10月30日開始出現症狀，兩度至診所就醫症狀未緩解；11月3日到醫院就醫經抽血檢查登革熱快篩陽性並通報，迄今住院中。昨天經疾病管制署判定為第二型本土登革熱確診病例。\n",
    "\n",
    "衛生局調查，個案活動地以住家為主，平時會到鳳山區文德里健身中心、三民區陽明市場活動，發病前2週曾去鳥松區澄清湖活動。依個案發病日與血清流行病學初步研判鳳山區居住地、三民區及鳥松區等活動地疑似為個案感染地點，防疫團隊已前往個案居住地、活動地展開接觸者執行擴大疫調採檢等防疫作為。\n",
    "'''"
   ]
  },
  {
   "cell_type": "code",
   "execution_count": 51,
   "metadata": {},
   "outputs": [
    {
     "name": "stdout",
     "output_type": "stream",
     "text": [
      "Requirement already satisfied: wordcloud in /Users/davidchiu/.pyenv/versions/3.6.2/lib/python3.6/site-packages\n",
      "Requirement already satisfied: pillow in /Users/davidchiu/.pyenv/versions/3.6.2/lib/python3.6/site-packages (from wordcloud)\n",
      "Requirement already satisfied: numpy>=1.6.1 in /Users/davidchiu/.pyenv/versions/3.6.2/lib/python3.6/site-packages (from wordcloud)\n",
      "\u001b[33mYou are using pip version 9.0.1, however version 19.3.1 is available.\n",
      "You should consider upgrading via the 'pip install --upgrade pip' command.\u001b[0m\n"
     ]
    }
   ],
   "source": [
    "! pip install wordcloud"
   ]
  },
  {
   "cell_type": "code",
   "execution_count": 52,
   "metadata": {},
   "outputs": [],
   "source": [
    "#list(jieba.cut(s))"
   ]
  },
  {
   "cell_type": "code",
   "execution_count": 113,
   "metadata": {},
   "outputs": [
    {
     "data": {
      "image/png": "[encoded data removed]",
      "text/plain": [
       "<PIL.Image.Image image mode=RGB size=400x200 at 0x141505A90>"
      ]
     },
     "execution_count": 113,
     "metadata": {},
     "output_type": "execute_result"
    }
   ],
   "source": [
    "font_path = '/Library/Fonts/Microsoft/SimHei.ttf'\n",
    "wordcloud = WordCloud(background_color=\"white\", \n",
    "                      max_words=5000, \n",
    "                      contour_width=3, \n",
    "                      contour_color='steelblue', \n",
    "                      font_path=font_path,\n",
    "                      stopwords=['今年', '已經', '萬元'])\n",
    "wordcloud.generate(' '.join(list(jieba.cut(s))))\n",
    "wordcloud.to_image()"
   ]
  },
  {
   "cell_type": "markdown",
   "metadata": {},
   "source": [
    "## TFIDF"
   ]
  },
  {
   "cell_type": "code",
   "execution_count": 56,
   "metadata": {},
   "outputs": [],
   "source": [
    "a, abb, abc = [\"a\"], [\"a\", \"b\", \"b\"], [\"a\", \"b\", \"c\"]\n",
    "D = [a, abb, abc]"
   ]
  },
  {
   "cell_type": "code",
   "execution_count": 57,
   "metadata": {},
   "outputs": [
    {
     "data": {
      "text/plain": [
       "0.0"
      ]
     },
     "execution_count": 57,
     "metadata": {},
     "output_type": "execute_result"
    }
   ],
   "source": [
    "import math\n",
    "#tfidf('a', a, D)\n",
    "tf = 1/1\n",
    "idf = math.log(3/3)\n",
    "tf * idf "
   ]
  },
  {
   "cell_type": "code",
   "execution_count": 58,
   "metadata": {},
   "outputs": [
    {
     "data": {
      "text/plain": [
       "0.0"
      ]
     },
     "execution_count": 58,
     "metadata": {},
     "output_type": "execute_result"
    }
   ],
   "source": [
    "#tfidf('a', abb, D)\n",
    "tf = 1/3\n",
    "idf = math.log(3/3)\n",
    "tf * idf "
   ]
  },
  {
   "cell_type": "code",
   "execution_count": 59,
   "metadata": {},
   "outputs": [
    {
     "data": {
      "text/plain": [
       "0.0"
      ]
     },
     "execution_count": 59,
     "metadata": {},
     "output_type": "execute_result"
    }
   ],
   "source": [
    "#tfidf('a', abc, D)\n",
    "tf = 1/3\n",
    "idf = math.log(3/3)\n",
    "tf * idf "
   ]
  },
  {
   "cell_type": "code",
   "execution_count": 60,
   "metadata": {},
   "outputs": [
    {
     "data": {
      "text/plain": [
       "0.27031007207210955"
      ]
     },
     "execution_count": 60,
     "metadata": {},
     "output_type": "execute_result"
    }
   ],
   "source": [
    "import math\n",
    "#tfidf('b', abb, D)\n",
    "tf = 2/3\n",
    "idf = math.log(3/2)\n",
    "tf * idf "
   ]
  },
  {
   "cell_type": "code",
   "execution_count": 61,
   "metadata": {},
   "outputs": [
    {
     "data": {
      "text/plain": [
       "0.13515503603605478"
      ]
     },
     "execution_count": 61,
     "metadata": {},
     "output_type": "execute_result"
    }
   ],
   "source": [
    "import math\n",
    "#tfidf('b', abc, D)\n",
    "tf = 1/3\n",
    "idf = math.log(3/2)\n",
    "tf * idf "
   ]
  },
  {
   "cell_type": "code",
   "execution_count": null,
   "metadata": {},
   "outputs": [],
   "source": [
    "import math\n",
    "#tfidf('c', abc, D)\n",
    "tf = 1/3\n",
    "idf = math.log(3/1)\n",
    "tf * idf "
   ]
  },
  {
   "cell_type": "markdown",
   "metadata": {},
   "source": [
    "## 詞頻矩陣"
   ]
  },
  {
   "cell_type": "code",
   "execution_count": 109,
   "metadata": {},
   "outputs": [],
   "source": [
    "import jieba\n",
    "jieba.load_userdict('userdict.txt')\n",
    "ary = ['【更新】柯P：洪智坤洩漏公文案還沒看到公文　今處理',\n",
    "       '留洪智坤 柯：殘障求職不易',\n",
    "       '人事處議處洪智坤　柯P：不清楚議處結果']\n",
    "\n",
    "corpus = []\n",
    "for title in ary:\n",
    "    corpus.append(' '.join(jieba.cut(title)))\n"
   ]
  },
  {
   "cell_type": "code",
   "execution_count": 110,
   "metadata": {},
   "outputs": [
    {
     "data": {
      "text/plain": [
       "['【 更新 】 柯P ： 洪智坤 洩漏 公文案 還 沒 看到 公文 \\u3000 今 處理',\n",
       " '留 洪智坤   柯 ： 殘障 求職 不易',\n",
       " '人事處 議處 洪智坤 \\u3000 柯P ： 不 清楚 議處 結果']"
      ]
     },
     "execution_count": 110,
     "metadata": {},
     "output_type": "execute_result"
    }
   ],
   "source": [
    "corpus"
   ]
  },
  {
   "cell_type": "code",
   "execution_count": 111,
   "metadata": {},
   "outputs": [
    {
     "data": {
      "text/plain": [
       "<3x15 sparse matrix of type '<class 'numpy.int64'>'\n",
       "\twith 18 stored elements in Compressed Sparse Row format>"
      ]
     },
     "execution_count": 111,
     "metadata": {},
     "output_type": "execute_result"
    }
   ],
   "source": [
    "from sklearn.feature_extraction.text import CountVectorizer\n",
    "vectorizer = CountVectorizer()\n",
    "X = vectorizer.fit_transform(corpus)\n",
    "X"
   ]
  },
  {
   "cell_type": "code",
   "execution_count": 112,
   "metadata": {},
   "outputs": [
    {
     "name": "stdout",
     "output_type": "stream",
     "text": [
      "['不易', '人事處', '公文', '公文案', '更新', '柯p', '殘障', '求職', '洩漏', '洪智坤', '清楚', '看到', '結果', '處理', '議處']\n"
     ]
    }
   ],
   "source": [
    "print(vectorizer.get_feature_names())"
   ]
  },
  {
   "cell_type": "code",
   "execution_count": 74,
   "metadata": {},
   "outputs": [
    {
     "data": {
      "text/plain": [
       "array([[0, 0, 1, 1, 1, 1, 0, 0, 1, 1, 0, 1, 0, 1, 0],\n",
       "       [1, 0, 0, 0, 0, 0, 1, 1, 0, 1, 0, 0, 0, 0, 0],\n",
       "       [0, 1, 0, 0, 0, 1, 0, 0, 0, 1, 1, 0, 1, 0, 2]], dtype=int64)"
      ]
     },
     "execution_count": 74,
     "metadata": {},
     "output_type": "execute_result"
    }
   ],
   "source": [
    "X.toarray()"
   ]
  },
  {
   "cell_type": "code",
   "execution_count": null,
   "metadata": {},
   "outputs": [],
   "source": []
  },
  {
   "cell_type": "code",
   "execution_count": 80,
   "metadata": {},
   "outputs": [
    {
     "data": {
      "text/plain": [
       "3.1622776601683795"
      ]
     },
     "execution_count": 80,
     "metadata": {},
     "output_type": "execute_result"
    }
   ],
   "source": [
    "math.sqrt(((X[0]- X[1]).toarray() ** 2).sum())"
   ]
  },
  {
   "cell_type": "code",
   "execution_count": 81,
   "metadata": {},
   "outputs": [
    {
     "data": {
      "text/plain": [
       "3.605551275463989"
      ]
     },
     "execution_count": 81,
     "metadata": {},
     "output_type": "execute_result"
    }
   ],
   "source": [
    "math.sqrt(((X[0]- X[2]).toarray() ** 2).sum())"
   ]
  },
  {
   "cell_type": "code",
   "execution_count": 84,
   "metadata": {},
   "outputs": [
    {
     "data": {
      "text/plain": [
       "array([[0.        , 3.16227766, 3.60555128],\n",
       "       [3.16227766, 0.        , 3.31662479],\n",
       "       [3.60555128, 3.31662479, 0.        ]])"
      ]
     },
     "execution_count": 84,
     "metadata": {},
     "output_type": "execute_result"
    }
   ],
   "source": [
    "from sklearn.metrics.pairwise import euclidean_distances\n",
    "euclidean_distances(X)"
   ]
  },
  {
   "cell_type": "code",
   "execution_count": 82,
   "metadata": {},
   "outputs": [
    {
     "data": {
      "text/plain": [
       "array([[0.        , 0.8232233 , 0.76429774],\n",
       "       [0.8232233 , 0.        , 0.83333333],\n",
       "       [0.76429774, 0.83333333, 0.        ]])"
      ]
     },
     "execution_count": 82,
     "metadata": {},
     "output_type": "execute_result"
    }
   ],
   "source": [
    "from sklearn.metrics.pairwise import cosine_distances\n",
    "cosine_distances(X)"
   ]
  },
  {
   "cell_type": "code",
   "execution_count": 70,
   "metadata": {},
   "outputs": [
    {
     "data": {
      "text/plain": [
       "<3x15 sparse matrix of type '<class 'numpy.float64'>'\n",
       "\twith 18 stored elements in Compressed Sparse Row format>"
      ]
     },
     "execution_count": 70,
     "metadata": {},
     "output_type": "execute_result"
    }
   ],
   "source": [
    "from sklearn.feature_extraction.text import TfidfVectorizer\n",
    "vectorizer = TfidfVectorizer()\n",
    "X = vectorizer.fit_transform(corpus)\n",
    "X"
   ]
  },
  {
   "cell_type": "code",
   "execution_count": 71,
   "metadata": {},
   "outputs": [
    {
     "data": {
      "text/plain": [
       "array([[0.        , 0.        , 0.37994462, 0.37994462, 0.37994462,\n",
       "        0.28895767, 0.        , 0.        , 0.37994462, 0.22440141,\n",
       "        0.        , 0.37994462, 0.        , 0.37994462, 0.        ],\n",
       "       [0.54645401, 0.        , 0.        , 0.        , 0.        ,\n",
       "        0.        , 0.54645401, 0.54645401, 0.        , 0.32274454,\n",
       "        0.        , 0.        , 0.        , 0.        , 0.        ],\n",
       "       [0.        , 0.35517252, 0.        , 0.        , 0.        ,\n",
       "        0.27011786, 0.        , 0.        , 0.        , 0.20977061,\n",
       "        0.35517252, 0.        , 0.35517252, 0.        , 0.71034504]])"
      ]
     },
     "execution_count": 71,
     "metadata": {},
     "output_type": "execute_result"
    }
   ],
   "source": [
    "X.toarray()"
   ]
  },
  {
   "cell_type": "markdown",
   "metadata": {},
   "source": [
    "## 文章分群"
   ]
  },
  {
   "cell_type": "code",
   "execution_count": 85,
   "metadata": {},
   "outputs": [],
   "source": [
    "import pandas\n",
    "news = pandas.read_excel('https://raw.githubusercontent.com/ywchiu/pytextmining/master/data/20150628news.xlsx', index_col = 0)"
   ]
  },
  {
   "cell_type": "code",
   "execution_count": 86,
   "metadata": {},
   "outputs": [
    {
     "data": {
      "text/html": [
       "<div>\n",
       "<style scoped>\n",
       "    .dataframe tbody tr th:only-of-type {\n",
       "        vertical-align: middle;\n",
       "    }\n",
       "\n",
       "    .dataframe tbody tr th {\n",
       "        vertical-align: top;\n",
       "    }\n",
       "\n",
       "    .dataframe thead th {\n",
       "        text-align: right;\n",
       "    }\n",
       "</style>\n",
       "<table border=\"1\" class=\"dataframe\">\n",
       "  <thead>\n",
       "    <tr style=\"text-align: right;\">\n",
       "      <th></th>\n",
       "      <th>category</th>\n",
       "      <th>description</th>\n",
       "      <th>pubdate</th>\n",
       "      <th>title</th>\n",
       "    </tr>\n",
       "  </thead>\n",
       "  <tbody>\n",
       "    <tr>\n",
       "      <th>0</th>\n",
       "      <td>社會/生活</td>\n",
       "      <td>新北市八仙水上樂園昨晚發生粉塵爆炸，新北市衛生局統計到目前為止，由救護車送醫再加上自行送醫的...</td>\n",
       "      <td>Sun, 28 Jun 2015 07:40:00 +0800</td>\n",
       "      <td>八仙塵爆  五相關人依公共危險重傷害法辦</td>\n",
       "    </tr>\n",
       "    <tr>\n",
       "      <th>1</th>\n",
       "      <td>社會/生活</td>\n",
       "      <td>新北市八仙樂園昨天晚上(6/27)舉辦活動，過程中噴灑大量玉米粉而引發粉塵爆炸，根據最新統計...</td>\n",
       "      <td>Sun, 28 Jun 2015 07:40:00 +0800</td>\n",
       "      <td>八仙樂園意外 病患持續增加中</td>\n",
       "    </tr>\n",
       "    <tr>\n",
       "      <th>2</th>\n",
       "      <td>財經/要聞</td>\n",
       "      <td>希臘債務違約限期逼近，資金持續外流。路透社引述三間銀行的消息指出，希臘國內有3分之1的自動櫃...</td>\n",
       "      <td>Sun, 28 Jun 2015 07:40:00 +0800</td>\n",
       "      <td>希臘國內三分一自動櫃員機現金短缺</td>\n",
       "    </tr>\n",
       "    <tr>\n",
       "      <th>3</th>\n",
       "      <td>社會/生活</td>\n",
       "      <td>台鐵「新基隆車站」第一階段工程本月底完成，台鐵表示，明天（29號）啟用後，由於南站周邊道路尚...</td>\n",
       "      <td>Sun, 28 Jun 2015 07:40:00 +0800</td>\n",
       "      <td>台鐵新基隆車站29日正式啟用</td>\n",
       "    </tr>\n",
       "    <tr>\n",
       "      <th>4</th>\n",
       "      <td>財經/要聞</td>\n",
       "      <td>《中國時報》\\n●樂園變煉獄 派對驚爆 逾300人遭火紋身\\n八仙樂園昨晚舉辦「COLOR ...</td>\n",
       "      <td>Sun, 28 Jun 2015 07:38:17 +0800</td>\n",
       "      <td>6月28日各報頭版要聞</td>\n",
       "    </tr>\n",
       "  </tbody>\n",
       "</table>\n",
       "</div>"
      ],
      "text/plain": [
       "  category                                        description  \\\n",
       "0    社會/生活  新北市八仙水上樂園昨晚發生粉塵爆炸，新北市衛生局統計到目前為止，由救護車送醫再加上自行送醫的...   \n",
       "1    社會/生活  新北市八仙樂園昨天晚上(6/27)舉辦活動，過程中噴灑大量玉米粉而引發粉塵爆炸，根據最新統計...   \n",
       "2    財經/要聞  希臘債務違約限期逼近，資金持續外流。路透社引述三間銀行的消息指出，希臘國內有3分之1的自動櫃...   \n",
       "3    社會/生活  台鐵「新基隆車站」第一階段工程本月底完成，台鐵表示，明天（29號）啟用後，由於南站周邊道路尚...   \n",
       "4    財經/要聞  《中國時報》\\n●樂園變煉獄 派對驚爆 逾300人遭火紋身\\n八仙樂園昨晚舉辦「COLOR ...   \n",
       "\n",
       "                           pubdate                 title  \n",
       "0  Sun, 28 Jun 2015 07:40:00 +0800  八仙塵爆  五相關人依公共危險重傷害法辦  \n",
       "1  Sun, 28 Jun 2015 07:40:00 +0800        八仙樂園意外 病患持續增加中  \n",
       "2  Sun, 28 Jun 2015 07:40:00 +0800      希臘國內三分一自動櫃員機現金短缺  \n",
       "3  Sun, 28 Jun 2015 07:40:00 +0800        台鐵新基隆車站29日正式啟用  \n",
       "4  Sun, 28 Jun 2015 07:38:17 +0800           6月28日各報頭版要聞  "
      ]
     },
     "execution_count": 86,
     "metadata": {},
     "output_type": "execute_result"
    }
   ],
   "source": [
    "news.head()"
   ]
  },
  {
   "cell_type": "code",
   "execution_count": 88,
   "metadata": {},
   "outputs": [],
   "source": [
    "corpus = []\n",
    "titles = []\n",
    "for idx, rec in news.iterrows():\n",
    "    titles.append(rec['title'])\n",
    "    corpus.append(' '.join(jieba.cut(rec['description'])))"
   ]
  },
  {
   "cell_type": "code",
   "execution_count": 90,
   "metadata": {},
   "outputs": [
    {
     "data": {
      "text/plain": [
       "'八仙塵爆  五相關人依公共危險重傷害法辦'"
      ]
     },
     "execution_count": 90,
     "metadata": {},
     "output_type": "execute_result"
    }
   ],
   "source": [
    "#corpus[0]\n",
    "titles[0]"
   ]
  },
  {
   "cell_type": "code",
   "execution_count": 91,
   "metadata": {},
   "outputs": [],
   "source": [
    "from sklearn.feature_extraction.text import CountVectorizer\n",
    "vectorizer = CountVectorizer()\n",
    "X = vectorizer.fit_transform(corpus)"
   ]
  },
  {
   "cell_type": "code",
   "execution_count": 92,
   "metadata": {},
   "outputs": [
    {
     "data": {
      "text/plain": [
       "<147x11138 sparse matrix of type '<class 'numpy.int64'>'\n",
       "\twith 22639 stored elements in Compressed Sparse Row format>"
      ]
     },
     "execution_count": 92,
     "metadata": {},
     "output_type": "execute_result"
    }
   ],
   "source": [
    "X"
   ]
  },
  {
   "cell_type": "code",
   "execution_count": 93,
   "metadata": {},
   "outputs": [],
   "source": [
    "from sklearn.metrics.pairwise import cosine_distances\n",
    "cs = cosine_distances(X)"
   ]
  },
  {
   "cell_type": "code",
   "execution_count": 99,
   "metadata": {},
   "outputs": [
    {
     "name": "stdout",
     "output_type": "stream",
     "text": [
      "八仙塵爆  五相關人依公共危險重傷害法辦\n",
      "========================\n",
      "八仙樂園粉塵燃爆 400人傷 負責人被移送\n",
      "6月28日各報頭版要聞\n",
      "八仙樂園粉塵瞬燃　還原失事現場影片曝光\n",
      "八仙樂園爆炸228人輕重傷 朱立倫：無限期停業\n",
      "八仙樂園爆炸意外 朱立倫：立即停園接受調查\n",
      "八仙樂園貼出暫停營業海報\n",
      "彩色派對主辦人：風勢太大，引燃粉塵\n",
      "八仙樂園爆炸案 士檢派3檢察官現場指揮\n",
      "【八仙意外】讓專業的來！柯文哲指示啟動EOC\n",
      "八仙樂園爆炸案 3檢察官展開調查\n"
     ]
    }
   ],
   "source": [
    "print(titles[0])\n",
    "print('========================')\n",
    "for pos in cs[0].argsort()[1:11]:\n",
    "    print(titles[pos])"
   ]
  },
  {
   "cell_type": "code",
   "execution_count": 114,
   "metadata": {},
   "outputs": [],
   "source": [
    "from sklearn.cluster import KMeans\n",
    "clf = KMeans(n_clusters = 4, init= 'k-means++', random_state = 42)\n",
    "grp = clf.fit_predict(cs)"
   ]
  },
  {
   "cell_type": "code",
   "execution_count": 115,
   "metadata": {},
   "outputs": [],
   "source": [
    "import numpy \n",
    "np_titles = numpy.array(titles)"
   ]
  },
  {
   "cell_type": "code",
   "execution_count": 117,
   "metadata": {},
   "outputs": [
    {
     "name": "stdout",
     "output_type": "stream",
     "text": [
      "希臘國內三分一自動櫃員機現金短缺\n",
      "歐元區財長拒希臘延長救助計劃\n",
      "呂紹煒專欄：違約與退出 希臘與歐洲才能重生(上)\n",
      "希臘違約在即  歐盟全力穩定經濟\n",
      "希臘脫歐變可能 歐洲衝擊大\n",
      "希債協議  法國願盡最後斡旋努力\n",
      "希臘1／3提款機錢被提光\n",
      "確保銀行穩定 希臘續與ECB緊密合作\n",
      "希臘態度強硬 歐元區耐心漸失\n",
      "希臘盼展延債務 歐元區拒絕\n"
     ]
    }
   ],
   "source": [
    "for ele in np_titles[grp == 3]:\n",
    "    print(ele)"
   ]
  },
  {
   "cell_type": "markdown",
   "metadata": {},
   "source": [
    "## Networkx"
   ]
  },
  {
   "cell_type": "code",
   "execution_count": 119,
   "metadata": {},
   "outputs": [],
   "source": [
    "import networkx as nx\n",
    "G = nx.Graph()"
   ]
  },
  {
   "cell_type": "code",
   "execution_count": 120,
   "metadata": {},
   "outputs": [],
   "source": [
    "G.add_node('A')\n",
    "G.add_node('B')\n",
    "G.add_node('C')"
   ]
  },
  {
   "cell_type": "code",
   "execution_count": 122,
   "metadata": {},
   "outputs": [],
   "source": [
    "G.add_edge('A', 'B')\n",
    "G.add_edge('A', 'C')\n",
    "G.add_edge('B', 'C')"
   ]
  },
  {
   "cell_type": "code",
   "execution_count": 123,
   "metadata": {},
   "outputs": [
    {
     "data": {
      "image/png": "[encoded data removed]",
      "text/plain": [
       "<Figure size 432x288 with 1 Axes>"
      ]
     },
     "metadata": {},
     "output_type": "display_data"
    }
   ],
   "source": [
    "nx.draw(G)"
   ]
  },
  {
   "cell_type": "code",
   "execution_count": 124,
   "metadata": {},
   "outputs": [
    {
     "data": {
      "text/plain": [
       "array([[0., 1., 1.],\n",
       "       [1., 0., 1.],\n",
       "       [1., 1., 0.]])"
      ]
     },
     "execution_count": 124,
     "metadata": {},
     "output_type": "execute_result"
    }
   ],
   "source": [
    "nx.to_numpy_array(G)"
   ]
  },
  {
   "cell_type": "markdown",
   "metadata": {},
   "source": [
    "## Python -Louvain"
   ]
  },
  {
   "cell_type": "code",
   "execution_count": 125,
   "metadata": {},
   "outputs": [],
   "source": [
    "import pandas\n",
    "news = pandas.read_excel('https://raw.githubusercontent.com/ywchiu/pytextmining/master/data/20150628news.xlsx', index_col = 0)"
   ]
  },
  {
   "cell_type": "code",
   "execution_count": 128,
   "metadata": {},
   "outputs": [],
   "source": [
    "corpus = []\n",
    "titles = []\n",
    "for idx, rec in news.iterrows():\n",
    "    titles.append(rec['title'])\n",
    "    corpus.append(' '.join(jieba.cut(rec['description'])))"
   ]
  },
  {
   "cell_type": "code",
   "execution_count": 130,
   "metadata": {},
   "outputs": [
    {
     "data": {
      "text/plain": [
       "<147x11138 sparse matrix of type '<class 'numpy.int64'>'\n",
       "\twith 22639 stored elements in Compressed Sparse Row format>"
      ]
     },
     "execution_count": 130,
     "metadata": {},
     "output_type": "execute_result"
    }
   ],
   "source": [
    "from sklearn.feature_extraction.text import CountVectorizer\n",
    "vectorizer = CountVectorizer()\n",
    "X = vectorizer.fit_transform(corpus)\n",
    "X"
   ]
  },
  {
   "cell_type": "code",
   "execution_count": 132,
   "metadata": {},
   "outputs": [],
   "source": [
    "from sklearn.metrics.pairwise import cosine_distances\n",
    "cs = cosine_distances(X)"
   ]
  },
  {
   "cell_type": "code",
   "execution_count": 165,
   "metadata": {},
   "outputs": [],
   "source": [
    "m = (cs < 0.8).astype(int)"
   ]
  },
  {
   "cell_type": "code",
   "execution_count": 166,
   "metadata": {},
   "outputs": [],
   "source": [
    "G = nx.from_numpy_array(m)"
   ]
  },
  {
   "cell_type": "code",
   "execution_count": 167,
   "metadata": {},
   "outputs": [
    {
     "name": "stdout",
     "output_type": "stream",
     "text": [
      "Requirement already satisfied: python-louvain in /Users/davidchiu/.pyenv/versions/3.6.2/lib/python3.6/site-packages\n",
      "Requirement already satisfied: networkx in /Users/davidchiu/.pyenv/versions/3.6.2/lib/python3.6/site-packages (from python-louvain)\n",
      "Requirement already satisfied: decorator>=4.3.0 in /Users/davidchiu/.pyenv/versions/3.6.2/lib/python3.6/site-packages (from networkx->python-louvain)\n",
      "\u001b[33mYou are using pip version 9.0.1, however version 19.3.1 is available.\n",
      "You should consider upgrading via the 'pip install --upgrade pip' command.\u001b[0m\n"
     ]
    }
   ],
   "source": [
    "! pip install python-louvain"
   ]
  },
  {
   "cell_type": "code",
   "execution_count": 168,
   "metadata": {},
   "outputs": [],
   "source": [
    "import community\n",
    "group = community.best_partition(G)"
   ]
  },
  {
   "cell_type": "code",
   "execution_count": 169,
   "metadata": {},
   "outputs": [
    {
     "data": {
      "text/plain": [
       "[(0, 36),\n",
       " (9, 17),\n",
       " (1, 11),\n",
       " (31, 7),\n",
       " (10, 4),\n",
       " (60, 3),\n",
       " (2, 2),\n",
       " (7, 2),\n",
       " (23, 2),\n",
       " (32, 2)]"
      ]
     },
     "execution_count": 169,
     "metadata": {},
     "output_type": "execute_result"
    }
   ],
   "source": [
    "from collections import Counter\n",
    "c = Counter(numpy.array(list(group.values())))\n",
    "c.most_common(10)"
   ]
  },
  {
   "cell_type": "code",
   "execution_count": 170,
   "metadata": {},
   "outputs": [],
   "source": [
    "cluster_idx = numpy.array(list(group.values()))"
   ]
  },
  {
   "cell_type": "code",
   "execution_count": 171,
   "metadata": {},
   "outputs": [],
   "source": [
    "import numpy \n",
    "np_titles = numpy.array(titles)"
   ]
  },
  {
   "cell_type": "code",
   "execution_count": 176,
   "metadata": {},
   "outputs": [
    {
     "name": "stdout",
     "output_type": "stream",
     "text": [
      "旺報觀點－鄭弘儀！別讓台灣人背黑鍋！\n",
      "旺報觀點－紀念抗戰 台日中獲和解轉機\n",
      "紀念抗戰 學者：反省、避免戰爭\n",
      "多位台老兵 受邀赴陸閱兵\n",
      "首例 馬頒紀念章給新四軍老兵\n",
      "鄭弘儀反紀念抗戰 陸批數典忘祖\n",
      "中間選民為洪秀柱按讚\n"
     ]
    }
   ],
   "source": [
    "for ele in np_titles[cluster_idx == 31]:\n",
    "    print(ele)"
   ]
  },
  {
   "cell_type": "markdown",
   "metadata": {},
   "source": [
    "## 文章分類"
   ]
  },
  {
   "cell_type": "code",
   "execution_count": 177,
   "metadata": {},
   "outputs": [],
   "source": [
    "import pandas\n",
    "df = pandas.read_excel('https://raw.githubusercontent.com/ywchiu/pytextmining/master/data/yahoo_movie.xlsx', index_col = 0)"
   ]
  },
  {
   "cell_type": "code",
   "execution_count": 178,
   "metadata": {},
   "outputs": [
    {
     "data": {
      "text/plain": [
       "1112"
      ]
     },
     "execution_count": 178,
     "metadata": {},
     "output_type": "execute_result"
    }
   ],
   "source": [
    "len(df)"
   ]
  },
  {
   "cell_type": "code",
   "execution_count": 179,
   "metadata": {},
   "outputs": [
    {
     "data": {
      "text/html": [
       "<div>\n",
       "<style scoped>\n",
       "    .dataframe tbody tr th:only-of-type {\n",
       "        vertical-align: middle;\n",
       "    }\n",
       "\n",
       "    .dataframe tbody tr th {\n",
       "        vertical-align: top;\n",
       "    }\n",
       "\n",
       "    .dataframe thead th {\n",
       "        text-align: right;\n",
       "    }\n",
       "</style>\n",
       "<table border=\"1\" class=\"dataframe\">\n",
       "  <thead>\n",
       "    <tr style=\"text-align: right;\">\n",
       "      <th></th>\n",
       "      <th>content</th>\n",
       "      <th>stars</th>\n",
       "      <th>title</th>\n",
       "      <th>status</th>\n",
       "    </tr>\n",
       "  </thead>\n",
       "  <tbody>\n",
       "    <tr>\n",
       "      <th>0</th>\n",
       "      <td>不知道耶! 看完整個無感\\r\\n有種覺得就是女兒\"給蕭\"害死了老爸\\r\\n然後...既然可以...</td>\n",
       "      <td>3</td>\n",
       "      <td>古墓奇兵</td>\n",
       "      <td>soso</td>\n",
       "    </tr>\n",
       "    <tr>\n",
       "      <th>1</th>\n",
       "      <td>很好看的動作片，不會浪費錢跟時間。很久沒有這樣的探險片。可說是女版的印第安那瓊。女主角跟爸爸...</td>\n",
       "      <td>5</td>\n",
       "      <td>古墓奇兵</td>\n",
       "      <td>good</td>\n",
       "    </tr>\n",
       "    <tr>\n",
       "      <th>2</th>\n",
       "      <td>說這個不好看的話，那我還真不知道，還有什麼片是您可以去看得了。電影好看，但話說羅拉有裝可以撿...</td>\n",
       "      <td>5</td>\n",
       "      <td>古墓奇兵</td>\n",
       "      <td>good</td>\n",
       "    </tr>\n",
       "    <tr>\n",
       "      <th>3</th>\n",
       "      <td>父女重逢真的很讓人感動，五顆星。</td>\n",
       "      <td>5</td>\n",
       "      <td>古墓奇兵</td>\n",
       "      <td>good</td>\n",
       "    </tr>\n",
       "    <tr>\n",
       "      <th>4</th>\n",
       "      <td>劇情雖然老套，但仍拍出新意，古墓能殺人的方式不就是機關和毒，要求亂七八糟的觀眾，你看喪尸片看多了。</td>\n",
       "      <td>4</td>\n",
       "      <td>古墓奇兵</td>\n",
       "      <td>good</td>\n",
       "    </tr>\n",
       "  </tbody>\n",
       "</table>\n",
       "</div>"
      ],
      "text/plain": [
       "                                             content  stars title status\n",
       "0  不知道耶! 看完整個無感\\r\\n有種覺得就是女兒\"給蕭\"害死了老爸\\r\\n然後...既然可以...      3  古墓奇兵   soso\n",
       "1  很好看的動作片，不會浪費錢跟時間。很久沒有這樣的探險片。可說是女版的印第安那瓊。女主角跟爸爸...      5  古墓奇兵   good\n",
       "2  說這個不好看的話，那我還真不知道，還有什麼片是您可以去看得了。電影好看，但話說羅拉有裝可以撿...      5  古墓奇兵   good\n",
       "3                                   父女重逢真的很讓人感動，五顆星。      5  古墓奇兵   good\n",
       "4  劇情雖然老套，但仍拍出新意，古墓能殺人的方式不就是機關和毒，要求亂七八糟的觀眾，你看喪尸片看多了。      4  古墓奇兵   good"
      ]
     },
     "execution_count": 179,
     "metadata": {},
     "output_type": "execute_result"
    }
   ],
   "source": [
    "df.head()"
   ]
  },
  {
   "cell_type": "code",
   "execution_count": 180,
   "metadata": {},
   "outputs": [],
   "source": [
    "import jieba\n",
    "corpus = []\n",
    "tags = []\n",
    "for idx, rec in df[df['status'].isin(['good', 'bad'])].iterrows():\n",
    "    corpus.append(' '.join(jieba.cut(rec['content'])))\n",
    "    tags.append(rec['status'])"
   ]
  },
  {
   "cell_type": "code",
   "execution_count": 181,
   "metadata": {},
   "outputs": [],
   "source": [
    "from sklearn.feature_extraction.text import TfidfVectorizer\n",
    "vectorizer = TfidfVectorizer()\n",
    "X = vectorizer.fit_transform(corpus)"
   ]
  },
  {
   "cell_type": "code",
   "execution_count": 182,
   "metadata": {},
   "outputs": [],
   "source": [
    "from sklearn.model_selection import train_test_split\n",
    "train_X, test_X, train_y, test_y = train_test_split(X, tags, test_size = 0.3, random_state = 42)"
   ]
  },
  {
   "cell_type": "code",
   "execution_count": 183,
   "metadata": {},
   "outputs": [
    {
     "data": {
      "text/plain": [
       "MultinomialNB(alpha=0.01, class_prior=None, fit_prior=True)"
      ]
     },
     "execution_count": 183,
     "metadata": {},
     "output_type": "execute_result"
    }
   ],
   "source": [
    "from sklearn.naive_bayes import MultinomialNB\n",
    "clf = MultinomialNB(alpha = 0.01)\n",
    "clf.fit(train_X, train_y)"
   ]
  },
  {
   "cell_type": "code",
   "execution_count": 184,
   "metadata": {},
   "outputs": [],
   "source": [
    "\n",
    "predicted = clf.predict(test_X)"
   ]
  },
  {
   "cell_type": "code",
   "execution_count": 185,
   "metadata": {},
   "outputs": [
    {
     "data": {
      "text/plain": [
       "0.7687074829931972"
      ]
     },
     "execution_count": 185,
     "metadata": {},
     "output_type": "execute_result"
    }
   ],
   "source": [
    "from sklearn.metrics import accuracy_score, confusion_matrix\n",
    "accuracy_score(test_y, predicted)"
   ]
  },
  {
   "cell_type": "code",
   "execution_count": 186,
   "metadata": {},
   "outputs": [
    {
     "name": "stdout",
     "output_type": "stream",
     "text": [
      "['bad' 'good']\n"
     ]
    }
   ],
   "source": [
    "print(clf.classes_)"
   ]
  },
  {
   "cell_type": "code",
   "execution_count": 187,
   "metadata": {},
   "outputs": [
    {
     "data": {
      "text/plain": [
       "array([[ 82,  35],\n",
       "       [ 33, 144]])"
      ]
     },
     "execution_count": 187,
     "metadata": {},
     "output_type": "execute_result"
    }
   ],
   "source": [
    "confusion_matrix(test_y, predicted)"
   ]
  },
  {
   "cell_type": "code",
   "execution_count": 189,
   "metadata": {},
   "outputs": [
    {
     "name": "stdout",
     "output_type": "stream",
     "text": [
      "(6.178434271448121, '不錯', 1.0217256810242579, 12.491099235107066)\n",
      "(4.841496524639071, '好看', 5.721890998280063, 32.54401190717558)\n",
      "(3.268002598004482, '非常', 0.8762828650075458, 6.131697277435952)\n",
      "(3.113001433356311, '希望', 0.0, 3.113001433356311)\n",
      "(3.0247294973540355, '雖然', 0.7251698131544237, 5.2181720217929355)\n",
      "(2.611183199778206, '感動', 0.0, 2.611183199778206)\n",
      "(2.571315326386349, '不過', 0.6261452957600632, 4.181332321918913)\n",
      "(2.5367443211815166, '值得', 1.055760159296236, 5.214937909805936)\n",
      "(2.472482266378667, '大家', 0.7358643195575264, 4.291893746945456)\n",
      "(2.4505531251249275, '刺激', 0.4969358919588743, 3.6683209281514904)\n",
      "(2.390246731027003, '其實', 0.627292613286546, 3.889630849332555)\n",
      "(2.279531356498127, '爽片', 1.7571929836326827, 6.285107862107328)\n",
      "(2.248390413545918, '有些', 0.33777782660848044, 3.0078468408008003)\n",
      "(2.2296991856156567, '效果', 0.0, 2.2296991856156567)\n",
      "(2.22153269208444, '但是', 0.7678723366638398, 3.927386191330429)\n",
      "(2.2140501262756667, '喜歡', 1.0301665906033628, 4.494890596286016)\n",
      "(2.1315715690916055, '很爽', 0.2765606570396251, 2.7210804027665643)\n",
      "(2.127164540463352, '期待', 1.4077242532420837, 5.121625654710164)\n",
      "(2.103745389034346, '精彩', 0.972768622869756, 4.150202893993886)\n",
      "(2.086083952757553, '還可以', 0.9163375941464995, 3.997641103215029)\n"
     ]
    }
   ],
   "source": [
    "import operator\n",
    "coef_features_c1_c2 = []\n",
    "\n",
    "for index, features in enumerate(zip(vectorizer.get_feature_names(), \\\n",
    "                        clf.feature_count_[0], clf.feature_count_[1])):\n",
    "    feat,c1,c2 = features\n",
    "    coef_features_c1_c2.append(tuple([c2/(c1 + 1), feat, c1, c2]))\n",
    "\n",
    "for i in sorted(coef_features_c1_c2, key = operator.itemgetter(0), reverse=True)[0:20]:\n",
    "    print(i)"
   ]
  },
  {
   "cell_type": "code",
   "execution_count": null,
   "metadata": {},
   "outputs": [],
   "source": []
  }
 ],
 "metadata": {
  "kernelspec": {
   "display_name": "Python 3",
   "language": "python",
   "name": "python3"
  },
  "language_info": {
   "codemirror_mode": {
    "name": "ipython",
    "version": 3
   },
   "file_extension": ".py",
   "mimetype": "text/x-python",
   "name": "python",
   "nbconvert_exporter": "python",
   "pygments_lexer": "ipython3",
   "version": "3.6.2"
  }
 },
 "nbformat": 4,
 "nbformat_minor": 2
}
