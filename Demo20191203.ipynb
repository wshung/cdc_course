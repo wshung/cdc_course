{
 "cells": [
  {
   "cell_type": "markdown",
   "metadata": {},
   "source": [
    "## 英文斷詞"
   ]
  },
  {
   "cell_type": "code",
   "execution_count": 1,
   "metadata": {},
   "outputs": [
    {
     "data": {
      "text/plain": [
       "['this', 'is', 'a', 'book']"
      ]
     },
     "execution_count": 1,
     "metadata": {},
     "output_type": "execute_result"
    }
   ],
   "source": [
    "s = 'this is a book'\n",
    "s.split()"
   ]
  },
  {
   "cell_type": "code",
   "execution_count": 2,
   "metadata": {},
   "outputs": [
    {
     "data": {
      "text/plain": [
       "'今天天氣真好'"
      ]
     },
     "execution_count": 2,
     "metadata": {},
     "output_type": "execute_result"
    }
   ],
   "source": [
    "s = '今天天氣真好'"
   ]
  },
  {
   "cell_type": "code",
   "execution_count": 3,
   "metadata": {},
   "outputs": [
    {
     "name": "stdout",
     "output_type": "stream",
     "text": [
      "Requirement already satisfied: jieba in /Users/davidchiu/.pyenv/versions/3.6.2/lib/python3.6/site-packages\n",
      "\u001b[33mYou are using pip version 9.0.1, however version 19.3.1 is available.\n",
      "You should consider upgrading via the 'pip install --upgrade pip' command.\u001b[0m\n"
     ]
    }
   ],
   "source": [
    "! pip install jieba"
   ]
  },
  {
   "cell_type": "code",
   "execution_count": 6,
   "metadata": {},
   "outputs": [
    {
     "name": "stderr",
     "output_type": "stream",
     "text": [
      "Building prefix dict from the default dictionary ...\n",
      "Dumping model to file cache /var/folders/46/b7dzk4mn6g54qzptv608w7d00000gn/T/jieba.cache\n",
      "Loading model cost 0.808 seconds.\n",
      "Prefix dict has been built succesfully.\n"
     ]
    },
    {
     "data": {
      "text/plain": [
       "['今天', '天氣', '真好']"
      ]
     },
     "execution_count": 6,
     "metadata": {},
     "output_type": "execute_result"
    }
   ],
   "source": [
    "import jieba\n",
    "s = '今天天氣真好'\n",
    "list(jieba.cut(s))"
   ]
  },
  {
   "cell_type": "code",
   "execution_count": 9,
   "metadata": {},
   "outputs": [
    {
     "name": "stdout",
     "output_type": "stream",
     "text": [
      "<_io.BufferedReader name='/Users/davidchiu/.pyenv/versions/3.6.2/lib/python3.6/site-packages/jieba/dict.txt'>\n"
     ]
    }
   ],
   "source": [
    "import jieba\n",
    "print(jieba.get_dict_file())"
   ]
  },
  {
   "cell_type": "code",
   "execution_count": 11,
   "metadata": {},
   "outputs": [
    {
     "name": "stdout",
     "output_type": "stream",
     "text": [
      "['馬斯克', '以', '3', '千萬', '買下', '「', '007', '水中', '跑車', '」', ' ', '30', '年前', '僅', '需', '3', '千多', '塊']\n"
     ]
    }
   ],
   "source": [
    "import jieba\n",
    "s = '馬斯克以3千萬買下「007水中跑車」 30年前僅需3千多塊'\n",
    "print(list(jieba.cut(s)))"
   ]
  },
  {
   "cell_type": "code",
   "execution_count": 12,
   "metadata": {},
   "outputs": [
    {
     "name": "stdout",
     "output_type": "stream",
     "text": [
      "['蘋果', '手機', '戰略', '大', '轉彎', '？', 'iPhone', ' ', '傳', '將', '不再', '「', '一年', '一', '更', '」']\n"
     ]
    }
   ],
   "source": [
    "s = '蘋果手機戰略大轉彎？iPhone 傳將不再「一年一更」'\n",
    "print(list(jieba.cut(s)))"
   ]
  },
  {
   "cell_type": "code",
   "execution_count": 13,
   "metadata": {},
   "outputs": [
    {
     "name": "stdout",
     "output_type": "stream",
     "text": [
      "['蘋果', '手機', '戰略', '大', '轉彎', '？', 'iPhone', ' ', '傳', '將', '不再', '「', '一年一更', '」']\n"
     ]
    }
   ],
   "source": [
    "jieba.load_userdict('userdict.txt')\n",
    "print(list(jieba.cut(s)))"
   ]
  },
  {
   "cell_type": "markdown",
   "metadata": {},
   "source": [
    "## CKIP"
   ]
  },
  {
   "cell_type": "code",
   "execution_count": 14,
   "metadata": {
    "scrolled": true
   },
   "outputs": [
    {
     "name": "stdout",
     "output_type": "stream",
     "text": [
      "Collecting ckiptagger\n",
      "  Downloading https://files.pythonhosted.org/packages/97/7c/1852b16d602eb1e62e4b5ba187a45935bb3fa160b2c49ae25905d0f90a7a/ckiptagger-0.1.0-py3-none-any.whl\n",
      "Installing collected packages: ckiptagger\n",
      "  Found existing installation: ckiptagger 0.0.19\n",
      "    Uninstalling ckiptagger-0.0.19:\n",
      "      Successfully uninstalled ckiptagger-0.0.19\n",
      "Successfully installed ckiptagger-0.1.0\n",
      "\u001b[33mYou are using pip version 9.0.1, however version 19.3.1 is available.\n",
      "You should consider upgrading via the 'pip install --upgrade pip' command.\u001b[0m\n"
     ]
    }
   ],
   "source": [
    "!pip install -U ckiptagger"
   ]
  },
  {
   "cell_type": "code",
   "execution_count": 21,
   "metadata": {},
   "outputs": [],
   "source": [
    "from ckiptagger import data_utils, construct_dictionary, WS, POS, NER \n",
    "ws = WS(\"/Users/davidchiu/project/obanktm/data/\")"
   ]
  },
  {
   "cell_type": "code",
   "execution_count": 38,
   "metadata": {},
   "outputs": [],
   "source": [
    "s = '''\n",
    "登革熱復燃 高市開5張罰單疫情監控至月底\n",
    "高雄市本土登革熱疫情10月21日剛解除疫情警報，4日鳳山區文衡里新增一例確診病例。衛生局5日在文衡里等5處孳生源查獲白線斑蚊成蚊及孑孓，依法開出5張罰單，並持續對個案住處及活動地點加強防疫。（衛生局提供）中央社記者程啟峰高雄傳真　108年11月5日\n",
    "\n",
    "'''"
   ]
  },
  {
   "cell_type": "code",
   "execution_count": 42,
   "metadata": {},
   "outputs": [
    {
     "name": "stdout",
     "output_type": "stream",
     "text": [
      "['\\n', '登革熱', '復燃', ' ', '高市', '開', '5', '張', '罰單', '疫情', '監控', '至', '月底', '\\n', '高雄市', '本土', '登革熱', '疫情', '10', '月', '21', '日', '剛', '解除', '疫情', '警報', '，', '4', '日', '鳳山區', '文衡', '里', '新增', '一例', '確診', '病例', '。', '衛生局', '5', '日', '在', '文衡', '里等', '5', '處', '孳生源', '查獲', '白線斑蚊', '成蚊', '及', '孑孓', '，', '依法', '開出', '5', '張', '罰單', '，', '並', '持續', '對', '個案', '住處', '及', '活動', '地點', '加強', '防疫', '。', '（', '衛生局', '提供', '）', '中央社', '記者', '程啟峰', '高雄', '傳真', '\\u3000', '108', '年', '11', '月', '5', '日', '\\n', '\\n']\n"
     ]
    }
   ],
   "source": [
    "print(list(jieba.cut(s)))"
   ]
  },
  {
   "cell_type": "code",
   "execution_count": 39,
   "metadata": {},
   "outputs": [],
   "source": [
    "word_sentence_list = ws([s])"
   ]
  },
  {
   "cell_type": "code",
   "execution_count": 43,
   "metadata": {},
   "outputs": [
    {
     "name": "stdout",
     "output_type": "stream",
     "text": [
      "[['\\n', '登革熱', '復燃', ' ', '高市', '開', '5', '張', '罰單', '疫情', '監控', '至', '月底\\n', '高雄市', '本土', '登革熱', '疫情', '10月', '21日', '剛', '解除', '疫情', '警報', '，', '4日', '鳳山區', '文衡里', '新增', '一', '例', '確診', '病例', '。', '衛生局', '5日', '在', '文衡里', '等', '5', '處', '孳生源', '查獲', '白線斑蚊', '成蚊', '及', '孑孓', '，', '依法', '開出', '5', '張', '罰單', '，', '並', '持續', '對', '個案', '住處', '及', '活動', '地點', '加強', '防疫', '。', '（', '衛生局', '提供', '）', '中央社', '記者', '程啟峰', '高雄', '傳真', '\\u3000', '108年', '11月', '5日', '\\n\\n']]\n"
     ]
    }
   ],
   "source": [
    "print(word_sentence_list)"
   ]
  },
  {
   "cell_type": "code",
   "execution_count": 29,
   "metadata": {},
   "outputs": [
    {
     "name": "stderr",
     "output_type": "stream",
     "text": [
      "Exception ignored in: <bound method NER.__del__ of <ckiptagger.api.NER object at 0x153e55a90>>\n",
      "Traceback (most recent call last):\n",
      "  File \"/Users/davidchiu/.pyenv/versions/3.6.2/lib/python3.6/site-packages/ckiptagger/api.py\", line 287, in __del__\n",
      "    self.model.sess.close()\n",
      "AttributeError: 'NER' object has no attribute 'model'\n",
      "Exception ignored in: <bound method POS.__del__ of <ckiptagger.api.POS object at 0x1538ec898>>\n",
      "Traceback (most recent call last):\n",
      "  File \"/Users/davidchiu/.pyenv/versions/3.6.2/lib/python3.6/site-packages/ckiptagger/api.py\", line 185, in __del__\n",
      "    self.model.sess.close()\n",
      "AttributeError: 'POS' object has no attribute 'model'\n",
      "Exception ignored in: <bound method POS.__del__ of <ckiptagger.api.POS object at 0x1532edd68>>\n",
      "Traceback (most recent call last):\n",
      "  File \"/Users/davidchiu/.pyenv/versions/3.6.2/lib/python3.6/site-packages/ckiptagger/api.py\", line 185, in __del__\n",
      "    self.model.sess.close()\n",
      "AttributeError: 'POS' object has no attribute 'model'\n"
     ]
    }
   ],
   "source": [
    "pos = POS(\"/Users/davidchiu/project/ckip/data/\")"
   ]
  },
  {
   "cell_type": "code",
   "execution_count": 45,
   "metadata": {},
   "outputs": [],
   "source": [
    "pos_sentence_list = pos(word_sentence_list)"
   ]
  },
  {
   "cell_type": "code",
   "execution_count": 46,
   "metadata": {},
   "outputs": [
    {
     "name": "stdout",
     "output_type": "stream",
     "text": [
      "[['WHITESPACE', 'Na', 'VA', 'WHITESPACE', 'Nc', 'VC', 'Neu', 'Nf', 'Na', 'Na', 'VC', 'P', 'Na', 'Nc', 'Nc', 'Na', 'Na', 'Nd', 'Nd', 'D', 'VC', 'Na', 'Na', 'COMMACATEGORY', 'Nd', 'Nc', 'Nc', 'VJ', 'Neu', 'Na', 'Nv', 'Na', 'PERIODCATEGORY', 'Nc', 'Nd', 'P', 'Nc', 'Cab', 'Neu', 'Nf', 'Na', 'VE', 'Na', 'Na', 'Caa', 'Na', 'COMMACATEGORY', 'D', 'VC', 'Neu', 'Nf', 'Na', 'COMMACATEGORY', 'Cbb', 'VL', 'P', 'Na', 'Nc', 'Caa', 'Na', 'Na', 'VC', 'VA', 'PERIODCATEGORY', 'PARENTHESISCATEGORY', 'Nc', 'VD', 'PARENTHESISCATEGORY', 'Nc', 'Na', 'Nb', 'Nc', 'VD', 'WHITESPACE', 'Nd', 'Nd', 'Nd', 'WHITESPACE']]\n"
     ]
    }
   ],
   "source": [
    "print(pos_sentence_list)"
   ]
  },
  {
   "cell_type": "code",
   "execution_count": 35,
   "metadata": {},
   "outputs": [
    {
     "name": "stderr",
     "output_type": "stream",
     "text": [
      "Exception ignored in: <bound method POS.__del__ of <ckiptagger.api.POS object at 0x1717e49e8>>\n",
      "Traceback (most recent call last):\n",
      "  File \"/Users/davidchiu/.pyenv/versions/3.6.2/lib/python3.6/site-packages/ckiptagger/api.py\", line 185, in __del__\n",
      "    self.model.sess.close()\n",
      "AttributeError: 'POS' object has no attribute 'model'\n",
      "Exception ignored in: <bound method NER.__del__ of <ckiptagger.api.NER object at 0x171590898>>\n",
      "Traceback (most recent call last):\n",
      "  File \"/Users/davidchiu/.pyenv/versions/3.6.2/lib/python3.6/site-packages/ckiptagger/api.py\", line 287, in __del__\n",
      "    self.model.sess.close()\n",
      "AttributeError: 'NER' object has no attribute 'model'\n"
     ]
    }
   ],
   "source": [
    "ner = NER(\"/Users/davidchiu/project/obanktm/data/\")"
   ]
  },
  {
   "cell_type": "code",
   "execution_count": 47,
   "metadata": {},
   "outputs": [],
   "source": [
    "entity_sentence_list = ner(word_sentence_list, pos_sentence_list)"
   ]
  },
  {
   "cell_type": "code",
   "execution_count": 48,
   "metadata": {},
   "outputs": [
    {
     "data": {
      "text/plain": [
       "[{(7, 9, 'GPE', '高市'),\n",
       "  (10, 11, 'CARDINAL', '5'),\n",
       "  (22, 25, 'GPE', '高雄市'),\n",
       "  (32, 38, 'DATE', '10月21日'),\n",
       "  (46, 48, 'DATE', '4日'),\n",
       "  (48, 51, 'GPE', '鳳山區'),\n",
       "  (52, 54, 'GPE', '衡里'),\n",
       "  (56, 57, 'CARDINAL', '一'),\n",
       "  (63, 66, 'ORG', '衛生局'),\n",
       "  (66, 68, 'DATE', '5日'),\n",
       "  (69, 72, 'GPE', '文衡里'),\n",
       "  (73, 74, 'CARDINAL', '5'),\n",
       "  (94, 95, 'CARDINAL', '5'),\n",
       "  (118, 121, 'ORG', '衛生局'),\n",
       "  (124, 127, 'ORG', '中央社'),\n",
       "  (132, 134, 'GPE', '高雄'),\n",
       "  (137, 141, 'DATE', '108年')}]"
      ]
     },
     "execution_count": 48,
     "metadata": {},
     "output_type": "execute_result"
    }
   ],
   "source": [
    "entity_sentence_list"
   ]
  },
  {
   "cell_type": "code",
   "execution_count": null,
   "metadata": {},
   "outputs": [],
   "source": []
  }
 ],
 "metadata": {
  "kernelspec": {
   "display_name": "Python 3",
   "language": "python",
   "name": "python3"
  },
  "language_info": {
   "codemirror_mode": {
    "name": "ipython",
    "version": 3
   },
   "file_extension": ".py",
   "mimetype": "text/x-python",
   "name": "python",
   "nbconvert_exporter": "python",
   "pygments_lexer": "ipython3",
   "version": "3.6.2"
  }
 },
 "nbformat": 4,
 "nbformat_minor": 2
}
