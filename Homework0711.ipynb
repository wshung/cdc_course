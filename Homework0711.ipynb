{
 "cells": [
  {
   "cell_type": "markdown",
   "metadata": {},
   "source": [
    "## 心臟病預測"
   ]
  },
  {
   "cell_type": "markdown",
   "metadata": {},
   "source": [
    "現有一資料集(如下表) processed.cleveland.data.csv (https://raw.githubusercontent.com/ywchiu/cdc_course/master/data/processed.cleveland.data.csv) \n",
    "\n",
    "\n",
    "|變數名稱\t|敘述|\n",
    "|----------|----|\n",
    "|age\t|年齡|\n",
    "|sex\t|性別|\n",
    "|cp\t|胸痛型|\n",
    "|trestbps\t|靜息血壓|\n",
    "|chol\t|血清中膽固醇含量(毫克/分升)|\n",
    "|fbs\t|空腹血糖>120|\n",
    "|restecg\t|靜息心電圖結果|\n",
    "|thalach\t|最大心率|\n",
    "|exang\t|運動誘發心絞痛|\n",
    "|oldpeak\t|相對於休息時 ST 段壓低引起的運動|\n",
    "|slope\t|運動高峰期 ST 段的斜率|\n",
    "|ca\t|大血管透視檢查|\n",
    "|thal\t|貧血類型|\n",
    "|num\t|血管造影疾病狀態|\n",
    "\n",
    "預測目標\n",
    "- num 如果為 0 代表心臟是正常的, 如果狀態為1,2,3,4 代表有心臟問題"
   ]
  },
  {
   "cell_type": "markdown",
   "metadata": {},
   "source": [
    "請用Python 回答以下問題：\n",
    "\n",
    "1. 使用Pandas 將資料讀取到一名為 df 的 DataFrame 中\n",
    "2. 請使用Pandas 重新編碼 num，如果num =0, 編碼為0; 如果num != 0 編碼為 1  \n",
    "3. 請將資料分為訓練與測試資料集,其中訓練資料集占80%, 測試資料集占20%\n",
    "4. 請使用Keras 建立人工神經網路模型 (目標 y 為 num)\n",
    "5. 繼第4題,請計算出模型準確度(Accuracy)? "
   ]
  }
 ],
 "metadata": {
  "kernelspec": {
   "display_name": "Python 3",
   "language": "python",
   "name": "python3"
  },
  "language_info": {
   "codemirror_mode": {
    "name": "ipython",
    "version": 3
   },
   "file_extension": ".py",
   "mimetype": "text/x-python",
   "name": "python",
   "nbconvert_exporter": "python",
   "pygments_lexer": "ipython3",
   "version": "3.6.2"
  }
 },
 "nbformat": 4,
 "nbformat_minor": 2
}
