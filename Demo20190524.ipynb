{
 "cells": [
  {
   "cell_type": "markdown",
   "metadata": {},
   "source": [
    "## Pandas 複習"
   ]
  },
  {
   "cell_type": "code",
   "execution_count": 1,
   "metadata": {},
   "outputs": [],
   "source": [
    "import pandas\n",
    "df = pandas.read_csv('https://raw.githubusercontent.com/ywchiu/ctbcpy/master/data/rent_591.csv', index_col = 0)\n"
   ]
  },
  {
   "cell_type": "code",
   "execution_count": 3,
   "metadata": {},
   "outputs": [
    {
     "data": {
      "text/html": [
       "<div>\n",
       "<style scoped>\n",
       "    .dataframe tbody tr th:only-of-type {\n",
       "        vertical-align: middle;\n",
       "    }\n",
       "\n",
       "    .dataframe tbody tr th {\n",
       "        vertical-align: top;\n",
       "    }\n",
       "\n",
       "    .dataframe thead th {\n",
       "        text-align: right;\n",
       "    }\n",
       "</style>\n",
       "<table border=\"1\" class=\"dataframe\">\n",
       "  <thead>\n",
       "    <tr style=\"text-align: right;\">\n",
       "      <th></th>\n",
       "      <th>search_date</th>\n",
       "      <th>title</th>\n",
       "      <th>address</th>\n",
       "      <th>floor_info</th>\n",
       "      <th>price</th>\n",
       "      <th>layout</th>\n",
       "      <th>building_area</th>\n",
       "      <th>building_use</th>\n",
       "    </tr>\n",
       "  </thead>\n",
       "  <tbody>\n",
       "    <tr>\n",
       "      <th>5</th>\n",
       "      <td>2018-05-12</td>\n",
       "      <td>近捷運，採光佳，有景觀，全新家電裝潢</td>\n",
       "      <td>新北市淡水區民族路</td>\n",
       "      <td>9F/11F</td>\n",
       "      <td>22,000元/月</td>\n",
       "      <td>2房1廳1衛1陽臺</td>\n",
       "      <td>24.00</td>\n",
       "      <td>電梯大樓/整層住家</td>\n",
       "    </tr>\n",
       "    <tr>\n",
       "      <th>9</th>\n",
       "      <td>2018-05-14</td>\n",
       "      <td>大衛營優質社區管理好，交通便利、裝潢佳</td>\n",
       "      <td>基隆市安樂區樂利三街</td>\n",
       "      <td>14F/18F</td>\n",
       "      <td>17,000元/月</td>\n",
       "      <td>2房1廳2衛2陽臺</td>\n",
       "      <td>32.00</td>\n",
       "      <td>電梯大樓/整層住家</td>\n",
       "    </tr>\n",
       "    <tr>\n",
       "      <th>13</th>\n",
       "      <td>2018-05-14</td>\n",
       "      <td>家樂福夜市附近，雅房出租2房2廳</td>\n",
       "      <td>嘉義市西區興業西路</td>\n",
       "      <td>7F/8F</td>\n",
       "      <td>7,500元/月</td>\n",
       "      <td>2房2廳1衛1陽臺</td>\n",
       "      <td>24.00</td>\n",
       "      <td>電梯大樓/整層住家</td>\n",
       "    </tr>\n",
       "    <tr>\n",
       "      <th>15</th>\n",
       "      <td>2018-05-14</td>\n",
       "      <td>台北市北投新民路捷運溫泉78坪雙拼美廈</td>\n",
       "      <td>台北市北投區新民路</td>\n",
       "      <td>2F/9F</td>\n",
       "      <td>25,000元/月</td>\n",
       "      <td>4房3廳3衛3陽臺</td>\n",
       "      <td>78.00</td>\n",
       "      <td>電梯大樓/整層住家</td>\n",
       "    </tr>\n",
       "    <tr>\n",
       "      <th>16</th>\n",
       "      <td>2018-05-13</td>\n",
       "      <td>出海口海景高樓層溫馨房</td>\n",
       "      <td>新北市淡水區中正東路一段</td>\n",
       "      <td>19F/21F</td>\n",
       "      <td>15,000元/月</td>\n",
       "      <td>1房1廳1衛0陽臺</td>\n",
       "      <td>18.01</td>\n",
       "      <td>電梯大樓/整層住家</td>\n",
       "    </tr>\n",
       "  </tbody>\n",
       "</table>\n",
       "</div>"
      ],
      "text/plain": [
       "   search_date                title       address floor_info      price  \\\n",
       "5   2018-05-12   近捷運，採光佳，有景觀，全新家電裝潢     新北市淡水區民族路     9F/11F  22,000元/月   \n",
       "9   2018-05-14  大衛營優質社區管理好，交通便利、裝潢佳    基隆市安樂區樂利三街    14F/18F  17,000元/月   \n",
       "13  2018-05-14     家樂福夜市附近，雅房出租2房2廳     嘉義市西區興業西路      7F/8F   7,500元/月   \n",
       "15  2018-05-14  台北市北投新民路捷運溫泉78坪雙拼美廈     台北市北投區新民路      2F/9F  25,000元/月   \n",
       "16  2018-05-13          出海口海景高樓層溫馨房  新北市淡水區中正東路一段    19F/21F  15,000元/月   \n",
       "\n",
       "       layout  building_area building_use  \n",
       "5   2房1廳1衛1陽臺          24.00    電梯大樓/整層住家  \n",
       "9   2房1廳2衛2陽臺          32.00    電梯大樓/整層住家  \n",
       "13  2房2廳1衛1陽臺          24.00    電梯大樓/整層住家  \n",
       "15  4房3廳3衛3陽臺          78.00    電梯大樓/整層住家  \n",
       "16  1房1廳1衛0陽臺          18.01    電梯大樓/整層住家  "
      ]
     },
     "execution_count": 3,
     "metadata": {},
     "output_type": "execute_result"
    }
   ],
   "source": [
    "df.head()"
   ]
  },
  {
   "cell_type": "code",
   "execution_count": 4,
   "metadata": {},
   "outputs": [
    {
     "name": "stdout",
     "output_type": "stream",
     "text": [
      "<class 'pandas.core.frame.DataFrame'>\n",
      "Int64Index: 100 entries, 5 to 431\n",
      "Data columns (total 8 columns):\n",
      "search_date      100 non-null object\n",
      "title            100 non-null object\n",
      "address          100 non-null object\n",
      "floor_info       100 non-null object\n",
      "price            100 non-null object\n",
      "layout           100 non-null object\n",
      "building_area    100 non-null float64\n",
      "building_use     100 non-null object\n",
      "dtypes: float64(1), object(7)\n",
      "memory usage: 7.0+ KB\n"
     ]
    }
   ],
   "source": [
    "df.info()"
   ]
  },
  {
   "cell_type": "code",
   "execution_count": 5,
   "metadata": {},
   "outputs": [
    {
     "data": {
      "text/plain": [
       "search_date       object\n",
       "title             object\n",
       "address           object\n",
       "floor_info        object\n",
       "price             object\n",
       "layout            object\n",
       "building_area    float64\n",
       "building_use      object\n",
       "dtype: object"
      ]
     },
     "execution_count": 5,
     "metadata": {},
     "output_type": "execute_result"
    }
   ],
   "source": [
    "df.dtypes"
   ]
  },
  {
   "cell_type": "code",
   "execution_count": 7,
   "metadata": {},
   "outputs": [
    {
     "data": {
      "text/html": [
       "<div>\n",
       "<style scoped>\n",
       "    .dataframe tbody tr th:only-of-type {\n",
       "        vertical-align: middle;\n",
       "    }\n",
       "\n",
       "    .dataframe tbody tr th {\n",
       "        vertical-align: top;\n",
       "    }\n",
       "\n",
       "    .dataframe thead th {\n",
       "        text-align: right;\n",
       "    }\n",
       "</style>\n",
       "<table border=\"1\" class=\"dataframe\">\n",
       "  <thead>\n",
       "    <tr style=\"text-align: right;\">\n",
       "      <th></th>\n",
       "      <th>building_area</th>\n",
       "    </tr>\n",
       "  </thead>\n",
       "  <tbody>\n",
       "    <tr>\n",
       "      <th>count</th>\n",
       "      <td>100.000000</td>\n",
       "    </tr>\n",
       "    <tr>\n",
       "      <th>mean</th>\n",
       "      <td>46.464420</td>\n",
       "    </tr>\n",
       "    <tr>\n",
       "      <th>std</th>\n",
       "      <td>98.177214</td>\n",
       "    </tr>\n",
       "    <tr>\n",
       "      <th>min</th>\n",
       "      <td>10.000000</td>\n",
       "    </tr>\n",
       "    <tr>\n",
       "      <th>25%</th>\n",
       "      <td>25.000000</td>\n",
       "    </tr>\n",
       "    <tr>\n",
       "      <th>50%</th>\n",
       "      <td>33.000000</td>\n",
       "    </tr>\n",
       "    <tr>\n",
       "      <th>75%</th>\n",
       "      <td>45.000000</td>\n",
       "    </tr>\n",
       "    <tr>\n",
       "      <th>max</th>\n",
       "      <td>1000.000000</td>\n",
       "    </tr>\n",
       "  </tbody>\n",
       "</table>\n",
       "</div>"
      ],
      "text/plain": [
       "       building_area\n",
       "count     100.000000\n",
       "mean       46.464420\n",
       "std        98.177214\n",
       "min        10.000000\n",
       "25%        25.000000\n",
       "50%        33.000000\n",
       "75%        45.000000\n",
       "max      1000.000000"
      ]
     },
     "execution_count": 7,
     "metadata": {},
     "output_type": "execute_result"
    }
   ],
   "source": [
    "df.describe()"
   ]
  },
  {
   "cell_type": "code",
   "execution_count": 9,
   "metadata": {},
   "outputs": [
    {
     "data": {
      "text/plain": [
       "str"
      ]
     },
     "execution_count": 9,
     "metadata": {},
     "output_type": "execute_result"
    }
   ],
   "source": [
    "p = '22,000元/月'\n",
    "type(p)"
   ]
  },
  {
   "cell_type": "code",
   "execution_count": 10,
   "metadata": {},
   "outputs": [
    {
     "ename": "TypeError",
     "evalue": "must be str, not int",
     "output_type": "error",
     "traceback": [
      "\u001b[1;31m---------------------------------------------------------------------------\u001b[0m",
      "\u001b[1;31mTypeError\u001b[0m                                 Traceback (most recent call last)",
      "\u001b[1;32m<ipython-input-10-229542dd415a>\u001b[0m in \u001b[0;36m<module>\u001b[1;34m()\u001b[0m\n\u001b[1;32m----> 1\u001b[1;33m \u001b[0mp\u001b[0m \u001b[1;33m+\u001b[0m \u001b[1;36m1000\u001b[0m\u001b[1;33m\u001b[0m\u001b[0m\n\u001b[0m",
      "\u001b[1;31mTypeError\u001b[0m: must be str, not int"
     ]
    }
   ],
   "source": [
    "p + 1000"
   ]
  },
  {
   "cell_type": "code",
   "execution_count": 17,
   "metadata": {},
   "outputs": [
    {
     "data": {
      "text/plain": [
       "22000"
      ]
     },
     "execution_count": 17,
     "metadata": {},
     "output_type": "execute_result"
    }
   ],
   "source": [
    "p2 = p.replace('元/月', '')\n",
    "p3 = p2.replace(',', '')\n",
    "p4 = int(p3)\n",
    "p4"
   ]
  },
  {
   "cell_type": "code",
   "execution_count": 13,
   "metadata": {},
   "outputs": [
    {
     "data": {
      "text/plain": [
       "22000"
      ]
     },
     "execution_count": 13,
     "metadata": {},
     "output_type": "execute_result"
    }
   ],
   "source": [
    "int(p.replace('元/月', '').replace(',', ''))"
   ]
  },
  {
   "cell_type": "code",
   "execution_count": 19,
   "metadata": {},
   "outputs": [],
   "source": [
    "def normalizePrice(p):\n",
    "    return int(p.replace('元/月', '').replace(',', ''))"
   ]
  },
  {
   "cell_type": "code",
   "execution_count": 21,
   "metadata": {},
   "outputs": [],
   "source": [
    "#df['price'].map(normalizePrice)"
   ]
  },
  {
   "cell_type": "code",
   "execution_count": 23,
   "metadata": {},
   "outputs": [],
   "source": [
    "df['price'] = df['price'].map(lambda p:int(p.replace('元/月', '').replace(',', '')))"
   ]
  },
  {
   "cell_type": "code",
   "execution_count": 24,
   "metadata": {},
   "outputs": [
    {
     "data": {
      "text/html": [
       "<div>\n",
       "<style scoped>\n",
       "    .dataframe tbody tr th:only-of-type {\n",
       "        vertical-align: middle;\n",
       "    }\n",
       "\n",
       "    .dataframe tbody tr th {\n",
       "        vertical-align: top;\n",
       "    }\n",
       "\n",
       "    .dataframe thead th {\n",
       "        text-align: right;\n",
       "    }\n",
       "</style>\n",
       "<table border=\"1\" class=\"dataframe\">\n",
       "  <thead>\n",
       "    <tr style=\"text-align: right;\">\n",
       "      <th></th>\n",
       "      <th>search_date</th>\n",
       "      <th>title</th>\n",
       "      <th>address</th>\n",
       "      <th>floor_info</th>\n",
       "      <th>price</th>\n",
       "      <th>layout</th>\n",
       "      <th>building_area</th>\n",
       "      <th>building_use</th>\n",
       "    </tr>\n",
       "  </thead>\n",
       "  <tbody>\n",
       "    <tr>\n",
       "      <th>5</th>\n",
       "      <td>2018-05-12</td>\n",
       "      <td>近捷運，採光佳，有景觀，全新家電裝潢</td>\n",
       "      <td>新北市淡水區民族路</td>\n",
       "      <td>9F/11F</td>\n",
       "      <td>22000</td>\n",
       "      <td>2房1廳1衛1陽臺</td>\n",
       "      <td>24.00</td>\n",
       "      <td>電梯大樓/整層住家</td>\n",
       "    </tr>\n",
       "    <tr>\n",
       "      <th>9</th>\n",
       "      <td>2018-05-14</td>\n",
       "      <td>大衛營優質社區管理好，交通便利、裝潢佳</td>\n",
       "      <td>基隆市安樂區樂利三街</td>\n",
       "      <td>14F/18F</td>\n",
       "      <td>17000</td>\n",
       "      <td>2房1廳2衛2陽臺</td>\n",
       "      <td>32.00</td>\n",
       "      <td>電梯大樓/整層住家</td>\n",
       "    </tr>\n",
       "    <tr>\n",
       "      <th>13</th>\n",
       "      <td>2018-05-14</td>\n",
       "      <td>家樂福夜市附近，雅房出租2房2廳</td>\n",
       "      <td>嘉義市西區興業西路</td>\n",
       "      <td>7F/8F</td>\n",
       "      <td>7500</td>\n",
       "      <td>2房2廳1衛1陽臺</td>\n",
       "      <td>24.00</td>\n",
       "      <td>電梯大樓/整層住家</td>\n",
       "    </tr>\n",
       "    <tr>\n",
       "      <th>15</th>\n",
       "      <td>2018-05-14</td>\n",
       "      <td>台北市北投新民路捷運溫泉78坪雙拼美廈</td>\n",
       "      <td>台北市北投區新民路</td>\n",
       "      <td>2F/9F</td>\n",
       "      <td>25000</td>\n",
       "      <td>4房3廳3衛3陽臺</td>\n",
       "      <td>78.00</td>\n",
       "      <td>電梯大樓/整層住家</td>\n",
       "    </tr>\n",
       "    <tr>\n",
       "      <th>16</th>\n",
       "      <td>2018-05-13</td>\n",
       "      <td>出海口海景高樓層溫馨房</td>\n",
       "      <td>新北市淡水區中正東路一段</td>\n",
       "      <td>19F/21F</td>\n",
       "      <td>15000</td>\n",
       "      <td>1房1廳1衛0陽臺</td>\n",
       "      <td>18.01</td>\n",
       "      <td>電梯大樓/整層住家</td>\n",
       "    </tr>\n",
       "  </tbody>\n",
       "</table>\n",
       "</div>"
      ],
      "text/plain": [
       "   search_date                title       address floor_info  price  \\\n",
       "5   2018-05-12   近捷運，採光佳，有景觀，全新家電裝潢     新北市淡水區民族路     9F/11F  22000   \n",
       "9   2018-05-14  大衛營優質社區管理好，交通便利、裝潢佳    基隆市安樂區樂利三街    14F/18F  17000   \n",
       "13  2018-05-14     家樂福夜市附近，雅房出租2房2廳     嘉義市西區興業西路      7F/8F   7500   \n",
       "15  2018-05-14  台北市北投新民路捷運溫泉78坪雙拼美廈     台北市北投區新民路      2F/9F  25000   \n",
       "16  2018-05-13          出海口海景高樓層溫馨房  新北市淡水區中正東路一段    19F/21F  15000   \n",
       "\n",
       "       layout  building_area building_use  \n",
       "5   2房1廳1衛1陽臺          24.00    電梯大樓/整層住家  \n",
       "9   2房1廳2衛2陽臺          32.00    電梯大樓/整層住家  \n",
       "13  2房2廳1衛1陽臺          24.00    電梯大樓/整層住家  \n",
       "15  4房3廳3衛3陽臺          78.00    電梯大樓/整層住家  \n",
       "16  1房1廳1衛0陽臺          18.01    電梯大樓/整層住家  "
      ]
     },
     "execution_count": 24,
     "metadata": {},
     "output_type": "execute_result"
    }
   ],
   "source": [
    "df.head()"
   ]
  },
  {
   "cell_type": "code",
   "execution_count": 25,
   "metadata": {},
   "outputs": [
    {
     "name": "stdout",
     "output_type": "stream",
     "text": [
      "<class 'pandas.core.frame.DataFrame'>\n",
      "Int64Index: 100 entries, 5 to 431\n",
      "Data columns (total 8 columns):\n",
      "search_date      100 non-null object\n",
      "title            100 non-null object\n",
      "address          100 non-null object\n",
      "floor_info       100 non-null object\n",
      "price            100 non-null int64\n",
      "layout           100 non-null object\n",
      "building_area    100 non-null float64\n",
      "building_use     100 non-null object\n",
      "dtypes: float64(1), int64(1), object(6)\n",
      "memory usage: 7.0+ KB\n"
     ]
    }
   ],
   "source": [
    "df.info()"
   ]
  },
  {
   "cell_type": "code",
   "execution_count": 27,
   "metadata": {},
   "outputs": [
    {
     "data": {
      "text/plain": [
       "441.24084622168954"
      ]
     },
     "execution_count": 27,
     "metadata": {},
     "output_type": "execute_result"
    }
   ],
   "source": [
    "df['price'].sum() / df['building_area'].sum()"
   ]
  },
  {
   "cell_type": "code",
   "execution_count": 29,
   "metadata": {},
   "outputs": [],
   "source": [
    "df['avg_price'] = df['price'] / df['building_area']"
   ]
  },
  {
   "cell_type": "code",
   "execution_count": 31,
   "metadata": {},
   "outputs": [
    {
     "data": {
      "text/plain": [
       "count     100.000000\n",
       "mean      601.097570\n",
       "std       304.803446\n",
       "min        75.000000\n",
       "25%       412.396978\n",
       "50%       544.374223\n",
       "75%       679.833680\n",
       "max      2000.000000\n",
       "Name: avg_price, dtype: float64"
      ]
     },
     "execution_count": 31,
     "metadata": {},
     "output_type": "execute_result"
    }
   ],
   "source": [
    "df['avg_price'].describe()"
   ]
  },
  {
   "cell_type": "code",
   "execution_count": 33,
   "metadata": {},
   "outputs": [
    {
     "data": {
      "text/plain": [
       "search_date      0\n",
       "title            0\n",
       "address          0\n",
       "floor_info       0\n",
       "price            0\n",
       "layout           0\n",
       "building_area    0\n",
       "building_use     0\n",
       "avg_price        0\n",
       "dtype: int64"
      ]
     },
     "execution_count": 33,
     "metadata": {},
     "output_type": "execute_result"
    }
   ],
   "source": [
    "df.isnull().sum()"
   ]
  },
  {
   "cell_type": "code",
   "execution_count": 35,
   "metadata": {},
   "outputs": [],
   "source": [
    "#df.fillna('-')"
   ]
  },
  {
   "cell_type": "markdown",
   "metadata": {},
   "source": [
    "## 處理時間格式資料"
   ]
  },
  {
   "cell_type": "code",
   "execution_count": 36,
   "metadata": {},
   "outputs": [],
   "source": [
    "a = '2019-05-24'\n",
    "b = '2019-01-01'"
   ]
  },
  {
   "cell_type": "code",
   "execution_count": 37,
   "metadata": {},
   "outputs": [
    {
     "ename": "TypeError",
     "evalue": "unsupported operand type(s) for -: 'str' and 'str'",
     "output_type": "error",
     "traceback": [
      "\u001b[1;31m---------------------------------------------------------------------------\u001b[0m",
      "\u001b[1;31mTypeError\u001b[0m                                 Traceback (most recent call last)",
      "\u001b[1;32m<ipython-input-37-2e1339998f6c>\u001b[0m in \u001b[0;36m<module>\u001b[1;34m()\u001b[0m\n\u001b[1;32m----> 1\u001b[1;33m \u001b[0mb\u001b[0m \u001b[1;33m-\u001b[0m \u001b[0ma\u001b[0m\u001b[1;33m\u001b[0m\u001b[0m\n\u001b[0m",
      "\u001b[1;31mTypeError\u001b[0m: unsupported operand type(s) for -: 'str' and 'str'"
     ]
    }
   ],
   "source": [
    "b - a"
   ]
  },
  {
   "cell_type": "code",
   "execution_count": 40,
   "metadata": {},
   "outputs": [
    {
     "data": {
      "text/plain": [
       "datetime.datetime(2019, 5, 24, 9, 27, 47, 955104)"
      ]
     },
     "execution_count": 40,
     "metadata": {},
     "output_type": "execute_result"
    }
   ],
   "source": [
    "from datetime import datetime\n",
    "current_time = datetime.now()\n",
    "current_time"
   ]
  },
  {
   "cell_type": "code",
   "execution_count": 41,
   "metadata": {},
   "outputs": [
    {
     "data": {
      "text/plain": [
       "datetime.datetime"
      ]
     },
     "execution_count": 41,
     "metadata": {},
     "output_type": "execute_result"
    }
   ],
   "source": [
    "type(current_time)"
   ]
  },
  {
   "cell_type": "code",
   "execution_count": 45,
   "metadata": {},
   "outputs": [
    {
     "data": {
      "text/plain": [
       "'2019-05-24 Fri Friday'"
      ]
     },
     "execution_count": 45,
     "metadata": {},
     "output_type": "execute_result"
    }
   ],
   "source": [
    "current_time.strftime('%Y-%m-%d %a %A')"
   ]
  },
  {
   "cell_type": "code",
   "execution_count": 46,
   "metadata": {},
   "outputs": [
    {
     "data": {
      "text/plain": [
       "'2019/05/24'"
      ]
     },
     "execution_count": 46,
     "metadata": {},
     "output_type": "execute_result"
    }
   ],
   "source": [
    "current_time.strftime('%Y/%m/%d')"
   ]
  },
  {
   "cell_type": "code",
   "execution_count": 47,
   "metadata": {},
   "outputs": [
    {
     "data": {
      "text/plain": [
       "str"
      ]
     },
     "execution_count": 47,
     "metadata": {},
     "output_type": "execute_result"
    }
   ],
   "source": [
    "t = '2019-05-20'\n",
    "type(t)"
   ]
  },
  {
   "cell_type": "code",
   "execution_count": 48,
   "metadata": {},
   "outputs": [
    {
     "data": {
      "text/plain": [
       "datetime.datetime(2019, 5, 20, 0, 0)"
      ]
     },
     "execution_count": 48,
     "metadata": {},
     "output_type": "execute_result"
    }
   ],
   "source": [
    "datetime.strptime(t, '%Y-%m-%d')"
   ]
  },
  {
   "cell_type": "code",
   "execution_count": 49,
   "metadata": {},
   "outputs": [],
   "source": [
    "a = '2019-05-24'\n",
    "b = '2019-01-01'\n",
    "\n",
    "ta = datetime.strptime(a, '%Y-%m-%d')\n",
    "tb = datetime.strptime(b, '%Y-%m-%d')"
   ]
  },
  {
   "cell_type": "code",
   "execution_count": 50,
   "metadata": {},
   "outputs": [
    {
     "data": {
      "text/plain": [
       "datetime.datetime(2019, 5, 24, 0, 0)"
      ]
     },
     "execution_count": 50,
     "metadata": {},
     "output_type": "execute_result"
    }
   ],
   "source": [
    "ta"
   ]
  },
  {
   "cell_type": "code",
   "execution_count": 51,
   "metadata": {},
   "outputs": [
    {
     "data": {
      "text/plain": [
       "datetime.datetime(2019, 1, 1, 0, 0)"
      ]
     },
     "execution_count": 51,
     "metadata": {},
     "output_type": "execute_result"
    }
   ],
   "source": [
    "tb"
   ]
  },
  {
   "cell_type": "code",
   "execution_count": 52,
   "metadata": {},
   "outputs": [
    {
     "data": {
      "text/plain": [
       "datetime.timedelta(143)"
      ]
     },
     "execution_count": 52,
     "metadata": {},
     "output_type": "execute_result"
    }
   ],
   "source": [
    "ta - tb"
   ]
  },
  {
   "cell_type": "code",
   "execution_count": 53,
   "metadata": {},
   "outputs": [],
   "source": [
    "c = '2019-12-31'\n",
    "tc = datetime.strptime(c, '%Y-%m-%d')"
   ]
  },
  {
   "cell_type": "code",
   "execution_count": 54,
   "metadata": {},
   "outputs": [
    {
     "data": {
      "text/plain": [
       "datetime.timedelta(221)"
      ]
     },
     "execution_count": 54,
     "metadata": {},
     "output_type": "execute_result"
    }
   ],
   "source": [
    "tc - ta"
   ]
  },
  {
   "cell_type": "code",
   "execution_count": 56,
   "metadata": {},
   "outputs": [
    {
     "data": {
      "text/plain": [
       "datetime.datetime(2019, 5, 23, 0, 0)"
      ]
     },
     "execution_count": 56,
     "metadata": {},
     "output_type": "execute_result"
    }
   ],
   "source": [
    "from datetime import timedelta\n",
    "ta - timedelta(days = 1)"
   ]
  },
  {
   "cell_type": "code",
   "execution_count": 57,
   "metadata": {},
   "outputs": [
    {
     "data": {
      "text/plain": [
       "datetime.datetime(2019, 5, 25, 0, 0)"
      ]
     },
     "execution_count": 57,
     "metadata": {},
     "output_type": "execute_result"
    }
   ],
   "source": [
    "ta + timedelta(days = 1)"
   ]
  },
  {
   "cell_type": "code",
   "execution_count": 61,
   "metadata": {},
   "outputs": [
    {
     "name": "stdout",
     "output_type": "stream",
     "text": [
      "2019/05/24\n",
      "2019/05/23\n",
      "2019/05/22\n",
      "2019/05/21\n",
      "2019/05/20\n",
      "2019/05/19\n",
      "2019/05/18\n",
      "2019/05/17\n",
      "2019/05/16\n",
      "2019/05/15\n",
      "2019/05/14\n"
     ]
    }
   ],
   "source": [
    "for i in range(11):\n",
    "    tt = ta - timedelta(days = i)\n",
    "    print(tt.strftime('%Y/%m/%d'))"
   ]
  },
  {
   "cell_type": "code",
   "execution_count": 68,
   "metadata": {},
   "outputs": [],
   "source": [
    "st = datetime.strptime('2019-01-01', '%Y-%m-%d')\n",
    "st\n",
    "ary = []\n",
    "# 每個月最後一周的星期五\n",
    "for i in range(365):\n",
    "    dt = st + timedelta(days = i)\n",
    "    date  = dt.strftime('%Y-%m-%d')\n",
    "    weekday  = int(dt.strftime('%w'))\n",
    "    week  = int(dt.strftime('%W'))\n",
    "    month = int(dt.strftime('%m'))\n",
    "    ary.append({'date':date, 'weekday':weekday, 'week':week, 'month':month})\n"
   ]
  },
  {
   "cell_type": "code",
   "execution_count": 71,
   "metadata": {},
   "outputs": [
    {
     "data": {
      "text/html": [
       "<div>\n",
       "<style scoped>\n",
       "    .dataframe tbody tr th:only-of-type {\n",
       "        vertical-align: middle;\n",
       "    }\n",
       "\n",
       "    .dataframe tbody tr th {\n",
       "        vertical-align: top;\n",
       "    }\n",
       "\n",
       "    .dataframe thead th {\n",
       "        text-align: right;\n",
       "    }\n",
       "</style>\n",
       "<table border=\"1\" class=\"dataframe\">\n",
       "  <thead>\n",
       "    <tr style=\"text-align: right;\">\n",
       "      <th></th>\n",
       "      <th>date</th>\n",
       "      <th>month</th>\n",
       "      <th>week</th>\n",
       "      <th>weekday</th>\n",
       "    </tr>\n",
       "  </thead>\n",
       "  <tbody>\n",
       "    <tr>\n",
       "      <th>3</th>\n",
       "      <td>2019-01-04</td>\n",
       "      <td>1</td>\n",
       "      <td>0</td>\n",
       "      <td>5</td>\n",
       "    </tr>\n",
       "    <tr>\n",
       "      <th>10</th>\n",
       "      <td>2019-01-11</td>\n",
       "      <td>1</td>\n",
       "      <td>1</td>\n",
       "      <td>5</td>\n",
       "    </tr>\n",
       "    <tr>\n",
       "      <th>17</th>\n",
       "      <td>2019-01-18</td>\n",
       "      <td>1</td>\n",
       "      <td>2</td>\n",
       "      <td>5</td>\n",
       "    </tr>\n",
       "    <tr>\n",
       "      <th>24</th>\n",
       "      <td>2019-01-25</td>\n",
       "      <td>1</td>\n",
       "      <td>3</td>\n",
       "      <td>5</td>\n",
       "    </tr>\n",
       "    <tr>\n",
       "      <th>31</th>\n",
       "      <td>2019-02-01</td>\n",
       "      <td>2</td>\n",
       "      <td>4</td>\n",
       "      <td>5</td>\n",
       "    </tr>\n",
       "  </tbody>\n",
       "</table>\n",
       "</div>"
      ],
      "text/plain": [
       "          date  month  week  weekday\n",
       "3   2019-01-04      1     0        5\n",
       "10  2019-01-11      1     1        5\n",
       "17  2019-01-18      1     2        5\n",
       "24  2019-01-25      1     3        5\n",
       "31  2019-02-01      2     4        5"
      ]
     },
     "execution_count": 71,
     "metadata": {},
     "output_type": "execute_result"
    }
   ],
   "source": [
    "df2 = pandas.DataFrame(ary)\n",
    "df3 = df2[df2['weekday'] == 5]\n",
    "df3.head()"
   ]
  },
  {
   "cell_type": "code",
   "execution_count": 72,
   "metadata": {},
   "outputs": [
    {
     "data": {
      "text/plain": [
       "3       3\n",
       "10      3\n",
       "17      3\n",
       "24      3\n",
       "31      7\n",
       "38      7\n",
       "45      7\n",
       "52      7\n",
       "59     12\n",
       "66     12\n",
       "73     12\n",
       "80     12\n",
       "87     12\n",
       "94     16\n",
       "101    16\n",
       "108    16\n",
       "115    16\n",
       "122    21\n",
       "129    21\n",
       "136    21\n",
       "143    21\n",
       "150    21\n",
       "157    25\n",
       "164    25\n",
       "171    25\n",
       "178    25\n",
       "185    29\n",
       "192    29\n",
       "199    29\n",
       "206    29\n",
       "213    34\n",
       "220    34\n",
       "227    34\n",
       "234    34\n",
       "241    34\n",
       "248    38\n",
       "255    38\n",
       "262    38\n",
       "269    38\n",
       "276    42\n",
       "283    42\n",
       "290    42\n",
       "297    42\n",
       "304    47\n",
       "311    47\n",
       "318    47\n",
       "325    47\n",
       "332    47\n",
       "339    51\n",
       "346    51\n",
       "353    51\n",
       "360    51\n",
       "Name: week, dtype: int64"
      ]
     },
     "execution_count": 72,
     "metadata": {},
     "output_type": "execute_result"
    }
   ],
   "source": [
    "df3.groupby('month')['week'].transform('max')"
   ]
  },
  {
   "cell_type": "code",
   "execution_count": 73,
   "metadata": {},
   "outputs": [
    {
     "data": {
      "text/html": [
       "<div>\n",
       "<style scoped>\n",
       "    .dataframe tbody tr th:only-of-type {\n",
       "        vertical-align: middle;\n",
       "    }\n",
       "\n",
       "    .dataframe tbody tr th {\n",
       "        vertical-align: top;\n",
       "    }\n",
       "\n",
       "    .dataframe thead th {\n",
       "        text-align: right;\n",
       "    }\n",
       "</style>\n",
       "<table border=\"1\" class=\"dataframe\">\n",
       "  <thead>\n",
       "    <tr style=\"text-align: right;\">\n",
       "      <th></th>\n",
       "      <th>date</th>\n",
       "      <th>month</th>\n",
       "      <th>week</th>\n",
       "      <th>weekday</th>\n",
       "    </tr>\n",
       "  </thead>\n",
       "  <tbody>\n",
       "    <tr>\n",
       "      <th>24</th>\n",
       "      <td>2019-01-25</td>\n",
       "      <td>1</td>\n",
       "      <td>3</td>\n",
       "      <td>5</td>\n",
       "    </tr>\n",
       "    <tr>\n",
       "      <th>52</th>\n",
       "      <td>2019-02-22</td>\n",
       "      <td>2</td>\n",
       "      <td>7</td>\n",
       "      <td>5</td>\n",
       "    </tr>\n",
       "    <tr>\n",
       "      <th>87</th>\n",
       "      <td>2019-03-29</td>\n",
       "      <td>3</td>\n",
       "      <td>12</td>\n",
       "      <td>5</td>\n",
       "    </tr>\n",
       "    <tr>\n",
       "      <th>115</th>\n",
       "      <td>2019-04-26</td>\n",
       "      <td>4</td>\n",
       "      <td>16</td>\n",
       "      <td>5</td>\n",
       "    </tr>\n",
       "    <tr>\n",
       "      <th>150</th>\n",
       "      <td>2019-05-31</td>\n",
       "      <td>5</td>\n",
       "      <td>21</td>\n",
       "      <td>5</td>\n",
       "    </tr>\n",
       "    <tr>\n",
       "      <th>178</th>\n",
       "      <td>2019-06-28</td>\n",
       "      <td>6</td>\n",
       "      <td>25</td>\n",
       "      <td>5</td>\n",
       "    </tr>\n",
       "    <tr>\n",
       "      <th>206</th>\n",
       "      <td>2019-07-26</td>\n",
       "      <td>7</td>\n",
       "      <td>29</td>\n",
       "      <td>5</td>\n",
       "    </tr>\n",
       "    <tr>\n",
       "      <th>241</th>\n",
       "      <td>2019-08-30</td>\n",
       "      <td>8</td>\n",
       "      <td>34</td>\n",
       "      <td>5</td>\n",
       "    </tr>\n",
       "    <tr>\n",
       "      <th>269</th>\n",
       "      <td>2019-09-27</td>\n",
       "      <td>9</td>\n",
       "      <td>38</td>\n",
       "      <td>5</td>\n",
       "    </tr>\n",
       "    <tr>\n",
       "      <th>297</th>\n",
       "      <td>2019-10-25</td>\n",
       "      <td>10</td>\n",
       "      <td>42</td>\n",
       "      <td>5</td>\n",
       "    </tr>\n",
       "    <tr>\n",
       "      <th>332</th>\n",
       "      <td>2019-11-29</td>\n",
       "      <td>11</td>\n",
       "      <td>47</td>\n",
       "      <td>5</td>\n",
       "    </tr>\n",
       "    <tr>\n",
       "      <th>360</th>\n",
       "      <td>2019-12-27</td>\n",
       "      <td>12</td>\n",
       "      <td>51</td>\n",
       "      <td>5</td>\n",
       "    </tr>\n",
       "  </tbody>\n",
       "</table>\n",
       "</div>"
      ],
      "text/plain": [
       "           date  month  week  weekday\n",
       "24   2019-01-25      1     3        5\n",
       "52   2019-02-22      2     7        5\n",
       "87   2019-03-29      3    12        5\n",
       "115  2019-04-26      4    16        5\n",
       "150  2019-05-31      5    21        5\n",
       "178  2019-06-28      6    25        5\n",
       "206  2019-07-26      7    29        5\n",
       "241  2019-08-30      8    34        5\n",
       "269  2019-09-27      9    38        5\n",
       "297  2019-10-25     10    42        5\n",
       "332  2019-11-29     11    47        5\n",
       "360  2019-12-27     12    51        5"
      ]
     },
     "execution_count": 73,
     "metadata": {},
     "output_type": "execute_result"
    }
   ],
   "source": [
    "df3[df3.groupby('month')['week'].transform('max') == df3['week']]"
   ]
  },
  {
   "cell_type": "code",
   "execution_count": 78,
   "metadata": {},
   "outputs": [
    {
     "data": {
      "text/plain": [
       "5     2018-05-12\n",
       "9     2018-05-14\n",
       "13    2018-05-14\n",
       "15    2018-05-14\n",
       "16    2018-05-13\n",
       "Name: search_date, dtype: object"
      ]
     },
     "execution_count": 78,
     "metadata": {},
     "output_type": "execute_result"
    }
   ],
   "source": [
    "df['search_date'].head()"
   ]
  },
  {
   "cell_type": "code",
   "execution_count": 77,
   "metadata": {},
   "outputs": [
    {
     "data": {
      "text/plain": [
       "dtype('O')"
      ]
     },
     "execution_count": 77,
     "metadata": {},
     "output_type": "execute_result"
    }
   ],
   "source": [
    "df['search_date'].dtypes"
   ]
  },
  {
   "cell_type": "code",
   "execution_count": 81,
   "metadata": {},
   "outputs": [
    {
     "data": {
      "text/plain": [
       "5    2018-05-12\n",
       "9    2018-05-14\n",
       "13   2018-05-14\n",
       "15   2018-05-14\n",
       "16   2018-05-13\n",
       "Name: search_date, dtype: datetime64[ns]"
      ]
     },
     "execution_count": 81,
     "metadata": {},
     "output_type": "execute_result"
    }
   ],
   "source": [
    "pandas.to_datetime(df['search_date'], format = '%Y-%m-%d').head()"
   ]
  },
  {
   "cell_type": "code",
   "execution_count": 82,
   "metadata": {},
   "outputs": [],
   "source": [
    "df['search_date'] = pandas.to_datetime(df['search_date'], format = '%Y-%m-%d')"
   ]
  },
  {
   "cell_type": "code",
   "execution_count": 93,
   "metadata": {},
   "outputs": [
    {
     "data": {
      "text/plain": [
       "5     2018\n",
       "9     2018\n",
       "13    2018\n",
       "15    2018\n",
       "16    2018\n",
       "Name: search_date, dtype: int64"
      ]
     },
     "execution_count": 93,
     "metadata": {},
     "output_type": "execute_result"
    }
   ],
   "source": [
    "#df['search_date'].dt.day\n",
    "#df['search_date'].dt.month\n",
    "#df['search_date'].dt.date\n",
    "df['search_date'].dt.year.head()"
   ]
  },
  {
   "cell_type": "code",
   "execution_count": 95,
   "metadata": {},
   "outputs": [
    {
     "data": {
      "text/plain": [
       "time.struct_time(tm_year=2019, tm_mon=5, tm_mday=24, tm_hour=9, tm_min=27, tm_sec=47, tm_wday=4, tm_yday=144, tm_isdst=-1)"
      ]
     },
     "execution_count": 95,
     "metadata": {},
     "output_type": "execute_result"
    }
   ],
   "source": [
    "current_time.timetuple()"
   ]
  },
  {
   "cell_type": "code",
   "execution_count": 96,
   "metadata": {},
   "outputs": [
    {
     "data": {
      "text/plain": [
       "1558661267.0"
      ]
     },
     "execution_count": 96,
     "metadata": {},
     "output_type": "execute_result"
    }
   ],
   "source": [
    "import time\n",
    "time.mktime(current_time.timetuple())"
   ]
  },
  {
   "cell_type": "code",
   "execution_count": 97,
   "metadata": {},
   "outputs": [
    {
     "data": {
      "text/plain": [
       "datetime.datetime(2017, 4, 22, 19, 17, 3)"
      ]
     },
     "execution_count": 97,
     "metadata": {},
     "output_type": "execute_result"
    }
   ],
   "source": [
    "datetime.fromtimestamp(1492859823)"
   ]
  },
  {
   "cell_type": "markdown",
   "metadata": {},
   "source": [
    "## 虛擬變量 dummy variable"
   ]
  },
  {
   "cell_type": "code",
   "execution_count": 98,
   "metadata": {},
   "outputs": [],
   "source": [
    "import pandas\n",
    "df = pandas.read_csv('https://raw.githubusercontent.com/ywchiu/ctbcpy/master/data/rent_591.csv', index_col = 0)\n"
   ]
  },
  {
   "cell_type": "code",
   "execution_count": 101,
   "metadata": {},
   "outputs": [
    {
     "data": {
      "text/plain": [
       "array(['電梯大樓/整層住家', '透天厝/住辦', '透天厝/整層住家', '公寓/整層住家', '電梯大樓/住辦', '別墅/整層住家',\n",
       "       '公寓/住辦'], dtype=object)"
      ]
     },
     "execution_count": 101,
     "metadata": {},
     "output_type": "execute_result"
    }
   ],
   "source": [
    "df['building_use'].unique()"
   ]
  },
  {
   "cell_type": "code",
   "execution_count": 103,
   "metadata": {},
   "outputs": [
    {
     "data": {
      "text/html": [
       "<div>\n",
       "<style scoped>\n",
       "    .dataframe tbody tr th:only-of-type {\n",
       "        vertical-align: middle;\n",
       "    }\n",
       "\n",
       "    .dataframe tbody tr th {\n",
       "        vertical-align: top;\n",
       "    }\n",
       "\n",
       "    .dataframe thead th {\n",
       "        text-align: right;\n",
       "    }\n",
       "</style>\n",
       "<table border=\"1\" class=\"dataframe\">\n",
       "  <thead>\n",
       "    <tr style=\"text-align: right;\">\n",
       "      <th></th>\n",
       "      <th>公寓/住辦</th>\n",
       "      <th>公寓/整層住家</th>\n",
       "      <th>別墅/整層住家</th>\n",
       "      <th>透天厝/住辦</th>\n",
       "      <th>透天厝/整層住家</th>\n",
       "      <th>電梯大樓/住辦</th>\n",
       "      <th>電梯大樓/整層住家</th>\n",
       "    </tr>\n",
       "  </thead>\n",
       "  <tbody>\n",
       "    <tr>\n",
       "      <th>5</th>\n",
       "      <td>0</td>\n",
       "      <td>0</td>\n",
       "      <td>0</td>\n",
       "      <td>0</td>\n",
       "      <td>0</td>\n",
       "      <td>0</td>\n",
       "      <td>1</td>\n",
       "    </tr>\n",
       "    <tr>\n",
       "      <th>9</th>\n",
       "      <td>0</td>\n",
       "      <td>0</td>\n",
       "      <td>0</td>\n",
       "      <td>0</td>\n",
       "      <td>0</td>\n",
       "      <td>0</td>\n",
       "      <td>1</td>\n",
       "    </tr>\n",
       "    <tr>\n",
       "      <th>13</th>\n",
       "      <td>0</td>\n",
       "      <td>0</td>\n",
       "      <td>0</td>\n",
       "      <td>0</td>\n",
       "      <td>0</td>\n",
       "      <td>0</td>\n",
       "      <td>1</td>\n",
       "    </tr>\n",
       "    <tr>\n",
       "      <th>15</th>\n",
       "      <td>0</td>\n",
       "      <td>0</td>\n",
       "      <td>0</td>\n",
       "      <td>0</td>\n",
       "      <td>0</td>\n",
       "      <td>0</td>\n",
       "      <td>1</td>\n",
       "    </tr>\n",
       "    <tr>\n",
       "      <th>16</th>\n",
       "      <td>0</td>\n",
       "      <td>0</td>\n",
       "      <td>0</td>\n",
       "      <td>0</td>\n",
       "      <td>0</td>\n",
       "      <td>0</td>\n",
       "      <td>1</td>\n",
       "    </tr>\n",
       "  </tbody>\n",
       "</table>\n",
       "</div>"
      ],
      "text/plain": [
       "    公寓/住辦  公寓/整層住家  別墅/整層住家  透天厝/住辦  透天厝/整層住家  電梯大樓/住辦  電梯大樓/整層住家\n",
       "5       0        0        0       0         0        0          1\n",
       "9       0        0        0       0         0        0          1\n",
       "13      0        0        0       0         0        0          1\n",
       "15      0        0        0       0         0        0          1\n",
       "16      0        0        0       0         0        0          1"
      ]
     },
     "execution_count": 103,
     "metadata": {},
     "output_type": "execute_result"
    }
   ],
   "source": [
    "pandas.get_dummies(df['building_use']).head()"
   ]
  },
  {
   "cell_type": "code",
   "execution_count": 104,
   "metadata": {},
   "outputs": [],
   "source": [
    "?pandas.concat"
   ]
  },
  {
   "cell_type": "code",
   "execution_count": 111,
   "metadata": {},
   "outputs": [
    {
     "data": {
      "text/html": [
       "<div>\n",
       "<style scoped>\n",
       "    .dataframe tbody tr th:only-of-type {\n",
       "        vertical-align: middle;\n",
       "    }\n",
       "\n",
       "    .dataframe tbody tr th {\n",
       "        vertical-align: top;\n",
       "    }\n",
       "\n",
       "    .dataframe thead th {\n",
       "        text-align: right;\n",
       "    }\n",
       "</style>\n",
       "<table border=\"1\" class=\"dataframe\">\n",
       "  <thead>\n",
       "    <tr style=\"text-align: right;\">\n",
       "      <th></th>\n",
       "      <th>A</th>\n",
       "      <th>B</th>\n",
       "    </tr>\n",
       "  </thead>\n",
       "  <tbody>\n",
       "    <tr>\n",
       "      <th>0</th>\n",
       "      <td>0</td>\n",
       "      <td>1</td>\n",
       "    </tr>\n",
       "    <tr>\n",
       "      <th>1</th>\n",
       "      <td>1</td>\n",
       "      <td>2</td>\n",
       "    </tr>\n",
       "  </tbody>\n",
       "</table>\n",
       "</div>"
      ],
      "text/plain": [
       "   A  B\n",
       "0  0  1\n",
       "1  1  2"
      ]
     },
     "execution_count": 111,
     "metadata": {},
     "output_type": "execute_result"
    }
   ],
   "source": [
    "df1 = pandas.DataFrame([[0,1],[1,2]], columns=['A','B'])\n",
    "df1"
   ]
  },
  {
   "cell_type": "code",
   "execution_count": 112,
   "metadata": {},
   "outputs": [
    {
     "data": {
      "text/html": [
       "<div>\n",
       "<style scoped>\n",
       "    .dataframe tbody tr th:only-of-type {\n",
       "        vertical-align: middle;\n",
       "    }\n",
       "\n",
       "    .dataframe tbody tr th {\n",
       "        vertical-align: top;\n",
       "    }\n",
       "\n",
       "    .dataframe thead th {\n",
       "        text-align: right;\n",
       "    }\n",
       "</style>\n",
       "<table border=\"1\" class=\"dataframe\">\n",
       "  <thead>\n",
       "    <tr style=\"text-align: right;\">\n",
       "      <th></th>\n",
       "      <th>A</th>\n",
       "      <th>D</th>\n",
       "    </tr>\n",
       "  </thead>\n",
       "  <tbody>\n",
       "    <tr>\n",
       "      <th>0</th>\n",
       "      <td>3</td>\n",
       "      <td>7</td>\n",
       "    </tr>\n",
       "    <tr>\n",
       "      <th>1</th>\n",
       "      <td>4</td>\n",
       "      <td>9</td>\n",
       "    </tr>\n",
       "  </tbody>\n",
       "</table>\n",
       "</div>"
      ],
      "text/plain": [
       "   A  D\n",
       "0  3  7\n",
       "1  4  9"
      ]
     },
     "execution_count": 112,
     "metadata": {},
     "output_type": "execute_result"
    }
   ],
   "source": [
    "df2 = pandas.DataFrame([[3,7],[4,9]], columns=['A','D'])\n",
    "df2"
   ]
  },
  {
   "cell_type": "code",
   "execution_count": 113,
   "metadata": {},
   "outputs": [
    {
     "name": "stderr",
     "output_type": "stream",
     "text": [
      "C:\\ProgramData\\Anaconda3\\lib\\site-packages\\ipykernel_launcher.py:1: FutureWarning: Sorting because non-concatenation axis is not aligned. A future version\n",
      "of pandas will change to not sort by default.\n",
      "\n",
      "To accept the future behavior, pass 'sort=True'.\n",
      "\n",
      "To retain the current behavior and silence the warning, pass sort=False\n",
      "\n",
      "  \"\"\"Entry point for launching an IPython kernel.\n"
     ]
    },
    {
     "data": {
      "text/html": [
       "<div>\n",
       "<style scoped>\n",
       "    .dataframe tbody tr th:only-of-type {\n",
       "        vertical-align: middle;\n",
       "    }\n",
       "\n",
       "    .dataframe tbody tr th {\n",
       "        vertical-align: top;\n",
       "    }\n",
       "\n",
       "    .dataframe thead th {\n",
       "        text-align: right;\n",
       "    }\n",
       "</style>\n",
       "<table border=\"1\" class=\"dataframe\">\n",
       "  <thead>\n",
       "    <tr style=\"text-align: right;\">\n",
       "      <th></th>\n",
       "      <th>A</th>\n",
       "      <th>B</th>\n",
       "      <th>D</th>\n",
       "    </tr>\n",
       "  </thead>\n",
       "  <tbody>\n",
       "    <tr>\n",
       "      <th>0</th>\n",
       "      <td>0</td>\n",
       "      <td>1.0</td>\n",
       "      <td>NaN</td>\n",
       "    </tr>\n",
       "    <tr>\n",
       "      <th>1</th>\n",
       "      <td>1</td>\n",
       "      <td>2.0</td>\n",
       "      <td>NaN</td>\n",
       "    </tr>\n",
       "    <tr>\n",
       "      <th>0</th>\n",
       "      <td>3</td>\n",
       "      <td>NaN</td>\n",
       "      <td>7.0</td>\n",
       "    </tr>\n",
       "    <tr>\n",
       "      <th>1</th>\n",
       "      <td>4</td>\n",
       "      <td>NaN</td>\n",
       "      <td>9.0</td>\n",
       "    </tr>\n",
       "  </tbody>\n",
       "</table>\n",
       "</div>"
      ],
      "text/plain": [
       "   A    B    D\n",
       "0  0  1.0  NaN\n",
       "1  1  2.0  NaN\n",
       "0  3  NaN  7.0\n",
       "1  4  NaN  9.0"
      ]
     },
     "execution_count": 113,
     "metadata": {},
     "output_type": "execute_result"
    }
   ],
   "source": [
    "pandas.concat([df1, df2], axis = 0)"
   ]
  },
  {
   "cell_type": "code",
   "execution_count": 114,
   "metadata": {},
   "outputs": [
    {
     "data": {
      "text/html": [
       "<div>\n",
       "<style scoped>\n",
       "    .dataframe tbody tr th:only-of-type {\n",
       "        vertical-align: middle;\n",
       "    }\n",
       "\n",
       "    .dataframe tbody tr th {\n",
       "        vertical-align: top;\n",
       "    }\n",
       "\n",
       "    .dataframe thead th {\n",
       "        text-align: right;\n",
       "    }\n",
       "</style>\n",
       "<table border=\"1\" class=\"dataframe\">\n",
       "  <thead>\n",
       "    <tr style=\"text-align: right;\">\n",
       "      <th></th>\n",
       "      <th>A</th>\n",
       "      <th>B</th>\n",
       "      <th>A</th>\n",
       "      <th>D</th>\n",
       "    </tr>\n",
       "  </thead>\n",
       "  <tbody>\n",
       "    <tr>\n",
       "      <th>0</th>\n",
       "      <td>0</td>\n",
       "      <td>1</td>\n",
       "      <td>3</td>\n",
       "      <td>7</td>\n",
       "    </tr>\n",
       "    <tr>\n",
       "      <th>1</th>\n",
       "      <td>1</td>\n",
       "      <td>2</td>\n",
       "      <td>4</td>\n",
       "      <td>9</td>\n",
       "    </tr>\n",
       "  </tbody>\n",
       "</table>\n",
       "</div>"
      ],
      "text/plain": [
       "   A  B  A  D\n",
       "0  0  1  3  7\n",
       "1  1  2  4  9"
      ]
     },
     "execution_count": 114,
     "metadata": {},
     "output_type": "execute_result"
    }
   ],
   "source": [
    "pandas.concat([df1, df2], axis = 1)"
   ]
  },
  {
   "cell_type": "code",
   "execution_count": 115,
   "metadata": {},
   "outputs": [],
   "source": [
    "buse = pandas.get_dummies(df['building_use'])"
   ]
  },
  {
   "cell_type": "code",
   "execution_count": 119,
   "metadata": {},
   "outputs": [],
   "source": [
    "df = pandas.concat([df, buse], axis = 1).head()"
   ]
  },
  {
   "cell_type": "code",
   "execution_count": 124,
   "metadata": {},
   "outputs": [],
   "source": [
    "df.drop('building_use', axis = 1, inplace=True)"
   ]
  },
  {
   "cell_type": "code",
   "execution_count": 127,
   "metadata": {},
   "outputs": [
    {
     "data": {
      "text/html": [
       "<div>\n",
       "<style scoped>\n",
       "    .dataframe tbody tr th:only-of-type {\n",
       "        vertical-align: middle;\n",
       "    }\n",
       "\n",
       "    .dataframe tbody tr th {\n",
       "        vertical-align: top;\n",
       "    }\n",
       "\n",
       "    .dataframe thead th {\n",
       "        text-align: right;\n",
       "    }\n",
       "</style>\n",
       "<table border=\"1\" class=\"dataframe\">\n",
       "  <thead>\n",
       "    <tr style=\"text-align: right;\">\n",
       "      <th></th>\n",
       "      <th>search_date</th>\n",
       "      <th>title</th>\n",
       "      <th>address</th>\n",
       "      <th>floor_info</th>\n",
       "      <th>price</th>\n",
       "      <th>layout</th>\n",
       "      <th>building_area</th>\n",
       "      <th>公寓/住辦</th>\n",
       "      <th>公寓/整層住家</th>\n",
       "      <th>別墅/整層住家</th>\n",
       "      <th>透天厝/住辦</th>\n",
       "      <th>透天厝/整層住家</th>\n",
       "      <th>電梯大樓/住辦</th>\n",
       "      <th>電梯大樓/整層住家</th>\n",
       "    </tr>\n",
       "  </thead>\n",
       "  <tbody>\n",
       "    <tr>\n",
       "      <th>5</th>\n",
       "      <td>2018-05-12</td>\n",
       "      <td>近捷運，採光佳，有景觀，全新家電裝潢</td>\n",
       "      <td>新北市淡水區民族路</td>\n",
       "      <td>9F/11F</td>\n",
       "      <td>22,000元/月</td>\n",
       "      <td>2房1廳1衛1陽臺</td>\n",
       "      <td>24.00</td>\n",
       "      <td>0</td>\n",
       "      <td>0</td>\n",
       "      <td>0</td>\n",
       "      <td>0</td>\n",
       "      <td>0</td>\n",
       "      <td>0</td>\n",
       "      <td>1</td>\n",
       "    </tr>\n",
       "    <tr>\n",
       "      <th>9</th>\n",
       "      <td>2018-05-14</td>\n",
       "      <td>大衛營優質社區管理好，交通便利、裝潢佳</td>\n",
       "      <td>基隆市安樂區樂利三街</td>\n",
       "      <td>14F/18F</td>\n",
       "      <td>17,000元/月</td>\n",
       "      <td>2房1廳2衛2陽臺</td>\n",
       "      <td>32.00</td>\n",
       "      <td>0</td>\n",
       "      <td>0</td>\n",
       "      <td>0</td>\n",
       "      <td>0</td>\n",
       "      <td>0</td>\n",
       "      <td>0</td>\n",
       "      <td>1</td>\n",
       "    </tr>\n",
       "    <tr>\n",
       "      <th>13</th>\n",
       "      <td>2018-05-14</td>\n",
       "      <td>家樂福夜市附近，雅房出租2房2廳</td>\n",
       "      <td>嘉義市西區興業西路</td>\n",
       "      <td>7F/8F</td>\n",
       "      <td>7,500元/月</td>\n",
       "      <td>2房2廳1衛1陽臺</td>\n",
       "      <td>24.00</td>\n",
       "      <td>0</td>\n",
       "      <td>0</td>\n",
       "      <td>0</td>\n",
       "      <td>0</td>\n",
       "      <td>0</td>\n",
       "      <td>0</td>\n",
       "      <td>1</td>\n",
       "    </tr>\n",
       "    <tr>\n",
       "      <th>15</th>\n",
       "      <td>2018-05-14</td>\n",
       "      <td>台北市北投新民路捷運溫泉78坪雙拼美廈</td>\n",
       "      <td>台北市北投區新民路</td>\n",
       "      <td>2F/9F</td>\n",
       "      <td>25,000元/月</td>\n",
       "      <td>4房3廳3衛3陽臺</td>\n",
       "      <td>78.00</td>\n",
       "      <td>0</td>\n",
       "      <td>0</td>\n",
       "      <td>0</td>\n",
       "      <td>0</td>\n",
       "      <td>0</td>\n",
       "      <td>0</td>\n",
       "      <td>1</td>\n",
       "    </tr>\n",
       "    <tr>\n",
       "      <th>16</th>\n",
       "      <td>2018-05-13</td>\n",
       "      <td>出海口海景高樓層溫馨房</td>\n",
       "      <td>新北市淡水區中正東路一段</td>\n",
       "      <td>19F/21F</td>\n",
       "      <td>15,000元/月</td>\n",
       "      <td>1房1廳1衛0陽臺</td>\n",
       "      <td>18.01</td>\n",
       "      <td>0</td>\n",
       "      <td>0</td>\n",
       "      <td>0</td>\n",
       "      <td>0</td>\n",
       "      <td>0</td>\n",
       "      <td>0</td>\n",
       "      <td>1</td>\n",
       "    </tr>\n",
       "  </tbody>\n",
       "</table>\n",
       "</div>"
      ],
      "text/plain": [
       "   search_date                title       address floor_info      price  \\\n",
       "5   2018-05-12   近捷運，採光佳，有景觀，全新家電裝潢     新北市淡水區民族路     9F/11F  22,000元/月   \n",
       "9   2018-05-14  大衛營優質社區管理好，交通便利、裝潢佳    基隆市安樂區樂利三街    14F/18F  17,000元/月   \n",
       "13  2018-05-14     家樂福夜市附近，雅房出租2房2廳     嘉義市西區興業西路      7F/8F   7,500元/月   \n",
       "15  2018-05-14  台北市北投新民路捷運溫泉78坪雙拼美廈     台北市北投區新民路      2F/9F  25,000元/月   \n",
       "16  2018-05-13          出海口海景高樓層溫馨房  新北市淡水區中正東路一段    19F/21F  15,000元/月   \n",
       "\n",
       "       layout  building_area  公寓/住辦  公寓/整層住家  別墅/整層住家  透天厝/住辦  透天厝/整層住家  \\\n",
       "5   2房1廳1衛1陽臺          24.00      0        0        0       0         0   \n",
       "9   2房1廳2衛2陽臺          32.00      0        0        0       0         0   \n",
       "13  2房2廳1衛1陽臺          24.00      0        0        0       0         0   \n",
       "15  4房3廳3衛3陽臺          78.00      0        0        0       0         0   \n",
       "16  1房1廳1衛0陽臺          18.01      0        0        0       0         0   \n",
       "\n",
       "    電梯大樓/住辦  電梯大樓/整層住家  \n",
       "5         0          1  \n",
       "9         0          1  \n",
       "13        0          1  \n",
       "15        0          1  \n",
       "16        0          1  "
      ]
     },
     "execution_count": 127,
     "metadata": {},
     "output_type": "execute_result"
    }
   ],
   "source": [
    "df.head()"
   ]
  },
  {
   "cell_type": "code",
   "execution_count": 130,
   "metadata": {},
   "outputs": [
    {
     "data": {
      "text/html": [
       "<div>\n",
       "<style scoped>\n",
       "    .dataframe tbody tr th:only-of-type {\n",
       "        vertical-align: middle;\n",
       "    }\n",
       "\n",
       "    .dataframe tbody tr th {\n",
       "        vertical-align: top;\n",
       "    }\n",
       "\n",
       "    .dataframe thead th {\n",
       "        text-align: right;\n",
       "    }\n",
       "</style>\n",
       "<table border=\"1\" class=\"dataframe\">\n",
       "  <thead>\n",
       "    <tr style=\"text-align: right;\">\n",
       "      <th></th>\n",
       "      <th>search_date</th>\n",
       "      <th>title</th>\n",
       "      <th>address</th>\n",
       "      <th>floor_info</th>\n",
       "      <th>price</th>\n",
       "      <th>layout</th>\n",
       "      <th>building_area</th>\n",
       "      <th>building_use</th>\n",
       "    </tr>\n",
       "  </thead>\n",
       "  <tbody>\n",
       "    <tr>\n",
       "      <th>5</th>\n",
       "      <td>2018-05-12</td>\n",
       "      <td>近捷運，採光佳，有景觀，全新家電裝潢</td>\n",
       "      <td>新北市淡水區民族路</td>\n",
       "      <td>9F/11F</td>\n",
       "      <td>22,000元/月</td>\n",
       "      <td>2房1廳1衛1陽臺</td>\n",
       "      <td>24.00</td>\n",
       "      <td>電梯大樓/整層住家</td>\n",
       "    </tr>\n",
       "    <tr>\n",
       "      <th>9</th>\n",
       "      <td>2018-05-14</td>\n",
       "      <td>大衛營優質社區管理好，交通便利、裝潢佳</td>\n",
       "      <td>基隆市安樂區樂利三街</td>\n",
       "      <td>14F/18F</td>\n",
       "      <td>17,000元/月</td>\n",
       "      <td>2房1廳2衛2陽臺</td>\n",
       "      <td>32.00</td>\n",
       "      <td>電梯大樓/整層住家</td>\n",
       "    </tr>\n",
       "    <tr>\n",
       "      <th>13</th>\n",
       "      <td>2018-05-14</td>\n",
       "      <td>家樂福夜市附近，雅房出租2房2廳</td>\n",
       "      <td>嘉義市西區興業西路</td>\n",
       "      <td>7F/8F</td>\n",
       "      <td>7,500元/月</td>\n",
       "      <td>2房2廳1衛1陽臺</td>\n",
       "      <td>24.00</td>\n",
       "      <td>電梯大樓/整層住家</td>\n",
       "    </tr>\n",
       "    <tr>\n",
       "      <th>15</th>\n",
       "      <td>2018-05-14</td>\n",
       "      <td>台北市北投新民路捷運溫泉78坪雙拼美廈</td>\n",
       "      <td>台北市北投區新民路</td>\n",
       "      <td>2F/9F</td>\n",
       "      <td>25,000元/月</td>\n",
       "      <td>4房3廳3衛3陽臺</td>\n",
       "      <td>78.00</td>\n",
       "      <td>電梯大樓/整層住家</td>\n",
       "    </tr>\n",
       "    <tr>\n",
       "      <th>16</th>\n",
       "      <td>2018-05-13</td>\n",
       "      <td>出海口海景高樓層溫馨房</td>\n",
       "      <td>新北市淡水區中正東路一段</td>\n",
       "      <td>19F/21F</td>\n",
       "      <td>15,000元/月</td>\n",
       "      <td>1房1廳1衛0陽臺</td>\n",
       "      <td>18.01</td>\n",
       "      <td>電梯大樓/整層住家</td>\n",
       "    </tr>\n",
       "  </tbody>\n",
       "</table>\n",
       "</div>"
      ],
      "text/plain": [
       "   search_date                title       address floor_info      price  \\\n",
       "5   2018-05-12   近捷運，採光佳，有景觀，全新家電裝潢     新北市淡水區民族路     9F/11F  22,000元/月   \n",
       "9   2018-05-14  大衛營優質社區管理好，交通便利、裝潢佳    基隆市安樂區樂利三街    14F/18F  17,000元/月   \n",
       "13  2018-05-14     家樂福夜市附近，雅房出租2房2廳     嘉義市西區興業西路      7F/8F   7,500元/月   \n",
       "15  2018-05-14  台北市北投新民路捷運溫泉78坪雙拼美廈     台北市北投區新民路      2F/9F  25,000元/月   \n",
       "16  2018-05-13          出海口海景高樓層溫馨房  新北市淡水區中正東路一段    19F/21F  15,000元/月   \n",
       "\n",
       "       layout  building_area building_use  \n",
       "5   2房1廳1衛1陽臺          24.00    電梯大樓/整層住家  \n",
       "9   2房1廳2衛2陽臺          32.00    電梯大樓/整層住家  \n",
       "13  2房2廳1衛1陽臺          24.00    電梯大樓/整層住家  \n",
       "15  4房3廳3衛3陽臺          78.00    電梯大樓/整層住家  \n",
       "16  1房1廳1衛0陽臺          18.01    電梯大樓/整層住家  "
      ]
     },
     "execution_count": 130,
     "metadata": {},
     "output_type": "execute_result"
    }
   ],
   "source": [
    "import pandas\n",
    "df = pandas.read_csv('https://raw.githubusercontent.com/ywchiu/ctbcpy/master/data/rent_591.csv', index_col = 0)\n",
    "df.head()"
   ]
  },
  {
   "cell_type": "code",
   "execution_count": 131,
   "metadata": {},
   "outputs": [],
   "source": [
    "df['price'] = df['price'].map(lambda e: int(e.replace('元/月', '').replace(',','')))"
   ]
  },
  {
   "cell_type": "code",
   "execution_count": 132,
   "metadata": {},
   "outputs": [
    {
     "data": {
      "text/html": [
       "<div>\n",
       "<style scoped>\n",
       "    .dataframe tbody tr th:only-of-type {\n",
       "        vertical-align: middle;\n",
       "    }\n",
       "\n",
       "    .dataframe tbody tr th {\n",
       "        vertical-align: top;\n",
       "    }\n",
       "\n",
       "    .dataframe thead th {\n",
       "        text-align: right;\n",
       "    }\n",
       "</style>\n",
       "<table border=\"1\" class=\"dataframe\">\n",
       "  <thead>\n",
       "    <tr style=\"text-align: right;\">\n",
       "      <th></th>\n",
       "      <th>search_date</th>\n",
       "      <th>title</th>\n",
       "      <th>address</th>\n",
       "      <th>floor_info</th>\n",
       "      <th>price</th>\n",
       "      <th>layout</th>\n",
       "      <th>building_area</th>\n",
       "      <th>building_use</th>\n",
       "    </tr>\n",
       "  </thead>\n",
       "  <tbody>\n",
       "    <tr>\n",
       "      <th>5</th>\n",
       "      <td>2018-05-12</td>\n",
       "      <td>近捷運，採光佳，有景觀，全新家電裝潢</td>\n",
       "      <td>新北市淡水區民族路</td>\n",
       "      <td>9F/11F</td>\n",
       "      <td>22000</td>\n",
       "      <td>2房1廳1衛1陽臺</td>\n",
       "      <td>24.00</td>\n",
       "      <td>電梯大樓/整層住家</td>\n",
       "    </tr>\n",
       "    <tr>\n",
       "      <th>9</th>\n",
       "      <td>2018-05-14</td>\n",
       "      <td>大衛營優質社區管理好，交通便利、裝潢佳</td>\n",
       "      <td>基隆市安樂區樂利三街</td>\n",
       "      <td>14F/18F</td>\n",
       "      <td>17000</td>\n",
       "      <td>2房1廳2衛2陽臺</td>\n",
       "      <td>32.00</td>\n",
       "      <td>電梯大樓/整層住家</td>\n",
       "    </tr>\n",
       "    <tr>\n",
       "      <th>13</th>\n",
       "      <td>2018-05-14</td>\n",
       "      <td>家樂福夜市附近，雅房出租2房2廳</td>\n",
       "      <td>嘉義市西區興業西路</td>\n",
       "      <td>7F/8F</td>\n",
       "      <td>7500</td>\n",
       "      <td>2房2廳1衛1陽臺</td>\n",
       "      <td>24.00</td>\n",
       "      <td>電梯大樓/整層住家</td>\n",
       "    </tr>\n",
       "    <tr>\n",
       "      <th>15</th>\n",
       "      <td>2018-05-14</td>\n",
       "      <td>台北市北投新民路捷運溫泉78坪雙拼美廈</td>\n",
       "      <td>台北市北投區新民路</td>\n",
       "      <td>2F/9F</td>\n",
       "      <td>25000</td>\n",
       "      <td>4房3廳3衛3陽臺</td>\n",
       "      <td>78.00</td>\n",
       "      <td>電梯大樓/整層住家</td>\n",
       "    </tr>\n",
       "    <tr>\n",
       "      <th>16</th>\n",
       "      <td>2018-05-13</td>\n",
       "      <td>出海口海景高樓層溫馨房</td>\n",
       "      <td>新北市淡水區中正東路一段</td>\n",
       "      <td>19F/21F</td>\n",
       "      <td>15000</td>\n",
       "      <td>1房1廳1衛0陽臺</td>\n",
       "      <td>18.01</td>\n",
       "      <td>電梯大樓/整層住家</td>\n",
       "    </tr>\n",
       "  </tbody>\n",
       "</table>\n",
       "</div>"
      ],
      "text/plain": [
       "   search_date                title       address floor_info  price  \\\n",
       "5   2018-05-12   近捷運，採光佳，有景觀，全新家電裝潢     新北市淡水區民族路     9F/11F  22000   \n",
       "9   2018-05-14  大衛營優質社區管理好，交通便利、裝潢佳    基隆市安樂區樂利三街    14F/18F  17000   \n",
       "13  2018-05-14     家樂福夜市附近，雅房出租2房2廳     嘉義市西區興業西路      7F/8F   7500   \n",
       "15  2018-05-14  台北市北投新民路捷運溫泉78坪雙拼美廈     台北市北投區新民路      2F/9F  25000   \n",
       "16  2018-05-13          出海口海景高樓層溫馨房  新北市淡水區中正東路一段    19F/21F  15000   \n",
       "\n",
       "       layout  building_area building_use  \n",
       "5   2房1廳1衛1陽臺          24.00    電梯大樓/整層住家  \n",
       "9   2房1廳2衛2陽臺          32.00    電梯大樓/整層住家  \n",
       "13  2房2廳1衛1陽臺          24.00    電梯大樓/整層住家  \n",
       "15  4房3廳3衛3陽臺          78.00    電梯大樓/整層住家  \n",
       "16  1房1廳1衛0陽臺          18.01    電梯大樓/整層住家  "
      ]
     },
     "execution_count": 132,
     "metadata": {},
     "output_type": "execute_result"
    }
   ],
   "source": [
    "df.head()"
   ]
  },
  {
   "cell_type": "code",
   "execution_count": 133,
   "metadata": {},
   "outputs": [
    {
     "data": {
      "text/html": [
       "<div>\n",
       "<style scoped>\n",
       "    .dataframe tbody tr th:only-of-type {\n",
       "        vertical-align: middle;\n",
       "    }\n",
       "\n",
       "    .dataframe tbody tr th {\n",
       "        vertical-align: top;\n",
       "    }\n",
       "\n",
       "    .dataframe thead th {\n",
       "        text-align: right;\n",
       "    }\n",
       "</style>\n",
       "<table border=\"1\" class=\"dataframe\">\n",
       "  <thead>\n",
       "    <tr style=\"text-align: right;\">\n",
       "      <th>building_use</th>\n",
       "      <th>公寓/住辦</th>\n",
       "      <th>公寓/整層住家</th>\n",
       "      <th>別墅/整層住家</th>\n",
       "      <th>透天厝/住辦</th>\n",
       "      <th>透天厝/整層住家</th>\n",
       "      <th>電梯大樓/住辦</th>\n",
       "      <th>電梯大樓/整層住家</th>\n",
       "    </tr>\n",
       "    <tr>\n",
       "      <th>search_date</th>\n",
       "      <th></th>\n",
       "      <th></th>\n",
       "      <th></th>\n",
       "      <th></th>\n",
       "      <th></th>\n",
       "      <th></th>\n",
       "      <th></th>\n",
       "    </tr>\n",
       "  </thead>\n",
       "  <tbody>\n",
       "    <tr>\n",
       "      <th>2018-05-08</th>\n",
       "      <td>NaN</td>\n",
       "      <td>51000.0</td>\n",
       "      <td>NaN</td>\n",
       "      <td>NaN</td>\n",
       "      <td>NaN</td>\n",
       "      <td>NaN</td>\n",
       "      <td>49000.0</td>\n",
       "    </tr>\n",
       "    <tr>\n",
       "      <th>2018-05-09</th>\n",
       "      <td>NaN</td>\n",
       "      <td>49000.0</td>\n",
       "      <td>NaN</td>\n",
       "      <td>NaN</td>\n",
       "      <td>NaN</td>\n",
       "      <td>NaN</td>\n",
       "      <td>58000.0</td>\n",
       "    </tr>\n",
       "    <tr>\n",
       "      <th>2018-05-10</th>\n",
       "      <td>NaN</td>\n",
       "      <td>62000.0</td>\n",
       "      <td>NaN</td>\n",
       "      <td>NaN</td>\n",
       "      <td>NaN</td>\n",
       "      <td>NaN</td>\n",
       "      <td>73500.0</td>\n",
       "    </tr>\n",
       "    <tr>\n",
       "      <th>2018-05-11</th>\n",
       "      <td>NaN</td>\n",
       "      <td>15000.0</td>\n",
       "      <td>NaN</td>\n",
       "      <td>NaN</td>\n",
       "      <td>14000.0</td>\n",
       "      <td>NaN</td>\n",
       "      <td>89000.0</td>\n",
       "    </tr>\n",
       "    <tr>\n",
       "      <th>2018-05-12</th>\n",
       "      <td>NaN</td>\n",
       "      <td>53000.0</td>\n",
       "      <td>NaN</td>\n",
       "      <td>75000.0</td>\n",
       "      <td>50000.0</td>\n",
       "      <td>28000.0</td>\n",
       "      <td>352900.0</td>\n",
       "    </tr>\n",
       "  </tbody>\n",
       "</table>\n",
       "</div>"
      ],
      "text/plain": [
       "building_use  公寓/住辦  公寓/整層住家  別墅/整層住家   透天厝/住辦  透天厝/整層住家  電梯大樓/住辦  電梯大樓/整層住家\n",
       "search_date                                                                 \n",
       "2018-05-08      NaN  51000.0      NaN      NaN       NaN      NaN    49000.0\n",
       "2018-05-09      NaN  49000.0      NaN      NaN       NaN      NaN    58000.0\n",
       "2018-05-10      NaN  62000.0      NaN      NaN       NaN      NaN    73500.0\n",
       "2018-05-11      NaN  15000.0      NaN      NaN   14000.0      NaN    89000.0\n",
       "2018-05-12      NaN  53000.0      NaN  75000.0   50000.0  28000.0   352900.0"
      ]
     },
     "execution_count": 133,
     "metadata": {},
     "output_type": "execute_result"
    }
   ],
   "source": [
    "df2 = df.pivot_table(index='search_date', columns='building_use',values='price', aggfunc=sum)\n",
    "df2.head()"
   ]
  },
  {
   "cell_type": "code",
   "execution_count": 134,
   "metadata": {},
   "outputs": [
    {
     "data": {
      "text/html": [
       "<div>\n",
       "<style scoped>\n",
       "    .dataframe tbody tr th:only-of-type {\n",
       "        vertical-align: middle;\n",
       "    }\n",
       "\n",
       "    .dataframe tbody tr th {\n",
       "        vertical-align: top;\n",
       "    }\n",
       "\n",
       "    .dataframe thead th {\n",
       "        text-align: right;\n",
       "    }\n",
       "</style>\n",
       "<table border=\"1\" class=\"dataframe\">\n",
       "  <thead>\n",
       "    <tr style=\"text-align: right;\">\n",
       "      <th>search_date</th>\n",
       "      <th>2018-05-08</th>\n",
       "      <th>2018-05-09</th>\n",
       "      <th>2018-05-10</th>\n",
       "      <th>2018-05-11</th>\n",
       "      <th>2018-05-12</th>\n",
       "      <th>2018-05-13</th>\n",
       "      <th>2018-05-14</th>\n",
       "      <th>2018-05-15</th>\n",
       "    </tr>\n",
       "    <tr>\n",
       "      <th>building_use</th>\n",
       "      <th></th>\n",
       "      <th></th>\n",
       "      <th></th>\n",
       "      <th></th>\n",
       "      <th></th>\n",
       "      <th></th>\n",
       "      <th></th>\n",
       "      <th></th>\n",
       "    </tr>\n",
       "  </thead>\n",
       "  <tbody>\n",
       "    <tr>\n",
       "      <th>公寓/住辦</th>\n",
       "      <td>NaN</td>\n",
       "      <td>NaN</td>\n",
       "      <td>NaN</td>\n",
       "      <td>NaN</td>\n",
       "      <td>NaN</td>\n",
       "      <td>NaN</td>\n",
       "      <td>22000.0</td>\n",
       "      <td>NaN</td>\n",
       "    </tr>\n",
       "    <tr>\n",
       "      <th>公寓/整層住家</th>\n",
       "      <td>51000.0</td>\n",
       "      <td>49000.0</td>\n",
       "      <td>62000.0</td>\n",
       "      <td>15000.0</td>\n",
       "      <td>53000.0</td>\n",
       "      <td>45000.0</td>\n",
       "      <td>92300.0</td>\n",
       "      <td>NaN</td>\n",
       "    </tr>\n",
       "    <tr>\n",
       "      <th>別墅/整層住家</th>\n",
       "      <td>NaN</td>\n",
       "      <td>NaN</td>\n",
       "      <td>NaN</td>\n",
       "      <td>NaN</td>\n",
       "      <td>NaN</td>\n",
       "      <td>NaN</td>\n",
       "      <td>NaN</td>\n",
       "      <td>25000.0</td>\n",
       "    </tr>\n",
       "    <tr>\n",
       "      <th>透天厝/住辦</th>\n",
       "      <td>NaN</td>\n",
       "      <td>NaN</td>\n",
       "      <td>NaN</td>\n",
       "      <td>NaN</td>\n",
       "      <td>75000.0</td>\n",
       "      <td>NaN</td>\n",
       "      <td>NaN</td>\n",
       "      <td>83000.0</td>\n",
       "    </tr>\n",
       "    <tr>\n",
       "      <th>透天厝/整層住家</th>\n",
       "      <td>NaN</td>\n",
       "      <td>NaN</td>\n",
       "      <td>NaN</td>\n",
       "      <td>14000.0</td>\n",
       "      <td>50000.0</td>\n",
       "      <td>26000.0</td>\n",
       "      <td>70800.0</td>\n",
       "      <td>NaN</td>\n",
       "    </tr>\n",
       "  </tbody>\n",
       "</table>\n",
       "</div>"
      ],
      "text/plain": [
       "search_date   2018-05-08  2018-05-09  2018-05-10  2018-05-11  2018-05-12  \\\n",
       "building_use                                                               \n",
       "公寓/住辦                NaN         NaN         NaN         NaN         NaN   \n",
       "公寓/整層住家          51000.0     49000.0     62000.0     15000.0     53000.0   \n",
       "別墅/整層住家              NaN         NaN         NaN         NaN         NaN   \n",
       "透天厝/住辦               NaN         NaN         NaN         NaN     75000.0   \n",
       "透天厝/整層住家             NaN         NaN         NaN     14000.0     50000.0   \n",
       "\n",
       "search_date   2018-05-13  2018-05-14  2018-05-15  \n",
       "building_use                                      \n",
       "公寓/住辦                NaN     22000.0         NaN  \n",
       "公寓/整層住家          45000.0     92300.0         NaN  \n",
       "別墅/整層住家              NaN         NaN     25000.0  \n",
       "透天厝/住辦               NaN         NaN     83000.0  \n",
       "透天厝/整層住家         26000.0     70800.0         NaN  "
      ]
     },
     "execution_count": 134,
     "metadata": {},
     "output_type": "execute_result"
    }
   ],
   "source": [
    "df3 = df.pivot_table(index='building_use', columns='search_date',\n",
    "values='price', aggfunc=sum)\n",
    "df3.head()"
   ]
  },
  {
   "cell_type": "code",
   "execution_count": 136,
   "metadata": {},
   "outputs": [
    {
     "data": {
      "text/html": [
       "<div>\n",
       "<style scoped>\n",
       "    .dataframe tbody tr th:only-of-type {\n",
       "        vertical-align: middle;\n",
       "    }\n",
       "\n",
       "    .dataframe tbody tr th {\n",
       "        vertical-align: top;\n",
       "    }\n",
       "\n",
       "    .dataframe thead th {\n",
       "        text-align: right;\n",
       "    }\n",
       "</style>\n",
       "<table border=\"1\" class=\"dataframe\">\n",
       "  <thead>\n",
       "    <tr style=\"text-align: right;\">\n",
       "      <th>search_date</th>\n",
       "      <th>2018-05-08</th>\n",
       "      <th>2018-05-09</th>\n",
       "      <th>2018-05-10</th>\n",
       "      <th>2018-05-11</th>\n",
       "      <th>2018-05-12</th>\n",
       "      <th>2018-05-13</th>\n",
       "      <th>2018-05-14</th>\n",
       "      <th>2018-05-15</th>\n",
       "    </tr>\n",
       "    <tr>\n",
       "      <th>building_use</th>\n",
       "      <th></th>\n",
       "      <th></th>\n",
       "      <th></th>\n",
       "      <th></th>\n",
       "      <th></th>\n",
       "      <th></th>\n",
       "      <th></th>\n",
       "      <th></th>\n",
       "    </tr>\n",
       "  </thead>\n",
       "  <tbody>\n",
       "    <tr>\n",
       "      <th>公寓/住辦</th>\n",
       "      <td>NaN</td>\n",
       "      <td>NaN</td>\n",
       "      <td>NaN</td>\n",
       "      <td>NaN</td>\n",
       "      <td>NaN</td>\n",
       "      <td>NaN</td>\n",
       "      <td>22000.0</td>\n",
       "      <td>NaN</td>\n",
       "    </tr>\n",
       "    <tr>\n",
       "      <th>公寓/整層住家</th>\n",
       "      <td>51000.0</td>\n",
       "      <td>49000.0</td>\n",
       "      <td>62000.0</td>\n",
       "      <td>15000.0</td>\n",
       "      <td>53000.0</td>\n",
       "      <td>45000.0</td>\n",
       "      <td>92300.0</td>\n",
       "      <td>NaN</td>\n",
       "    </tr>\n",
       "    <tr>\n",
       "      <th>別墅/整層住家</th>\n",
       "      <td>NaN</td>\n",
       "      <td>NaN</td>\n",
       "      <td>NaN</td>\n",
       "      <td>NaN</td>\n",
       "      <td>NaN</td>\n",
       "      <td>NaN</td>\n",
       "      <td>NaN</td>\n",
       "      <td>25000.0</td>\n",
       "    </tr>\n",
       "    <tr>\n",
       "      <th>透天厝/住辦</th>\n",
       "      <td>NaN</td>\n",
       "      <td>NaN</td>\n",
       "      <td>NaN</td>\n",
       "      <td>NaN</td>\n",
       "      <td>75000.0</td>\n",
       "      <td>NaN</td>\n",
       "      <td>NaN</td>\n",
       "      <td>83000.0</td>\n",
       "    </tr>\n",
       "    <tr>\n",
       "      <th>透天厝/整層住家</th>\n",
       "      <td>NaN</td>\n",
       "      <td>NaN</td>\n",
       "      <td>NaN</td>\n",
       "      <td>14000.0</td>\n",
       "      <td>50000.0</td>\n",
       "      <td>26000.0</td>\n",
       "      <td>70800.0</td>\n",
       "      <td>NaN</td>\n",
       "    </tr>\n",
       "  </tbody>\n",
       "</table>\n",
       "</div>"
      ],
      "text/plain": [
       "search_date   2018-05-08  2018-05-09  2018-05-10  2018-05-11  2018-05-12  \\\n",
       "building_use                                                               \n",
       "公寓/住辦                NaN         NaN         NaN         NaN         NaN   \n",
       "公寓/整層住家          51000.0     49000.0     62000.0     15000.0     53000.0   \n",
       "別墅/整層住家              NaN         NaN         NaN         NaN         NaN   \n",
       "透天厝/住辦               NaN         NaN         NaN         NaN     75000.0   \n",
       "透天厝/整層住家             NaN         NaN         NaN     14000.0     50000.0   \n",
       "\n",
       "search_date   2018-05-13  2018-05-14  2018-05-15  \n",
       "building_use                                      \n",
       "公寓/住辦                NaN     22000.0         NaN  \n",
       "公寓/整層住家          45000.0     92300.0         NaN  \n",
       "別墅/整層住家              NaN         NaN     25000.0  \n",
       "透天厝/住辦               NaN         NaN     83000.0  \n",
       "透天厝/整層住家         26000.0     70800.0         NaN  "
      ]
     },
     "execution_count": 136,
     "metadata": {},
     "output_type": "execute_result"
    }
   ],
   "source": [
    "df2.T.head()"
   ]
  },
  {
   "cell_type": "code",
   "execution_count": 141,
   "metadata": {},
   "outputs": [],
   "source": [
    "df['btype'] = df['building_use'].map(lambda e: e.split('/')[0])"
   ]
  },
  {
   "cell_type": "code",
   "execution_count": 142,
   "metadata": {},
   "outputs": [],
   "source": [
    "df['buse'] = df['building_use'].map(lambda e: e.split('/')[1])"
   ]
  },
  {
   "cell_type": "code",
   "execution_count": 146,
   "metadata": {},
   "outputs": [
    {
     "data": {
      "text/html": [
       "<div>\n",
       "<style scoped>\n",
       "    .dataframe tbody tr th:only-of-type {\n",
       "        vertical-align: middle;\n",
       "    }\n",
       "\n",
       "    .dataframe tbody tr th {\n",
       "        vertical-align: top;\n",
       "    }\n",
       "\n",
       "    .dataframe thead th {\n",
       "        text-align: right;\n",
       "    }\n",
       "</style>\n",
       "<table border=\"1\" class=\"dataframe\">\n",
       "  <thead>\n",
       "    <tr style=\"text-align: right;\">\n",
       "      <th></th>\n",
       "      <th>search_date</th>\n",
       "      <th>title</th>\n",
       "      <th>address</th>\n",
       "      <th>floor_info</th>\n",
       "      <th>price</th>\n",
       "      <th>layout</th>\n",
       "      <th>building_area</th>\n",
       "      <th>building_use</th>\n",
       "      <th>buse</th>\n",
       "      <th>btype</th>\n",
       "    </tr>\n",
       "  </thead>\n",
       "  <tbody>\n",
       "    <tr>\n",
       "      <th>5</th>\n",
       "      <td>2018-05-12</td>\n",
       "      <td>近捷運，採光佳，有景觀，全新家電裝潢</td>\n",
       "      <td>新北市淡水區民族路</td>\n",
       "      <td>9F/11F</td>\n",
       "      <td>22000</td>\n",
       "      <td>2房1廳1衛1陽臺</td>\n",
       "      <td>24.0</td>\n",
       "      <td>電梯大樓/整層住家</td>\n",
       "      <td>整層住家</td>\n",
       "      <td>電梯大樓</td>\n",
       "    </tr>\n",
       "    <tr>\n",
       "      <th>9</th>\n",
       "      <td>2018-05-14</td>\n",
       "      <td>大衛營優質社區管理好，交通便利、裝潢佳</td>\n",
       "      <td>基隆市安樂區樂利三街</td>\n",
       "      <td>14F/18F</td>\n",
       "      <td>17000</td>\n",
       "      <td>2房1廳2衛2陽臺</td>\n",
       "      <td>32.0</td>\n",
       "      <td>電梯大樓/整層住家</td>\n",
       "      <td>整層住家</td>\n",
       "      <td>電梯大樓</td>\n",
       "    </tr>\n",
       "    <tr>\n",
       "      <th>13</th>\n",
       "      <td>2018-05-14</td>\n",
       "      <td>家樂福夜市附近，雅房出租2房2廳</td>\n",
       "      <td>嘉義市西區興業西路</td>\n",
       "      <td>7F/8F</td>\n",
       "      <td>7500</td>\n",
       "      <td>2房2廳1衛1陽臺</td>\n",
       "      <td>24.0</td>\n",
       "      <td>電梯大樓/整層住家</td>\n",
       "      <td>整層住家</td>\n",
       "      <td>電梯大樓</td>\n",
       "    </tr>\n",
       "  </tbody>\n",
       "</table>\n",
       "</div>"
      ],
      "text/plain": [
       "   search_date                title     address floor_info  price     layout  \\\n",
       "5   2018-05-12   近捷運，採光佳，有景觀，全新家電裝潢   新北市淡水區民族路     9F/11F  22000  2房1廳1衛1陽臺   \n",
       "9   2018-05-14  大衛營優質社區管理好，交通便利、裝潢佳  基隆市安樂區樂利三街    14F/18F  17000  2房1廳2衛2陽臺   \n",
       "13  2018-05-14     家樂福夜市附近，雅房出租2房2廳   嘉義市西區興業西路      7F/8F   7500  2房2廳1衛1陽臺   \n",
       "\n",
       "    building_area building_use  buse btype  \n",
       "5            24.0    電梯大樓/整層住家  整層住家  電梯大樓  \n",
       "9            32.0    電梯大樓/整層住家  整層住家  電梯大樓  \n",
       "13           24.0    電梯大樓/整層住家  整層住家  電梯大樓  "
      ]
     },
     "execution_count": 146,
     "metadata": {},
     "output_type": "execute_result"
    }
   ],
   "source": [
    "df.head(3)"
   ]
  },
  {
   "cell_type": "code",
   "execution_count": 144,
   "metadata": {},
   "outputs": [],
   "source": [
    "df_multi_idx = df.pivot_table(index=['btype','buse'], columns='search_date'\n",
    ",values='price', aggfunc=sum)\n"
   ]
  },
  {
   "cell_type": "code",
   "execution_count": 145,
   "metadata": {},
   "outputs": [
    {
     "data": {
      "text/html": [
       "<div>\n",
       "<style scoped>\n",
       "    .dataframe tbody tr th:only-of-type {\n",
       "        vertical-align: middle;\n",
       "    }\n",
       "\n",
       "    .dataframe tbody tr th {\n",
       "        vertical-align: top;\n",
       "    }\n",
       "\n",
       "    .dataframe thead th {\n",
       "        text-align: right;\n",
       "    }\n",
       "</style>\n",
       "<table border=\"1\" class=\"dataframe\">\n",
       "  <thead>\n",
       "    <tr style=\"text-align: right;\">\n",
       "      <th></th>\n",
       "      <th>search_date</th>\n",
       "      <th>2018-05-08</th>\n",
       "      <th>2018-05-09</th>\n",
       "      <th>2018-05-10</th>\n",
       "      <th>2018-05-11</th>\n",
       "      <th>2018-05-12</th>\n",
       "      <th>2018-05-13</th>\n",
       "      <th>2018-05-14</th>\n",
       "      <th>2018-05-15</th>\n",
       "    </tr>\n",
       "    <tr>\n",
       "      <th>btype</th>\n",
       "      <th>buse</th>\n",
       "      <th></th>\n",
       "      <th></th>\n",
       "      <th></th>\n",
       "      <th></th>\n",
       "      <th></th>\n",
       "      <th></th>\n",
       "      <th></th>\n",
       "      <th></th>\n",
       "    </tr>\n",
       "  </thead>\n",
       "  <tbody>\n",
       "    <tr>\n",
       "      <th rowspan=\"2\" valign=\"top\">公寓</th>\n",
       "      <th>住辦</th>\n",
       "      <td>NaN</td>\n",
       "      <td>NaN</td>\n",
       "      <td>NaN</td>\n",
       "      <td>NaN</td>\n",
       "      <td>NaN</td>\n",
       "      <td>NaN</td>\n",
       "      <td>22000.0</td>\n",
       "      <td>NaN</td>\n",
       "    </tr>\n",
       "    <tr>\n",
       "      <th>整層住家</th>\n",
       "      <td>51000.0</td>\n",
       "      <td>49000.0</td>\n",
       "      <td>62000.0</td>\n",
       "      <td>15000.0</td>\n",
       "      <td>53000.0</td>\n",
       "      <td>45000.0</td>\n",
       "      <td>92300.0</td>\n",
       "      <td>NaN</td>\n",
       "    </tr>\n",
       "    <tr>\n",
       "      <th>別墅</th>\n",
       "      <th>整層住家</th>\n",
       "      <td>NaN</td>\n",
       "      <td>NaN</td>\n",
       "      <td>NaN</td>\n",
       "      <td>NaN</td>\n",
       "      <td>NaN</td>\n",
       "      <td>NaN</td>\n",
       "      <td>NaN</td>\n",
       "      <td>25000.0</td>\n",
       "    </tr>\n",
       "    <tr>\n",
       "      <th rowspan=\"2\" valign=\"top\">透天厝</th>\n",
       "      <th>住辦</th>\n",
       "      <td>NaN</td>\n",
       "      <td>NaN</td>\n",
       "      <td>NaN</td>\n",
       "      <td>NaN</td>\n",
       "      <td>75000.0</td>\n",
       "      <td>NaN</td>\n",
       "      <td>NaN</td>\n",
       "      <td>83000.0</td>\n",
       "    </tr>\n",
       "    <tr>\n",
       "      <th>整層住家</th>\n",
       "      <td>NaN</td>\n",
       "      <td>NaN</td>\n",
       "      <td>NaN</td>\n",
       "      <td>14000.0</td>\n",
       "      <td>50000.0</td>\n",
       "      <td>26000.0</td>\n",
       "      <td>70800.0</td>\n",
       "      <td>NaN</td>\n",
       "    </tr>\n",
       "    <tr>\n",
       "      <th rowspan=\"2\" valign=\"top\">電梯大樓</th>\n",
       "      <th>住辦</th>\n",
       "      <td>NaN</td>\n",
       "      <td>NaN</td>\n",
       "      <td>NaN</td>\n",
       "      <td>NaN</td>\n",
       "      <td>28000.0</td>\n",
       "      <td>NaN</td>\n",
       "      <td>40000.0</td>\n",
       "      <td>36000.0</td>\n",
       "    </tr>\n",
       "    <tr>\n",
       "      <th>整層住家</th>\n",
       "      <td>49000.0</td>\n",
       "      <td>58000.0</td>\n",
       "      <td>73500.0</td>\n",
       "      <td>89000.0</td>\n",
       "      <td>352900.0</td>\n",
       "      <td>236700.0</td>\n",
       "      <td>354000.0</td>\n",
       "      <td>NaN</td>\n",
       "    </tr>\n",
       "  </tbody>\n",
       "</table>\n",
       "</div>"
      ],
      "text/plain": [
       "search_date  2018-05-08  2018-05-09  2018-05-10  2018-05-11  2018-05-12  \\\n",
       "btype buse                                                                \n",
       "公寓    住辦            NaN         NaN         NaN         NaN         NaN   \n",
       "      整層住家      51000.0     49000.0     62000.0     15000.0     53000.0   \n",
       "別墅    整層住家          NaN         NaN         NaN         NaN         NaN   \n",
       "透天厝   住辦            NaN         NaN         NaN         NaN     75000.0   \n",
       "      整層住家          NaN         NaN         NaN     14000.0     50000.0   \n",
       "電梯大樓  住辦            NaN         NaN         NaN         NaN     28000.0   \n",
       "      整層住家      49000.0     58000.0     73500.0     89000.0    352900.0   \n",
       "\n",
       "search_date  2018-05-13  2018-05-14  2018-05-15  \n",
       "btype buse                                       \n",
       "公寓    住辦            NaN     22000.0         NaN  \n",
       "      整層住家      45000.0     92300.0         NaN  \n",
       "別墅    整層住家          NaN         NaN     25000.0  \n",
       "透天厝   住辦            NaN         NaN     83000.0  \n",
       "      整層住家      26000.0     70800.0         NaN  \n",
       "電梯大樓  住辦            NaN     40000.0     36000.0  \n",
       "      整層住家     236700.0    354000.0         NaN  "
      ]
     },
     "execution_count": 145,
     "metadata": {},
     "output_type": "execute_result"
    }
   ],
   "source": [
    "df_multi_idx"
   ]
  },
  {
   "cell_type": "code",
   "execution_count": 147,
   "metadata": {},
   "outputs": [
    {
     "data": {
      "text/html": [
       "<div>\n",
       "<style scoped>\n",
       "    .dataframe tbody tr th:only-of-type {\n",
       "        vertical-align: middle;\n",
       "    }\n",
       "\n",
       "    .dataframe tbody tr th {\n",
       "        vertical-align: top;\n",
       "    }\n",
       "\n",
       "    .dataframe thead tr th {\n",
       "        text-align: left;\n",
       "    }\n",
       "\n",
       "    .dataframe thead tr:last-of-type th {\n",
       "        text-align: right;\n",
       "    }\n",
       "</style>\n",
       "<table border=\"1\" class=\"dataframe\">\n",
       "  <thead>\n",
       "    <tr>\n",
       "      <th>search_date</th>\n",
       "      <th colspan=\"2\" halign=\"left\">2018-05-08</th>\n",
       "      <th colspan=\"2\" halign=\"left\">2018-05-09</th>\n",
       "      <th colspan=\"2\" halign=\"left\">2018-05-10</th>\n",
       "      <th colspan=\"2\" halign=\"left\">2018-05-11</th>\n",
       "      <th colspan=\"2\" halign=\"left\">2018-05-12</th>\n",
       "      <th colspan=\"2\" halign=\"left\">2018-05-13</th>\n",
       "      <th colspan=\"2\" halign=\"left\">2018-05-14</th>\n",
       "      <th colspan=\"2\" halign=\"left\">2018-05-15</th>\n",
       "    </tr>\n",
       "    <tr>\n",
       "      <th>buse</th>\n",
       "      <th>住辦</th>\n",
       "      <th>整層住家</th>\n",
       "      <th>住辦</th>\n",
       "      <th>整層住家</th>\n",
       "      <th>住辦</th>\n",
       "      <th>整層住家</th>\n",
       "      <th>住辦</th>\n",
       "      <th>整層住家</th>\n",
       "      <th>住辦</th>\n",
       "      <th>整層住家</th>\n",
       "      <th>住辦</th>\n",
       "      <th>整層住家</th>\n",
       "      <th>住辦</th>\n",
       "      <th>整層住家</th>\n",
       "      <th>住辦</th>\n",
       "      <th>整層住家</th>\n",
       "    </tr>\n",
       "    <tr>\n",
       "      <th>btype</th>\n",
       "      <th></th>\n",
       "      <th></th>\n",
       "      <th></th>\n",
       "      <th></th>\n",
       "      <th></th>\n",
       "      <th></th>\n",
       "      <th></th>\n",
       "      <th></th>\n",
       "      <th></th>\n",
       "      <th></th>\n",
       "      <th></th>\n",
       "      <th></th>\n",
       "      <th></th>\n",
       "      <th></th>\n",
       "      <th></th>\n",
       "      <th></th>\n",
       "    </tr>\n",
       "  </thead>\n",
       "  <tbody>\n",
       "    <tr>\n",
       "      <th>公寓</th>\n",
       "      <td>NaN</td>\n",
       "      <td>51000.0</td>\n",
       "      <td>NaN</td>\n",
       "      <td>49000.0</td>\n",
       "      <td>NaN</td>\n",
       "      <td>62000.0</td>\n",
       "      <td>NaN</td>\n",
       "      <td>15000.0</td>\n",
       "      <td>NaN</td>\n",
       "      <td>53000.0</td>\n",
       "      <td>NaN</td>\n",
       "      <td>45000.0</td>\n",
       "      <td>22000.0</td>\n",
       "      <td>92300.0</td>\n",
       "      <td>NaN</td>\n",
       "      <td>NaN</td>\n",
       "    </tr>\n",
       "    <tr>\n",
       "      <th>別墅</th>\n",
       "      <td>NaN</td>\n",
       "      <td>NaN</td>\n",
       "      <td>NaN</td>\n",
       "      <td>NaN</td>\n",
       "      <td>NaN</td>\n",
       "      <td>NaN</td>\n",
       "      <td>NaN</td>\n",
       "      <td>NaN</td>\n",
       "      <td>NaN</td>\n",
       "      <td>NaN</td>\n",
       "      <td>NaN</td>\n",
       "      <td>NaN</td>\n",
       "      <td>NaN</td>\n",
       "      <td>NaN</td>\n",
       "      <td>NaN</td>\n",
       "      <td>25000.0</td>\n",
       "    </tr>\n",
       "    <tr>\n",
       "      <th>透天厝</th>\n",
       "      <td>NaN</td>\n",
       "      <td>NaN</td>\n",
       "      <td>NaN</td>\n",
       "      <td>NaN</td>\n",
       "      <td>NaN</td>\n",
       "      <td>NaN</td>\n",
       "      <td>NaN</td>\n",
       "      <td>14000.0</td>\n",
       "      <td>75000.0</td>\n",
       "      <td>50000.0</td>\n",
       "      <td>NaN</td>\n",
       "      <td>26000.0</td>\n",
       "      <td>NaN</td>\n",
       "      <td>70800.0</td>\n",
       "      <td>83000.0</td>\n",
       "      <td>NaN</td>\n",
       "    </tr>\n",
       "    <tr>\n",
       "      <th>電梯大樓</th>\n",
       "      <td>NaN</td>\n",
       "      <td>49000.0</td>\n",
       "      <td>NaN</td>\n",
       "      <td>58000.0</td>\n",
       "      <td>NaN</td>\n",
       "      <td>73500.0</td>\n",
       "      <td>NaN</td>\n",
       "      <td>89000.0</td>\n",
       "      <td>28000.0</td>\n",
       "      <td>352900.0</td>\n",
       "      <td>NaN</td>\n",
       "      <td>236700.0</td>\n",
       "      <td>40000.0</td>\n",
       "      <td>354000.0</td>\n",
       "      <td>36000.0</td>\n",
       "      <td>NaN</td>\n",
       "    </tr>\n",
       "  </tbody>\n",
       "</table>\n",
       "</div>"
      ],
      "text/plain": [
       "search_date 2018-05-08          2018-05-09          2018-05-10           \\\n",
       "buse                住辦     整層住家         住辦     整層住家         住辦     整層住家   \n",
       "btype                                                                     \n",
       "公寓                 NaN  51000.0        NaN  49000.0        NaN  62000.0   \n",
       "別墅                 NaN      NaN        NaN      NaN        NaN      NaN   \n",
       "透天厝                NaN      NaN        NaN      NaN        NaN      NaN   \n",
       "電梯大樓               NaN  49000.0        NaN  58000.0        NaN  73500.0   \n",
       "\n",
       "search_date 2018-05-11          2018-05-12           2018-05-13            \\\n",
       "buse                住辦     整層住家         住辦      整層住家         住辦      整層住家   \n",
       "btype                                                                       \n",
       "公寓                 NaN  15000.0        NaN   53000.0        NaN   45000.0   \n",
       "別墅                 NaN      NaN        NaN       NaN        NaN       NaN   \n",
       "透天厝                NaN  14000.0    75000.0   50000.0        NaN   26000.0   \n",
       "電梯大樓               NaN  89000.0    28000.0  352900.0        NaN  236700.0   \n",
       "\n",
       "search_date 2018-05-14           2018-05-15           \n",
       "buse                住辦      整層住家         住辦     整層住家  \n",
       "btype                                                 \n",
       "公寓             22000.0   92300.0        NaN      NaN  \n",
       "別墅                 NaN       NaN        NaN  25000.0  \n",
       "透天厝                NaN   70800.0    83000.0      NaN  \n",
       "電梯大樓           40000.0  354000.0    36000.0      NaN  "
      ]
     },
     "execution_count": 147,
     "metadata": {},
     "output_type": "execute_result"
    }
   ],
   "source": [
    "df_wide = df_multi_idx.unstack()\n",
    "df_wide.head()"
   ]
  },
  {
   "cell_type": "code",
   "execution_count": 148,
   "metadata": {},
   "outputs": [
    {
     "data": {
      "text/html": [
       "<div>\n",
       "<style scoped>\n",
       "    .dataframe tbody tr th:only-of-type {\n",
       "        vertical-align: middle;\n",
       "    }\n",
       "\n",
       "    .dataframe tbody tr th {\n",
       "        vertical-align: top;\n",
       "    }\n",
       "\n",
       "    .dataframe thead th {\n",
       "        text-align: right;\n",
       "    }\n",
       "</style>\n",
       "<table border=\"1\" class=\"dataframe\">\n",
       "  <thead>\n",
       "    <tr style=\"text-align: right;\">\n",
       "      <th></th>\n",
       "      <th>search_date</th>\n",
       "      <th>2018-05-08</th>\n",
       "      <th>2018-05-09</th>\n",
       "      <th>2018-05-10</th>\n",
       "      <th>2018-05-11</th>\n",
       "      <th>2018-05-12</th>\n",
       "      <th>2018-05-13</th>\n",
       "      <th>2018-05-14</th>\n",
       "      <th>2018-05-15</th>\n",
       "    </tr>\n",
       "    <tr>\n",
       "      <th>btype</th>\n",
       "      <th>buse</th>\n",
       "      <th></th>\n",
       "      <th></th>\n",
       "      <th></th>\n",
       "      <th></th>\n",
       "      <th></th>\n",
       "      <th></th>\n",
       "      <th></th>\n",
       "      <th></th>\n",
       "    </tr>\n",
       "  </thead>\n",
       "  <tbody>\n",
       "    <tr>\n",
       "      <th rowspan=\"2\" valign=\"top\">公寓</th>\n",
       "      <th>住辦</th>\n",
       "      <td>NaN</td>\n",
       "      <td>NaN</td>\n",
       "      <td>NaN</td>\n",
       "      <td>NaN</td>\n",
       "      <td>NaN</td>\n",
       "      <td>NaN</td>\n",
       "      <td>22000.0</td>\n",
       "      <td>NaN</td>\n",
       "    </tr>\n",
       "    <tr>\n",
       "      <th>整層住家</th>\n",
       "      <td>51000.0</td>\n",
       "      <td>49000.0</td>\n",
       "      <td>62000.0</td>\n",
       "      <td>15000.0</td>\n",
       "      <td>53000.0</td>\n",
       "      <td>45000.0</td>\n",
       "      <td>92300.0</td>\n",
       "      <td>NaN</td>\n",
       "    </tr>\n",
       "    <tr>\n",
       "      <th>別墅</th>\n",
       "      <th>整層住家</th>\n",
       "      <td>NaN</td>\n",
       "      <td>NaN</td>\n",
       "      <td>NaN</td>\n",
       "      <td>NaN</td>\n",
       "      <td>NaN</td>\n",
       "      <td>NaN</td>\n",
       "      <td>NaN</td>\n",
       "      <td>25000.0</td>\n",
       "    </tr>\n",
       "    <tr>\n",
       "      <th rowspan=\"2\" valign=\"top\">透天厝</th>\n",
       "      <th>住辦</th>\n",
       "      <td>NaN</td>\n",
       "      <td>NaN</td>\n",
       "      <td>NaN</td>\n",
       "      <td>NaN</td>\n",
       "      <td>75000.0</td>\n",
       "      <td>NaN</td>\n",
       "      <td>NaN</td>\n",
       "      <td>83000.0</td>\n",
       "    </tr>\n",
       "    <tr>\n",
       "      <th>整層住家</th>\n",
       "      <td>NaN</td>\n",
       "      <td>NaN</td>\n",
       "      <td>NaN</td>\n",
       "      <td>14000.0</td>\n",
       "      <td>50000.0</td>\n",
       "      <td>26000.0</td>\n",
       "      <td>70800.0</td>\n",
       "      <td>NaN</td>\n",
       "    </tr>\n",
       "  </tbody>\n",
       "</table>\n",
       "</div>"
      ],
      "text/plain": [
       "search_date  2018-05-08  2018-05-09  2018-05-10  2018-05-11  2018-05-12  \\\n",
       "btype buse                                                                \n",
       "公寓    住辦            NaN         NaN         NaN         NaN         NaN   \n",
       "      整層住家      51000.0     49000.0     62000.0     15000.0     53000.0   \n",
       "別墅    整層住家          NaN         NaN         NaN         NaN         NaN   \n",
       "透天厝   住辦            NaN         NaN         NaN         NaN     75000.0   \n",
       "      整層住家          NaN         NaN         NaN     14000.0     50000.0   \n",
       "\n",
       "search_date  2018-05-13  2018-05-14  2018-05-15  \n",
       "btype buse                                       \n",
       "公寓    住辦            NaN     22000.0         NaN  \n",
       "      整層住家      45000.0     92300.0         NaN  \n",
       "別墅    整層住家          NaN         NaN     25000.0  \n",
       "透天厝   住辦            NaN         NaN     83000.0  \n",
       "      整層住家      26000.0     70800.0         NaN  "
      ]
     },
     "execution_count": 148,
     "metadata": {},
     "output_type": "execute_result"
    }
   ],
   "source": [
    "df_long = df_wide.stack()\n",
    "df_long.head()"
   ]
  },
  {
   "cell_type": "code",
   "execution_count": 156,
   "metadata": {},
   "outputs": [
    {
     "data": {
      "text/plain": [
       "('電梯大樓', '整層住家')"
      ]
     },
     "execution_count": 156,
     "metadata": {},
     "output_type": "execute_result"
    }
   ],
   "source": [
    "s = '電梯大樓/整層住家'\n",
    "btype = s.split('/')[0]\n",
    "buse = s.split('/')[1]\n",
    "btype, buse"
   ]
  },
  {
   "cell_type": "code",
   "execution_count": 157,
   "metadata": {},
   "outputs": [
    {
     "data": {
      "text/plain": [
       "2"
      ]
     },
     "execution_count": 157,
     "metadata": {},
     "output_type": "execute_result"
    }
   ],
   "source": [
    "len(s.split('/'))"
   ]
  },
  {
   "cell_type": "code",
   "execution_count": 158,
   "metadata": {},
   "outputs": [],
   "source": [
    "s2 = '電梯大樓'\n",
    "btype = s2.split('/')[0]"
   ]
  },
  {
   "cell_type": "code",
   "execution_count": 159,
   "metadata": {},
   "outputs": [
    {
     "data": {
      "text/plain": [
       "'電梯大樓'"
      ]
     },
     "execution_count": 159,
     "metadata": {},
     "output_type": "execute_result"
    }
   ],
   "source": [
    "btype"
   ]
  },
  {
   "cell_type": "code",
   "execution_count": 160,
   "metadata": {},
   "outputs": [
    {
     "ename": "IndexError",
     "evalue": "list index out of range",
     "output_type": "error",
     "traceback": [
      "\u001b[1;31m---------------------------------------------------------------------------\u001b[0m",
      "\u001b[1;31mIndexError\u001b[0m                                Traceback (most recent call last)",
      "\u001b[1;32m<ipython-input-160-00cff2413738>\u001b[0m in \u001b[0;36m<module>\u001b[1;34m()\u001b[0m\n\u001b[1;32m----> 1\u001b[1;33m \u001b[0mbuse\u001b[0m \u001b[1;33m=\u001b[0m \u001b[0ms2\u001b[0m\u001b[1;33m.\u001b[0m\u001b[0msplit\u001b[0m\u001b[1;33m(\u001b[0m\u001b[1;34m'/'\u001b[0m\u001b[1;33m)\u001b[0m\u001b[1;33m[\u001b[0m\u001b[1;36m1\u001b[0m\u001b[1;33m]\u001b[0m\u001b[1;33m\u001b[0m\u001b[0m\n\u001b[0m",
      "\u001b[1;31mIndexError\u001b[0m: list index out of range"
     ]
    }
   ],
   "source": [
    "buse = s2.split('/')[1]"
   ]
  },
  {
   "cell_type": "code",
   "execution_count": 161,
   "metadata": {},
   "outputs": [
    {
     "data": {
      "text/plain": [
       "1"
      ]
     },
     "execution_count": 161,
     "metadata": {},
     "output_type": "execute_result"
    }
   ],
   "source": [
    "len(s2.split('/'))"
   ]
  },
  {
   "cell_type": "code",
   "execution_count": 165,
   "metadata": {},
   "outputs": [
    {
     "name": "stdout",
     "output_type": "stream",
     "text": [
      "整層住家\n"
     ]
    }
   ],
   "source": [
    "s2 = '電梯大樓/整層住家'\n",
    "if len(s2.split('/')) > 1:\n",
    "    buse = s2.split('/')[1]\n",
    "else:\n",
    "    buse = None\n",
    "print(buse)"
   ]
  },
  {
   "cell_type": "code",
   "execution_count": 166,
   "metadata": {},
   "outputs": [
    {
     "data": {
      "text/plain": [
       "'整層住家'"
      ]
     },
     "execution_count": 166,
     "metadata": {},
     "output_type": "execute_result"
    }
   ],
   "source": [
    "s2.split('/')[1] if len(s2.split('/')) > 1 else None"
   ]
  },
  {
   "cell_type": "code",
   "execution_count": 167,
   "metadata": {},
   "outputs": [],
   "source": [
    "df['buse'] = df['building_use'].map(lambda e: e.split('/')[1] if len(e.split('/')) > 1 else None)"
   ]
  },
  {
   "cell_type": "markdown",
   "metadata": {},
   "source": [
    "## 資料處理"
   ]
  },
  {
   "cell_type": "code",
   "execution_count": 168,
   "metadata": {},
   "outputs": [],
   "source": [
    "import pandas\n",
    "df = pandas.read_csv('https://raw.githubusercontent.com/ywchiu/ctbcpy/master/data/rent_591.csv', index_col = 0)\n"
   ]
  },
  {
   "cell_type": "code",
   "execution_count": 169,
   "metadata": {},
   "outputs": [
    {
     "data": {
      "text/html": [
       "<div>\n",
       "<style scoped>\n",
       "    .dataframe tbody tr th:only-of-type {\n",
       "        vertical-align: middle;\n",
       "    }\n",
       "\n",
       "    .dataframe tbody tr th {\n",
       "        vertical-align: top;\n",
       "    }\n",
       "\n",
       "    .dataframe thead th {\n",
       "        text-align: right;\n",
       "    }\n",
       "</style>\n",
       "<table border=\"1\" class=\"dataframe\">\n",
       "  <thead>\n",
       "    <tr style=\"text-align: right;\">\n",
       "      <th></th>\n",
       "      <th>search_date</th>\n",
       "      <th>title</th>\n",
       "      <th>address</th>\n",
       "      <th>floor_info</th>\n",
       "      <th>price</th>\n",
       "      <th>layout</th>\n",
       "      <th>building_area</th>\n",
       "      <th>building_use</th>\n",
       "    </tr>\n",
       "  </thead>\n",
       "  <tbody>\n",
       "    <tr>\n",
       "      <th>5</th>\n",
       "      <td>2018-05-12</td>\n",
       "      <td>近捷運，採光佳，有景觀，全新家電裝潢</td>\n",
       "      <td>新北市淡水區民族路</td>\n",
       "      <td>9F/11F</td>\n",
       "      <td>22,000元/月</td>\n",
       "      <td>2房1廳1衛1陽臺</td>\n",
       "      <td>24.00</td>\n",
       "      <td>電梯大樓/整層住家</td>\n",
       "    </tr>\n",
       "    <tr>\n",
       "      <th>9</th>\n",
       "      <td>2018-05-14</td>\n",
       "      <td>大衛營優質社區管理好，交通便利、裝潢佳</td>\n",
       "      <td>基隆市安樂區樂利三街</td>\n",
       "      <td>14F/18F</td>\n",
       "      <td>17,000元/月</td>\n",
       "      <td>2房1廳2衛2陽臺</td>\n",
       "      <td>32.00</td>\n",
       "      <td>電梯大樓/整層住家</td>\n",
       "    </tr>\n",
       "    <tr>\n",
       "      <th>13</th>\n",
       "      <td>2018-05-14</td>\n",
       "      <td>家樂福夜市附近，雅房出租2房2廳</td>\n",
       "      <td>嘉義市西區興業西路</td>\n",
       "      <td>7F/8F</td>\n",
       "      <td>7,500元/月</td>\n",
       "      <td>2房2廳1衛1陽臺</td>\n",
       "      <td>24.00</td>\n",
       "      <td>電梯大樓/整層住家</td>\n",
       "    </tr>\n",
       "    <tr>\n",
       "      <th>15</th>\n",
       "      <td>2018-05-14</td>\n",
       "      <td>台北市北投新民路捷運溫泉78坪雙拼美廈</td>\n",
       "      <td>台北市北投區新民路</td>\n",
       "      <td>2F/9F</td>\n",
       "      <td>25,000元/月</td>\n",
       "      <td>4房3廳3衛3陽臺</td>\n",
       "      <td>78.00</td>\n",
       "      <td>電梯大樓/整層住家</td>\n",
       "    </tr>\n",
       "    <tr>\n",
       "      <th>16</th>\n",
       "      <td>2018-05-13</td>\n",
       "      <td>出海口海景高樓層溫馨房</td>\n",
       "      <td>新北市淡水區中正東路一段</td>\n",
       "      <td>19F/21F</td>\n",
       "      <td>15,000元/月</td>\n",
       "      <td>1房1廳1衛0陽臺</td>\n",
       "      <td>18.01</td>\n",
       "      <td>電梯大樓/整層住家</td>\n",
       "    </tr>\n",
       "  </tbody>\n",
       "</table>\n",
       "</div>"
      ],
      "text/plain": [
       "   search_date                title       address floor_info      price  \\\n",
       "5   2018-05-12   近捷運，採光佳，有景觀，全新家電裝潢     新北市淡水區民族路     9F/11F  22,000元/月   \n",
       "9   2018-05-14  大衛營優質社區管理好，交通便利、裝潢佳    基隆市安樂區樂利三街    14F/18F  17,000元/月   \n",
       "13  2018-05-14     家樂福夜市附近，雅房出租2房2廳     嘉義市西區興業西路      7F/8F   7,500元/月   \n",
       "15  2018-05-14  台北市北投新民路捷運溫泉78坪雙拼美廈     台北市北投區新民路      2F/9F  25,000元/月   \n",
       "16  2018-05-13          出海口海景高樓層溫馨房  新北市淡水區中正東路一段    19F/21F  15,000元/月   \n",
       "\n",
       "       layout  building_area building_use  \n",
       "5   2房1廳1衛1陽臺          24.00    電梯大樓/整層住家  \n",
       "9   2房1廳2衛2陽臺          32.00    電梯大樓/整層住家  \n",
       "13  2房2廳1衛1陽臺          24.00    電梯大樓/整層住家  \n",
       "15  4房3廳3衛3陽臺          78.00    電梯大樓/整層住家  \n",
       "16  1房1廳1衛0陽臺          18.01    電梯大樓/整層住家  "
      ]
     },
     "execution_count": 169,
     "metadata": {},
     "output_type": "execute_result"
    }
   ],
   "source": [
    "df.head()"
   ]
  },
  {
   "cell_type": "code",
   "execution_count": 171,
   "metadata": {},
   "outputs": [],
   "source": [
    "df = df[['floor_info','price','layout','building_area','building_use']]"
   ]
  },
  {
   "cell_type": "code",
   "execution_count": 173,
   "metadata": {},
   "outputs": [],
   "source": [
    "df['price'] = df['price'].map(lambda e: int(e.replace('元/月', '').replace(',','')))"
   ]
  },
  {
   "cell_type": "code",
   "execution_count": 184,
   "metadata": {},
   "outputs": [],
   "source": [
    "import numpy as np\n",
    "df['floor'] = df['floor_info'].map(lambda e: int(e.split('/')[0].replace('F', '')) if 'F' in e.split('/')[0] else np.nan)"
   ]
  },
  {
   "cell_type": "code",
   "execution_count": 185,
   "metadata": {},
   "outputs": [],
   "source": [
    "df['total_floor'] = df['floor_info'].map(lambda e: int(e.split('/')[1].replace('F', '')))"
   ]
  },
  {
   "cell_type": "code",
   "execution_count": 187,
   "metadata": {},
   "outputs": [],
   "source": [
    "df['floor'] = df['floor'].fillna(df['total_floor'])"
   ]
  },
  {
   "cell_type": "code",
   "execution_count": 189,
   "metadata": {},
   "outputs": [],
   "source": [
    "del df['floor_info']"
   ]
  },
  {
   "cell_type": "code",
   "execution_count": 191,
   "metadata": {},
   "outputs": [],
   "source": [
    "df[['room', 'living_room', 'bathroom', 'balcony']] = df['layout'].str.extract('(\\d+)房(\\d+)廳(\\d+)衛(\\d+)陽臺')"
   ]
  },
  {
   "cell_type": "code",
   "execution_count": 193,
   "metadata": {},
   "outputs": [],
   "source": [
    "del df['layout']"
   ]
  },
  {
   "cell_type": "code",
   "execution_count": 195,
   "metadata": {},
   "outputs": [],
   "source": [
    "buse = pandas.get_dummies(df['building_use'])"
   ]
  },
  {
   "cell_type": "code",
   "execution_count": 197,
   "metadata": {},
   "outputs": [],
   "source": [
    "df = pandas.concat([df, buse], axis = 1)"
   ]
  },
  {
   "cell_type": "code",
   "execution_count": 198,
   "metadata": {},
   "outputs": [],
   "source": [
    "del df['building_use']"
   ]
  },
  {
   "cell_type": "code",
   "execution_count": 201,
   "metadata": {},
   "outputs": [],
   "source": [
    "df['room'] = df['room'].astype(int)\n",
    "df['living_room'] = df['living_room'].astype(int)\n",
    "df['bathroom'] = df['bathroom'].astype(int)\n",
    "df['balcony'] = df['balcony'].astype(int)"
   ]
  },
  {
   "cell_type": "code",
   "execution_count": 202,
   "metadata": {},
   "outputs": [
    {
     "name": "stdout",
     "output_type": "stream",
     "text": [
      "<class 'pandas.core.frame.DataFrame'>\n",
      "Int64Index: 100 entries, 5 to 431\n",
      "Data columns (total 15 columns):\n",
      "price            100 non-null int64\n",
      "building_area    100 non-null float64\n",
      "floor            100 non-null float64\n",
      "total_floor      100 non-null int64\n",
      "room             100 non-null int32\n",
      "living_room      100 non-null int32\n",
      "bathroom         100 non-null int32\n",
      "balcony          100 non-null int32\n",
      "公寓/住辦            100 non-null uint8\n",
      "公寓/整層住家          100 non-null uint8\n",
      "別墅/整層住家          100 non-null uint8\n",
      "透天厝/住辦           100 non-null uint8\n",
      "透天厝/整層住家         100 non-null uint8\n",
      "電梯大樓/住辦          100 non-null uint8\n",
      "電梯大樓/整層住家        100 non-null uint8\n",
      "dtypes: float64(2), int32(4), int64(2), uint8(7)\n",
      "memory usage: 6.2 KB\n"
     ]
    }
   ],
   "source": [
    "df.info()"
   ]
  },
  {
   "cell_type": "markdown",
   "metadata": {},
   "source": [
    "## 正規表達法"
   ]
  },
  {
   "cell_type": "code",
   "execution_count": 203,
   "metadata": {},
   "outputs": [
    {
     "data": {
      "text/plain": [
       "True"
      ]
     },
     "execution_count": 203,
     "metadata": {},
     "output_type": "execute_result"
    }
   ],
   "source": [
    "a = '0912-345-678'\n",
    "a = '0912-345678'\n",
    "a = '0912345678'\n",
    "\n",
    "'0912345678' == a"
   ]
  },
  {
   "cell_type": "code",
   "execution_count": 204,
   "metadata": {},
   "outputs": [
    {
     "data": {
      "text/plain": [
       "<_sre.SRE_Match object; span=(0, 1), match='3'>"
      ]
     },
     "execution_count": 204,
     "metadata": {},
     "output_type": "execute_result"
    }
   ],
   "source": [
    "n = '3'\n",
    "\n",
    "import re\n",
    "print(re.match('3', n))"
   ]
  },
  {
   "cell_type": "code",
   "execution_count": 205,
   "metadata": {},
   "outputs": [
    {
     "name": "stdout",
     "output_type": "stream",
     "text": [
      "None\n"
     ]
    }
   ],
   "source": [
    "print(re.match('5', n))"
   ]
  },
  {
   "cell_type": "code",
   "execution_count": 206,
   "metadata": {},
   "outputs": [
    {
     "name": "stdout",
     "output_type": "stream",
     "text": [
      "<_sre.SRE_Match object; span=(0, 1), match='3'>\n"
     ]
    }
   ],
   "source": [
    "# [] => match any character within []\n",
    "print(re.match('[0123456789]', n))"
   ]
  },
  {
   "cell_type": "code",
   "execution_count": 207,
   "metadata": {},
   "outputs": [
    {
     "name": "stdout",
     "output_type": "stream",
     "text": [
      "<_sre.SRE_Match object; span=(0, 1), match='3'>\n"
     ]
    }
   ],
   "source": [
    "# - => continuous\n",
    "print(re.match('[0-9]', n))"
   ]
  },
  {
   "cell_type": "code",
   "execution_count": 208,
   "metadata": {},
   "outputs": [
    {
     "name": "stdout",
     "output_type": "stream",
     "text": [
      "<_sre.SRE_Match object; span=(0, 1), match='3'>\n"
     ]
    }
   ],
   "source": [
    "# \\d => digit\n",
    "print(re.match('\\d', n))"
   ]
  },
  {
   "cell_type": "code",
   "execution_count": 210,
   "metadata": {},
   "outputs": [
    {
     "name": "stdout",
     "output_type": "stream",
     "text": [
      "<_sre.SRE_Match object; span=(0, 1), match='w'>\n"
     ]
    }
   ],
   "source": [
    "s = 'w'\n",
    "print(re.match('[abcdefghijklmnopqrstuvwxyz]', s))"
   ]
  },
  {
   "cell_type": "code",
   "execution_count": 211,
   "metadata": {},
   "outputs": [
    {
     "name": "stdout",
     "output_type": "stream",
     "text": [
      "<_sre.SRE_Match object; span=(0, 1), match='w'>\n"
     ]
    }
   ],
   "source": [
    "# [abcdefghijklmnopqrstuvwxyz] => [a-z]\n",
    "print(re.match('[a-z]', s))"
   ]
  },
  {
   "cell_type": "code",
   "execution_count": 212,
   "metadata": {},
   "outputs": [
    {
     "name": "stdout",
     "output_type": "stream",
     "text": [
      "None\n"
     ]
    }
   ],
   "source": [
    "s = 'W'\n",
    "print(re.match('[a-z]', s))"
   ]
  },
  {
   "cell_type": "code",
   "execution_count": 213,
   "metadata": {},
   "outputs": [
    {
     "name": "stdout",
     "output_type": "stream",
     "text": [
      "<_sre.SRE_Match object; span=(0, 1), match='W'>\n"
     ]
    }
   ],
   "source": [
    "print(re.match('[a-zA-Z]', s))"
   ]
  },
  {
   "cell_type": "code",
   "execution_count": 214,
   "metadata": {},
   "outputs": [
    {
     "name": "stdout",
     "output_type": "stream",
     "text": [
      "<_sre.SRE_Match object; span=(0, 1), match='3'>\n"
     ]
    }
   ],
   "source": [
    "s = '3'\n",
    "print(re.match('[a-zA-Z0-9]', s))"
   ]
  },
  {
   "cell_type": "code",
   "execution_count": 215,
   "metadata": {},
   "outputs": [
    {
     "name": "stdout",
     "output_type": "stream",
     "text": [
      "<_sre.SRE_Match object; span=(0, 1), match='3'>\n"
     ]
    }
   ],
   "source": [
    "# \\w => [a-zA-Z0-9]\n",
    "print(re.match('\\w', s))"
   ]
  },
  {
   "cell_type": "code",
   "execution_count": 216,
   "metadata": {},
   "outputs": [
    {
     "name": "stdout",
     "output_type": "stream",
     "text": [
      "<_sre.SRE_Match object; span=(0, 1), match='a'>\n"
     ]
    }
   ],
   "source": [
    "s = 'apple'\n",
    "print(re.match('\\w', s))"
   ]
  },
  {
   "cell_type": "code",
   "execution_count": 217,
   "metadata": {},
   "outputs": [
    {
     "name": "stdout",
     "output_type": "stream",
     "text": [
      "<_sre.SRE_Match object; span=(0, 5), match='apple'>\n"
     ]
    }
   ],
   "source": [
    "# {n} => match exact n characters\n",
    "print(re.match('\\w{5}', s))"
   ]
  },
  {
   "cell_type": "code",
   "execution_count": 218,
   "metadata": {},
   "outputs": [
    {
     "name": "stdout",
     "output_type": "stream",
     "text": [
      "<_sre.SRE_Match object; span=(0, 10), match='appledaily'>\n"
     ]
    }
   ],
   "source": [
    "# {m,n} => match at least m characters, at most n characters\n",
    "s = 'appledaily'\n",
    "print(re.match('\\w{3,20}', s))"
   ]
  },
  {
   "cell_type": "code",
   "execution_count": 219,
   "metadata": {},
   "outputs": [
    {
     "name": "stdout",
     "output_type": "stream",
     "text": [
      "<_sre.SRE_Match object; span=(0, 10), match='appledaily'>\n"
     ]
    }
   ],
   "source": [
    "# {1, } => match at least 1 character\n",
    "print(re.match('\\w{1,}', s))"
   ]
  },
  {
   "cell_type": "code",
   "execution_count": 225,
   "metadata": {},
   "outputs": [
    {
     "name": "stdout",
     "output_type": "stream",
     "text": [
      "<_sre.SRE_Match object; span=(0, 5), match='apple'>\n"
     ]
    }
   ],
   "source": [
    "# { , 5} => match at most 5 characters\n",
    "print(re.match('\\w{,5}', s))"
   ]
  },
  {
   "cell_type": "code",
   "execution_count": 226,
   "metadata": {},
   "outputs": [
    {
     "name": "stdout",
     "output_type": "stream",
     "text": [
      "<_sre.SRE_Match object; span=(0, 10), match='appledaily'>\n"
     ]
    }
   ],
   "source": [
    "# {0, } => match at least 0 character\n",
    "print(re.match('\\w{0,}', s))"
   ]
  },
  {
   "cell_type": "code",
   "execution_count": 227,
   "metadata": {},
   "outputs": [
    {
     "name": "stdout",
     "output_type": "stream",
     "text": [
      "<_sre.SRE_Match object; span=(0, 10), match='appledaily'>\n"
     ]
    }
   ],
   "source": [
    "# + => {1, } \n",
    "\n",
    "print(re.match('\\w+', s))"
   ]
  },
  {
   "cell_type": "code",
   "execution_count": 228,
   "metadata": {},
   "outputs": [
    {
     "name": "stdout",
     "output_type": "stream",
     "text": [
      "<_sre.SRE_Match object; span=(0, 10), match='appledaily'>\n"
     ]
    }
   ],
   "source": [
    "# * => {0, }\n",
    "print(re.match('\\w*', s))"
   ]
  },
  {
   "cell_type": "code",
   "execution_count": 232,
   "metadata": {},
   "outputs": [
    {
     "name": "stdout",
     "output_type": "stream",
     "text": [
      "<_sre.SRE_Match object; span=(0, 10), match='0912345678'>\n",
      "<_sre.SRE_Match object; span=(0, 11), match='0912-345678'>\n",
      "<_sre.SRE_Match object; span=(0, 12), match='0912-345-678'>\n",
      "None\n"
     ]
    }
   ],
   "source": [
    "phones = ['0912345678', '0912-345678','0912-345-678', '091234567812938173457348595345']\n",
    "for p in phones:\n",
    "    #m = re.match('09\\d{8}', p)\n",
    "    #m = re.match('09\\d{2}-{0,1}\\d{3}-{0,1}\\d{3}', p)\n",
    "    # {0,1} => ?\n",
    "    #m = re.match('09\\d{2}-?\\d{3}-?\\d{3}', p)\n",
    "    # ^ => match begin, $ => match end\n",
    "    m = re.match('^09\\d{2}-?\\d{3}-?\\d{3}$', p)\n",
    "    print(m)"
   ]
  },
  {
   "cell_type": "code",
   "execution_count": 236,
   "metadata": {},
   "outputs": [
    {
     "data": {
      "text/plain": [
       "<_sre.SRE_Match object; span=(0, 10), match='A123456789'>"
      ]
     },
     "execution_count": 236,
     "metadata": {},
     "output_type": "execute_result"
    }
   ],
   "source": [
    "uid = 'A123456789248238423048230'\n",
    "uid = 'A123456789'\n",
    "#re.match('[A-Z]\\d{9}',uid)\n",
    "re.match('^[A-Z]\\d{9}$',uid)"
   ]
  },
  {
   "cell_type": "code",
   "execution_count": 240,
   "metadata": {},
   "outputs": [
    {
     "data": {
      "text/plain": [
       "'陳林黃張李王吳劉蔡楊許鄭謝郭洪曾邱廖賴周徐蘇葉莊呂江何蕭羅高簡朱鍾施游詹沈彭胡余盧潘顏梁趙柯翁魏方孫張簡戴范歐陽宋鄧杜侯曹薛傅丁溫紀范姜蔣歐藍連唐馬董石卓程姚康馮古姜湯汪白田涂鄒巫尤鐘龔嚴韓黎阮袁童陸金錢邵'"
      ]
     },
     "execution_count": 240,
     "metadata": {},
     "output_type": "execute_result"
    }
   ],
   "source": [
    "names = '''陳，林，黃，張，李，王，吳，劉，蔡，楊，\n",
    "許，鄭，謝，郭，洪，曾，邱，廖，賴，周，\n",
    "徐，蘇，葉，莊，呂，江，何，蕭，羅，高，\n",
    "簡，朱，鍾，施，游，詹，沈，彭，胡，余，\n",
    "盧，潘，顏，梁，趙，柯，翁，魏，方，孫，\n",
    "張簡，戴，范，歐陽，宋，鄧，杜，侯，曹，薛，\n",
    "傅，丁，溫，紀，范姜，蔣，歐，藍，連，唐，\n",
    "馬，董，石，卓，程，姚，康，馮，古，姜，\n",
    "湯，汪，白，田，涂，鄒，巫，尤，鐘，龔，\n",
    "嚴，韓，黎，阮，袁，童，陸，金，錢，邵'''\n",
    "''.join([e.strip() for e in names.split('，')])"
   ]
  },
  {
   "cell_type": "code",
   "execution_count": 242,
   "metadata": {},
   "outputs": [],
   "source": [
    "n = '郭台銘'\n",
    "n = '汽車'\n",
    "re.match('^[陳林黃張李王吳劉蔡楊許鄭謝郭洪曾邱廖賴周徐蘇葉莊呂江何蕭羅高簡朱鍾施游詹沈彭胡余盧潘顏梁趙柯翁魏方孫張簡戴范歐陽宋鄧杜侯曹薛傅丁溫紀范姜蔣歐藍連唐馬董石卓程姚康馮古姜湯汪白田涂鄒巫尤鐘龔嚴韓黎阮袁童陸金錢邵]\\w{2,3}$',n)"
   ]
  },
  {
   "cell_type": "code",
   "execution_count": 244,
   "metadata": {},
   "outputs": [],
   "source": [
    "import pandas\n",
    "df = pandas.read_csv('https://raw.githubusercontent.com/ywchiu/ctbcpy/master/data/rent_591.csv', index_col = 0)\n"
   ]
  },
  {
   "cell_type": "code",
   "execution_count": 248,
   "metadata": {},
   "outputs": [
    {
     "data": {
      "text/html": [
       "<div>\n",
       "<style scoped>\n",
       "    .dataframe tbody tr th:only-of-type {\n",
       "        vertical-align: middle;\n",
       "    }\n",
       "\n",
       "    .dataframe tbody tr th {\n",
       "        vertical-align: top;\n",
       "    }\n",
       "\n",
       "    .dataframe thead th {\n",
       "        text-align: right;\n",
       "    }\n",
       "</style>\n",
       "<table border=\"1\" class=\"dataframe\">\n",
       "  <thead>\n",
       "    <tr style=\"text-align: right;\">\n",
       "      <th></th>\n",
       "      <th>0</th>\n",
       "      <th>1</th>\n",
       "      <th>2</th>\n",
       "      <th>3</th>\n",
       "    </tr>\n",
       "  </thead>\n",
       "  <tbody>\n",
       "    <tr>\n",
       "      <th>5</th>\n",
       "      <td>2</td>\n",
       "      <td>1</td>\n",
       "      <td>1</td>\n",
       "      <td>1</td>\n",
       "    </tr>\n",
       "    <tr>\n",
       "      <th>9</th>\n",
       "      <td>2</td>\n",
       "      <td>1</td>\n",
       "      <td>2</td>\n",
       "      <td>2</td>\n",
       "    </tr>\n",
       "    <tr>\n",
       "      <th>13</th>\n",
       "      <td>2</td>\n",
       "      <td>2</td>\n",
       "      <td>1</td>\n",
       "      <td>1</td>\n",
       "    </tr>\n",
       "    <tr>\n",
       "      <th>15</th>\n",
       "      <td>4</td>\n",
       "      <td>3</td>\n",
       "      <td>3</td>\n",
       "      <td>3</td>\n",
       "    </tr>\n",
       "    <tr>\n",
       "      <th>16</th>\n",
       "      <td>1</td>\n",
       "      <td>1</td>\n",
       "      <td>1</td>\n",
       "      <td>0</td>\n",
       "    </tr>\n",
       "  </tbody>\n",
       "</table>\n",
       "</div>"
      ],
      "text/plain": [
       "    0  1  2  3\n",
       "5   2  1  1  1\n",
       "9   2  1  2  2\n",
       "13  2  2  1  1\n",
       "15  4  3  3  3\n",
       "16  1  1  1  0"
      ]
     },
     "execution_count": 248,
     "metadata": {},
     "output_type": "execute_result"
    }
   ],
   "source": [
    "df['layout'].str.extract('(\\d+)房(\\d+)廳(\\d+)衛(\\d+)陽臺').head()"
   ]
  },
  {
   "cell_type": "code",
   "execution_count": 249,
   "metadata": {},
   "outputs": [],
   "source": [
    "df[['bedroom','living_room', 'bathroom', 'balcony']] = df['layout'].str.extract('(\\d+)房(\\d+)廳(\\d+)衛(\\d+)陽臺')"
   ]
  },
  {
   "cell_type": "code",
   "execution_count": 251,
   "metadata": {},
   "outputs": [
    {
     "data": {
      "text/html": [
       "<div>\n",
       "<style scoped>\n",
       "    .dataframe tbody tr th:only-of-type {\n",
       "        vertical-align: middle;\n",
       "    }\n",
       "\n",
       "    .dataframe tbody tr th {\n",
       "        vertical-align: top;\n",
       "    }\n",
       "\n",
       "    .dataframe thead th {\n",
       "        text-align: right;\n",
       "    }\n",
       "</style>\n",
       "<table border=\"1\" class=\"dataframe\">\n",
       "  <thead>\n",
       "    <tr style=\"text-align: right;\">\n",
       "      <th></th>\n",
       "      <th>search_date</th>\n",
       "      <th>title</th>\n",
       "      <th>address</th>\n",
       "      <th>floor_info</th>\n",
       "      <th>price</th>\n",
       "      <th>layout</th>\n",
       "      <th>building_area</th>\n",
       "      <th>building_use</th>\n",
       "      <th>bedroom</th>\n",
       "      <th>living_room</th>\n",
       "      <th>bathroom</th>\n",
       "      <th>balcony</th>\n",
       "    </tr>\n",
       "  </thead>\n",
       "  <tbody>\n",
       "    <tr>\n",
       "      <th>5</th>\n",
       "      <td>2018-05-12</td>\n",
       "      <td>近捷運，採光佳，有景觀，全新家電裝潢</td>\n",
       "      <td>新北市淡水區民族路</td>\n",
       "      <td>9F/11F</td>\n",
       "      <td>22,000元/月</td>\n",
       "      <td>2房1廳1衛1陽臺</td>\n",
       "      <td>24.00</td>\n",
       "      <td>電梯大樓/整層住家</td>\n",
       "      <td>2</td>\n",
       "      <td>1</td>\n",
       "      <td>1</td>\n",
       "      <td>1</td>\n",
       "    </tr>\n",
       "    <tr>\n",
       "      <th>9</th>\n",
       "      <td>2018-05-14</td>\n",
       "      <td>大衛營優質社區管理好，交通便利、裝潢佳</td>\n",
       "      <td>基隆市安樂區樂利三街</td>\n",
       "      <td>14F/18F</td>\n",
       "      <td>17,000元/月</td>\n",
       "      <td>2房1廳2衛2陽臺</td>\n",
       "      <td>32.00</td>\n",
       "      <td>電梯大樓/整層住家</td>\n",
       "      <td>2</td>\n",
       "      <td>1</td>\n",
       "      <td>2</td>\n",
       "      <td>2</td>\n",
       "    </tr>\n",
       "    <tr>\n",
       "      <th>13</th>\n",
       "      <td>2018-05-14</td>\n",
       "      <td>家樂福夜市附近，雅房出租2房2廳</td>\n",
       "      <td>嘉義市西區興業西路</td>\n",
       "      <td>7F/8F</td>\n",
       "      <td>7,500元/月</td>\n",
       "      <td>2房2廳1衛1陽臺</td>\n",
       "      <td>24.00</td>\n",
       "      <td>電梯大樓/整層住家</td>\n",
       "      <td>2</td>\n",
       "      <td>2</td>\n",
       "      <td>1</td>\n",
       "      <td>1</td>\n",
       "    </tr>\n",
       "    <tr>\n",
       "      <th>15</th>\n",
       "      <td>2018-05-14</td>\n",
       "      <td>台北市北投新民路捷運溫泉78坪雙拼美廈</td>\n",
       "      <td>台北市北投區新民路</td>\n",
       "      <td>2F/9F</td>\n",
       "      <td>25,000元/月</td>\n",
       "      <td>4房3廳3衛3陽臺</td>\n",
       "      <td>78.00</td>\n",
       "      <td>電梯大樓/整層住家</td>\n",
       "      <td>4</td>\n",
       "      <td>3</td>\n",
       "      <td>3</td>\n",
       "      <td>3</td>\n",
       "    </tr>\n",
       "    <tr>\n",
       "      <th>16</th>\n",
       "      <td>2018-05-13</td>\n",
       "      <td>出海口海景高樓層溫馨房</td>\n",
       "      <td>新北市淡水區中正東路一段</td>\n",
       "      <td>19F/21F</td>\n",
       "      <td>15,000元/月</td>\n",
       "      <td>1房1廳1衛0陽臺</td>\n",
       "      <td>18.01</td>\n",
       "      <td>電梯大樓/整層住家</td>\n",
       "      <td>1</td>\n",
       "      <td>1</td>\n",
       "      <td>1</td>\n",
       "      <td>0</td>\n",
       "    </tr>\n",
       "  </tbody>\n",
       "</table>\n",
       "</div>"
      ],
      "text/plain": [
       "   search_date                title       address floor_info      price  \\\n",
       "5   2018-05-12   近捷運，採光佳，有景觀，全新家電裝潢     新北市淡水區民族路     9F/11F  22,000元/月   \n",
       "9   2018-05-14  大衛營優質社區管理好，交通便利、裝潢佳    基隆市安樂區樂利三街    14F/18F  17,000元/月   \n",
       "13  2018-05-14     家樂福夜市附近，雅房出租2房2廳     嘉義市西區興業西路      7F/8F   7,500元/月   \n",
       "15  2018-05-14  台北市北投新民路捷運溫泉78坪雙拼美廈     台北市北投區新民路      2F/9F  25,000元/月   \n",
       "16  2018-05-13          出海口海景高樓層溫馨房  新北市淡水區中正東路一段    19F/21F  15,000元/月   \n",
       "\n",
       "       layout  building_area building_use bedroom living_room bathroom balcony  \n",
       "5   2房1廳1衛1陽臺          24.00    電梯大樓/整層住家       2           1        1       1  \n",
       "9   2房1廳2衛2陽臺          32.00    電梯大樓/整層住家       2           1        2       2  \n",
       "13  2房2廳1衛1陽臺          24.00    電梯大樓/整層住家       2           2        1       1  \n",
       "15  4房3廳3衛3陽臺          78.00    電梯大樓/整層住家       4           3        3       3  \n",
       "16  1房1廳1衛0陽臺          18.01    電梯大樓/整層住家       1           1        1       0  "
      ]
     },
     "execution_count": 251,
     "metadata": {},
     "output_type": "execute_result"
    }
   ],
   "source": [
    "df.head()"
   ]
  },
  {
   "cell_type": "code",
   "execution_count": 253,
   "metadata": {},
   "outputs": [
    {
     "data": {
      "text/plain": [
       "5         新北市淡水區民族路\n",
       "9        基隆市安樂區樂利三街\n",
       "13        嘉義市西區興業西路\n",
       "15        台北市北投區新民路\n",
       "16     新北市淡水區中正東路一段\n",
       "17        桃園市楊梅區蘋果路\n",
       "20        台北市松山區北寧路\n",
       "26        新竹縣竹北市新泰路\n",
       "30       桃園市大溪區僑愛一街\n",
       "31        台中市西屯區中清路\n",
       "44      台中市北屯區崇德十五路\n",
       "48        基隆市中正區義一路\n",
       "54        桃園市平鎮區大興路\n",
       "55      新北市深坑區北深路三段\n",
       "62        高雄市三民區順昌街\n",
       "67        高雄市大社區大順街\n",
       "74      新北市淡水區中正路一段\n",
       "81        新北市新莊區中港路\n",
       "85        高雄市楠梓區德民路\n",
       "87        桃園市桃園區大興路\n",
       "88       高雄市苓雅區中正一路\n",
       "89        台南市永康區中華路\n",
       "94        高雄市左營區先勝路\n",
       "95        新北市林口區仁愛路\n",
       "97       新北市林口區麗園一街\n",
       "102       台南市永康區永安路\n",
       "104       彰化縣員林市莒光路\n",
       "109       彰化縣大村鄉加錫巷\n",
       "119       新北市樹林區學府路\n",
       "124    台北市大安區敦化南路二段\n",
       "           ...     \n",
       "283       宜蘭縣五結鄉清水路\n",
       "288     台中市北屯區軍福十三路\n",
       "289       新竹市東區建功一路\n",
       "291        台中市西區忠義街\n",
       "296    台北市中山區民權東路二段\n",
       "304      新北市金山區忠孝一路\n",
       "305        台南市北區正覺街\n",
       "310        新竹市東區柴橋路\n",
       "317       高雄市苓雅區文昌路\n",
       "326      新竹縣竹北市復興一街\n",
       "332       桃園市平鎮區湧安路\n",
       "334    桃園市龜山區幸福二十三街\n",
       "335       新北市淡水區新春街\n",
       "356     台中市北屯區軍福十三路\n",
       "364    新竹縣竹北市嘉豐南路一段\n",
       "371       桃園市平鎮區龍德路\n",
       "375       苗栗縣苑裡鎮南興路\n",
       "376    新北市淡水區新市二路三段\n",
       "381       新北市中和區連城路\n",
       "382      桃園市中壢區溪洲三街\n",
       "384     新北市五股區成泰路三段\n",
       "388       新北市蘆洲區永平街\n",
       "393       高雄市鳳山區文清街\n",
       "397       新北市三峽區溪東路\n",
       "412       桃園市平鎮區新富街\n",
       "415     桃園市桃園區民有十二街\n",
       "422       台中市南區工學北路\n",
       "427       新北市中和區連城路\n",
       "429       高雄市楠梓區惠民路\n",
       "431     台中市西屯區青海路二段\n",
       "Name: address, Length: 100, dtype: object"
      ]
     },
     "execution_count": 253,
     "metadata": {},
     "output_type": "execute_result"
    }
   ],
   "source": [
    "df['address'].head()"
   ]
  },
  {
   "cell_type": "code",
   "execution_count": 262,
   "metadata": {},
   "outputs": [
    {
     "data": {
      "text/html": [
       "<div>\n",
       "<style scoped>\n",
       "    .dataframe tbody tr th:only-of-type {\n",
       "        vertical-align: middle;\n",
       "    }\n",
       "\n",
       "    .dataframe tbody tr th {\n",
       "        vertical-align: top;\n",
       "    }\n",
       "\n",
       "    .dataframe thead th {\n",
       "        text-align: right;\n",
       "    }\n",
       "</style>\n",
       "<table border=\"1\" class=\"dataframe\">\n",
       "  <thead>\n",
       "    <tr style=\"text-align: right;\">\n",
       "      <th></th>\n",
       "      <th>0</th>\n",
       "      <th>1</th>\n",
       "      <th>2</th>\n",
       "    </tr>\n",
       "  </thead>\n",
       "  <tbody>\n",
       "    <tr>\n",
       "      <th>5</th>\n",
       "      <td>新北市</td>\n",
       "      <td>淡水區</td>\n",
       "      <td>民族路</td>\n",
       "    </tr>\n",
       "    <tr>\n",
       "      <th>9</th>\n",
       "      <td>基隆市</td>\n",
       "      <td>安樂區</td>\n",
       "      <td>樂利三街</td>\n",
       "    </tr>\n",
       "    <tr>\n",
       "      <th>13</th>\n",
       "      <td>嘉義市</td>\n",
       "      <td>西區</td>\n",
       "      <td>興業西路</td>\n",
       "    </tr>\n",
       "    <tr>\n",
       "      <th>15</th>\n",
       "      <td>台北市</td>\n",
       "      <td>北投區</td>\n",
       "      <td>新民路</td>\n",
       "    </tr>\n",
       "    <tr>\n",
       "      <th>16</th>\n",
       "      <td>新北市</td>\n",
       "      <td>淡水區</td>\n",
       "      <td>中正東路</td>\n",
       "    </tr>\n",
       "  </tbody>\n",
       "</table>\n",
       "</div>"
      ],
      "text/plain": [
       "      0    1     2\n",
       "5   新北市  淡水區   民族路\n",
       "9   基隆市  安樂區  樂利三街\n",
       "13  嘉義市   西區  興業西路\n",
       "15  台北市  北投區   新民路\n",
       "16  新北市  淡水區  中正東路"
      ]
     },
     "execution_count": 262,
     "metadata": {},
     "output_type": "execute_result"
    }
   ],
   "source": [
    "df['address'].str.extract('(\\w+[市縣])(\\w+[區市鄉鎮])(\\w+[路街])').head()"
   ]
  },
  {
   "cell_type": "markdown",
   "metadata": {},
   "source": [
    "## Pandas IO"
   ]
  },
  {
   "cell_type": "code",
   "execution_count": 263,
   "metadata": {},
   "outputs": [],
   "source": [
    "import pandas\n",
    "df = pandas.read_csv('https://raw.githubusercontent.com/ywchiu/ctbcpy/master/data/rent_591.csv', index_col = 0)\n"
   ]
  },
  {
   "cell_type": "code",
   "execution_count": 265,
   "metadata": {},
   "outputs": [],
   "source": [
    "df.to_csv('rent_591.csv')"
   ]
  },
  {
   "cell_type": "code",
   "execution_count": 266,
   "metadata": {},
   "outputs": [],
   "source": [
    "df.to_csv('rent_591.tsv', sep ='\\t')"
   ]
  },
  {
   "cell_type": "code",
   "execution_count": 268,
   "metadata": {},
   "outputs": [],
   "source": [
    "df.to_excel('rent_591_2.xlsx')"
   ]
  },
  {
   "cell_type": "code",
   "execution_count": 269,
   "metadata": {},
   "outputs": [],
   "source": [
    "df.to_clipboard()"
   ]
  },
  {
   "cell_type": "code",
   "execution_count": 270,
   "metadata": {},
   "outputs": [
    {
     "data": {
      "text/html": [
       "<div>\n",
       "<style scoped>\n",
       "    .dataframe tbody tr th:only-of-type {\n",
       "        vertical-align: middle;\n",
       "    }\n",
       "\n",
       "    .dataframe tbody tr th {\n",
       "        vertical-align: top;\n",
       "    }\n",
       "\n",
       "    .dataframe thead th {\n",
       "        text-align: right;\n",
       "    }\n",
       "</style>\n",
       "<table border=\"1\" class=\"dataframe\">\n",
       "  <thead>\n",
       "    <tr style=\"text-align: right;\">\n",
       "      <th></th>\n",
       "      <th>search_date</th>\n",
       "      <th>title</th>\n",
       "      <th>address</th>\n",
       "      <th>floor_info</th>\n",
       "      <th>price</th>\n",
       "      <th>layout</th>\n",
       "      <th>building_area</th>\n",
       "      <th>building_use</th>\n",
       "    </tr>\n",
       "  </thead>\n",
       "  <tbody>\n",
       "    <tr>\n",
       "      <th>5</th>\n",
       "      <td>2018-05-12</td>\n",
       "      <td>近捷運，採光佳，有景觀，全新家電裝潢</td>\n",
       "      <td>新北市淡水區民族路</td>\n",
       "      <td>9F/11F</td>\n",
       "      <td>22,000元/月</td>\n",
       "      <td>2房1廳1衛1陽臺</td>\n",
       "      <td>24.00</td>\n",
       "      <td>電梯大樓/整層住家</td>\n",
       "    </tr>\n",
       "    <tr>\n",
       "      <th>9</th>\n",
       "      <td>2018-05-14</td>\n",
       "      <td>大衛營優質社區管理好，交通便利、裝潢佳</td>\n",
       "      <td>基隆市安樂區樂利三街</td>\n",
       "      <td>14F/18F</td>\n",
       "      <td>17,000元/月</td>\n",
       "      <td>2房1廳2衛2陽臺</td>\n",
       "      <td>32.00</td>\n",
       "      <td>電梯大樓/整層住家</td>\n",
       "    </tr>\n",
       "    <tr>\n",
       "      <th>13</th>\n",
       "      <td>2018-05-14</td>\n",
       "      <td>家樂福夜市附近，雅房出租2房2廳</td>\n",
       "      <td>嘉義市西區興業西路</td>\n",
       "      <td>7F/8F</td>\n",
       "      <td>7,500元/月</td>\n",
       "      <td>2房2廳1衛1陽臺</td>\n",
       "      <td>24.00</td>\n",
       "      <td>電梯大樓/整層住家</td>\n",
       "    </tr>\n",
       "    <tr>\n",
       "      <th>15</th>\n",
       "      <td>2018-05-14</td>\n",
       "      <td>台北市北投新民路捷運溫泉78坪雙拼美廈</td>\n",
       "      <td>台北市北投區新民路</td>\n",
       "      <td>2F/9F</td>\n",
       "      <td>25,000元/月</td>\n",
       "      <td>4房3廳3衛3陽臺</td>\n",
       "      <td>78.00</td>\n",
       "      <td>電梯大樓/整層住家</td>\n",
       "    </tr>\n",
       "    <tr>\n",
       "      <th>16</th>\n",
       "      <td>2018-05-13</td>\n",
       "      <td>出海口海景高樓層溫馨房</td>\n",
       "      <td>新北市淡水區中正東路一段</td>\n",
       "      <td>19F/21F</td>\n",
       "      <td>15,000元/月</td>\n",
       "      <td>1房1廳1衛0陽臺</td>\n",
       "      <td>18.01</td>\n",
       "      <td>電梯大樓/整層住家</td>\n",
       "    </tr>\n",
       "  </tbody>\n",
       "</table>\n",
       "</div>"
      ],
      "text/plain": [
       "   search_date                title       address floor_info      price  \\\n",
       "5   2018-05-12   近捷運，採光佳，有景觀，全新家電裝潢     新北市淡水區民族路     9F/11F  22,000元/月   \n",
       "9   2018-05-14  大衛營優質社區管理好，交通便利、裝潢佳    基隆市安樂區樂利三街    14F/18F  17,000元/月   \n",
       "13  2018-05-14     家樂福夜市附近，雅房出租2房2廳     嘉義市西區興業西路      7F/8F   7,500元/月   \n",
       "15  2018-05-14  台北市北投新民路捷運溫泉78坪雙拼美廈     台北市北投區新民路      2F/9F  25,000元/月   \n",
       "16  2018-05-13          出海口海景高樓層溫馨房  新北市淡水區中正東路一段    19F/21F  15,000元/月   \n",
       "\n",
       "       layout  building_area building_use  \n",
       "5   2房1廳1衛1陽臺          24.00    電梯大樓/整層住家  \n",
       "9   2房1廳2衛2陽臺          32.00    電梯大樓/整層住家  \n",
       "13  2房2廳1衛1陽臺          24.00    電梯大樓/整層住家  \n",
       "15  4房3廳3衛3陽臺          78.00    電梯大樓/整層住家  \n",
       "16  1房1廳1衛0陽臺          18.01    電梯大樓/整層住家  "
      ]
     },
     "execution_count": 270,
     "metadata": {},
     "output_type": "execute_result"
    }
   ],
   "source": [
    "df2 = pandas.read_clipboard()\n",
    "df2.head()"
   ]
  },
  {
   "cell_type": "code",
   "execution_count": 271,
   "metadata": {},
   "outputs": [
    {
     "data": {
      "text/html": [
       "<div>\n",
       "<style scoped>\n",
       "    .dataframe tbody tr th:only-of-type {\n",
       "        vertical-align: middle;\n",
       "    }\n",
       "\n",
       "    .dataframe tbody tr th {\n",
       "        vertical-align: top;\n",
       "    }\n",
       "\n",
       "    .dataframe thead th {\n",
       "        text-align: right;\n",
       "    }\n",
       "</style>\n",
       "<table border=\"1\" class=\"dataframe\">\n",
       "  <thead>\n",
       "    <tr style=\"text-align: right;\">\n",
       "      <th></th>\n",
       "      <th>search_date</th>\n",
       "      <th>title</th>\n",
       "      <th>address</th>\n",
       "      <th>floor_info</th>\n",
       "      <th>price</th>\n",
       "    </tr>\n",
       "  </thead>\n",
       "  <tbody>\n",
       "    <tr>\n",
       "      <th>5</th>\n",
       "      <td>2018-05-12</td>\n",
       "      <td>近捷運，採光佳，有景觀，全新家電裝潢</td>\n",
       "      <td>新北市淡水區民族路</td>\n",
       "      <td>9F/11F</td>\n",
       "      <td>22,000元/月</td>\n",
       "    </tr>\n",
       "    <tr>\n",
       "      <th>9</th>\n",
       "      <td>2018-05-14</td>\n",
       "      <td>大衛營優質社區管理好，交通便利、裝潢佳</td>\n",
       "      <td>基隆市安樂區樂利三街</td>\n",
       "      <td>14F/18F</td>\n",
       "      <td>17,000元/月</td>\n",
       "    </tr>\n",
       "    <tr>\n",
       "      <th>13</th>\n",
       "      <td>2018-05-14</td>\n",
       "      <td>家樂福夜市附近，雅房出租2房2廳</td>\n",
       "      <td>嘉義市西區興業西路</td>\n",
       "      <td>7F/8F</td>\n",
       "      <td>7,500元/月</td>\n",
       "    </tr>\n",
       "    <tr>\n",
       "      <th>15</th>\n",
       "      <td>2018-05-14</td>\n",
       "      <td>台北市北投新民路捷運溫泉78坪雙拼美廈</td>\n",
       "      <td>台北市北投區新民路</td>\n",
       "      <td>2F/9F</td>\n",
       "      <td>25,000元/月</td>\n",
       "    </tr>\n",
       "    <tr>\n",
       "      <th>16</th>\n",
       "      <td>2018-05-13</td>\n",
       "      <td>出海口海景高樓層溫馨房</td>\n",
       "      <td>新北市淡水區中正東路一段</td>\n",
       "      <td>19F/21F</td>\n",
       "      <td>15,000元/月</td>\n",
       "    </tr>\n",
       "    <tr>\n",
       "      <th>17</th>\n",
       "      <td>2018-05-15</td>\n",
       "      <td>新四房兩廳鄰合晶科技歡迎分租</td>\n",
       "      <td>桃園市楊梅區蘋果路</td>\n",
       "      <td>整棟/3F</td>\n",
       "      <td>23,000元/月</td>\n",
       "    </tr>\n",
       "  </tbody>\n",
       "</table>\n",
       "</div>"
      ],
      "text/plain": [
       "   search_date                title       address floor_info      price\n",
       "5   2018-05-12   近捷運，採光佳，有景觀，全新家電裝潢     新北市淡水區民族路     9F/11F  22,000元/月\n",
       "9   2018-05-14  大衛營優質社區管理好，交通便利、裝潢佳    基隆市安樂區樂利三街    14F/18F  17,000元/月\n",
       "13  2018-05-14     家樂福夜市附近，雅房出租2房2廳     嘉義市西區興業西路      7F/8F   7,500元/月\n",
       "15  2018-05-14  台北市北投新民路捷運溫泉78坪雙拼美廈     台北市北投區新民路      2F/9F  25,000元/月\n",
       "16  2018-05-13          出海口海景高樓層溫馨房  新北市淡水區中正東路一段    19F/21F  15,000元/月\n",
       "17  2018-05-15       新四房兩廳鄰合晶科技歡迎分租     桃園市楊梅區蘋果路      整棟/3F  23,000元/月"
      ]
     },
     "execution_count": 271,
     "metadata": {},
     "output_type": "execute_result"
    }
   ],
   "source": [
    "df3 = pandas.read_clipboard()\n",
    "df3"
   ]
  },
  {
   "cell_type": "markdown",
   "metadata": {},
   "source": [
    "## Grddy and Non-Greedy Match"
   ]
  },
  {
   "cell_type": "code",
   "execution_count": 278,
   "metadata": {},
   "outputs": [
    {
     "name": "stdout",
     "output_type": "stream",
     "text": [
      "122@456 789\n"
     ]
    }
   ],
   "source": [
    "s = '122@456@789'\n",
    "# \\w => [a-zA-Z0-9]\n",
    "# \\d => [0-9]\n",
    "# . => [0-9a-ZA-Z!@^#&$#(%_$)]... any character\n",
    "import re\n",
    "m = re.match('(.+)@(.+)', s)\n",
    "print(m.group(1), m.group(2))"
   ]
  },
  {
   "cell_type": "code",
   "execution_count": 279,
   "metadata": {},
   "outputs": [
    {
     "name": "stdout",
     "output_type": "stream",
     "text": [
      "122 456@789\n"
     ]
    }
   ],
   "source": [
    "\n",
    "# {0,1} => ?            : put after normal character\n",
    "# non-greedy match => ? : put after * or +\n",
    "\n",
    "m = re.match('(.+?)@(.+)', s)\n",
    "print(m.group(1), m.group(2))"
   ]
  },
  {
   "cell_type": "code",
   "execution_count": null,
   "metadata": {},
   "outputs": [],
   "source": []
  }
 ],
 "metadata": {
  "kernelspec": {
   "display_name": "Python 3",
   "language": "python",
   "name": "python3"
  },
  "language_info": {
   "codemirror_mode": {
    "name": "ipython",
    "version": 3
   },
   "file_extension": ".py",
   "mimetype": "text/x-python",
   "name": "python",
   "nbconvert_exporter": "python",
   "pygments_lexer": "ipython3",
   "version": "3.6.5"
  }
 },
 "nbformat": 4,
 "nbformat_minor": 2
}
